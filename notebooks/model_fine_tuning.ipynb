{
  "nbformat": 4,
  "nbformat_minor": 0,
  "metadata": {
    "colab": {
      "provenance": [],
      "machine_shape": "hm",
      "gpuType": "L4"
    },
    "kernelspec": {
      "name": "python3",
      "display_name": "Python 3"
    },
    "language_info": {
      "name": "python"
    },
    "accelerator": "GPU"
  },
  "cells": [
    {
      "cell_type": "markdown",
      "source": [
        "# How to auto fine-tune a YOLOv11 model\n",
        "---\n",
        "Using a glove tracking model as an example, we show a simple way to use Optuna for fine-tuning our model."
      ],
      "metadata": {
        "id": "I0vPetXqzd-m"
      }
    },
    {
      "cell_type": "markdown",
      "metadata": {
        "id": "m09A8n4djDwY"
      },
      "source": [
        "## Pre-work\n",
        "\n",
        "Let's make sure that we have access to GPU. We can use `nvidia-smi` command to do that. In case of any problems navigate to `Edit` -> `Notebook settings` -> `Hardware accelerator`, set it to `GPU`, and then click `Save`.\n",
        "\n",
        "*** Most model training highly benefits from using a GPU-accelerated environment and this is no exception. We recommend using an L4 device, for example, in terms of cost/value ***\n"
      ]
    },
    {
      "cell_type": "code",
      "execution_count": null,
      "metadata": {
        "id": "G4GH-z0Thw0N"
      },
      "outputs": [],
      "source": [
        "gpu_info = !nvidia-smi\n",
        "gpu_info = '\\n'.join(gpu_info)\n",
        "if gpu_info.find('failed') >= 0:\n",
        "  print('Not connected to a GPU')\n",
        "else:\n",
        "  print(gpu_info)"
      ]
    },
    {
      "cell_type": "markdown",
      "source": [
        "Let's also make sure that we have enough RAM available."
      ],
      "metadata": {
        "id": "n7JjuFye7CJP"
      }
    },
    {
      "cell_type": "code",
      "source": [
        "from psutil import virtual_memory\n",
        "ram_gb = virtual_memory().total / 1e9\n",
        "print('Your runtime has {:.1f} gigabytes of available RAM\\n'.format(ram_gb))\n",
        "\n",
        "if ram_gb < 20:\n",
        "  print('Not using a high-RAM runtime')\n",
        "else:\n",
        "  print('You are using a high-RAM runtime!')"
      ],
      "metadata": {
        "id": "sSsfHEVih9Ji"
      },
      "execution_count": null,
      "outputs": []
    },
    {
      "cell_type": "markdown",
      "source": [
        "*** Attention: *** At this point it is highly recommended that you mount your Google Drive and do not work in the simple Colab session because it is not permanent and you will lose any files you saved during the training session."
      ],
      "metadata": {
        "id": "WL-JFLk87aX9"
      }
    },
    {
      "cell_type": "markdown",
      "source": [
        "This is an example of mounting your Google Drive and working in a directory called \"model-training\" (which you had to previously created in your MyDrive)."
      ],
      "metadata": {
        "id": "yLYSRkI272u1"
      }
    },
    {
      "cell_type": "markdown",
      "source": [
        "If you want to mount your drive, uncomment the next cell and comment the following. If not, this demo will work on the ephemeral Colab session."
      ],
      "metadata": {
        "id": "yd0prwbo84l1"
      }
    },
    {
      "cell_type": "code",
      "source": [
        "\"\"\"\n",
        "from google.colab import drive\n",
        "drive.mount(\"/content/drive\", force_remount=True)\n",
        "work_path = \"/content/drive/MyDrive/model-training\"\n",
        "%cd {work_path}\n",
        "\"\"\""
      ],
      "metadata": {
        "id": "CJNiiux-EYDK"
      },
      "execution_count": null,
      "outputs": []
    },
    {
      "cell_type": "code",
      "source": [
        "work_path = \"/content\""
      ],
      "metadata": {
        "id": "aFnEQBo19y78"
      },
      "execution_count": null,
      "outputs": []
    },
    {
      "cell_type": "markdown",
      "metadata": {
        "id": "qWRGGT7Zjjbq"
      },
      "source": [
        "## Clone BaseballCV Repo, set as Current Directory and Install Requirements"
      ]
    },
    {
      "cell_type": "code",
      "source": [
        "!git clone https://github.com/dylandru/BaseballCV.git\n"
      ],
      "metadata": {
        "id": "KKPJ6UFFidkI"
      },
      "execution_count": null,
      "outputs": []
    },
    {
      "cell_type": "code",
      "source": [
        "%cd BaseballCV\n",
        "!pip install -r requirements.txt\n"
      ],
      "metadata": {
        "id": "_kXe52xfjWJ6"
      },
      "execution_count": null,
      "outputs": []
    },
    {
      "cell_type": "markdown",
      "metadata": {
        "id": "8V2RRIEhbwa0"
      },
      "source": [
        "## Download Dataset from BaseballCV"
      ]
    },
    {
      "cell_type": "markdown",
      "source": [
        "This class utility will download the annotated dataset for glove, rubber, home and the ball."
      ],
      "metadata": {
        "id": "Df06ryYKABJU"
      }
    },
    {
      "cell_type": "code",
      "source": [
        "from scripts.load_tools import LoadTools\n",
        "\n",
        "# Initialize LoadTools class\n",
        "load_tools = LoadTools()\n",
        "\n",
        "# Download images into unlabeled_ folder using alias\n",
        "dataset_path = load_tools.load_dataset(\"baseball_rubber_home_glove\")\n",
        "\n",
        "print(dataset_path)"
      ],
      "metadata": {
        "id": "YynCIBCYimpe"
      },
      "execution_count": null,
      "outputs": []
    },
    {
      "cell_type": "markdown",
      "source": [
        "### Now we create the config file for the training classes."
      ],
      "metadata": {
        "id": "2Nsktj42ANxF"
      }
    },
    {
      "cell_type": "code",
      "source": [
        "import yaml\n",
        "\n",
        "data = {'train' :  f'{work_path}/BaseballCV/{dataset_path}/{dataset_path}/train/images',\n",
        "        'val' :  f'{work_path}/BaseballCV/{dataset_path}/{dataset_path}/valid/images',\n",
        "        'test' :  f'{work_path}/BaseballCV/{dataset_path}/{dataset_path}/test/images',\n",
        "        'nc': 4,\n",
        "        'names': ['glove','homeplate','baseball','rubber']\n",
        "        }\n",
        "\n",
        "# overwrite the data to the .yaml file\n",
        "with open(f'{work_path}/BaseballCV/baseball_data.yaml', 'w') as f:\n",
        "    yaml.dump(data, f)\n",
        "\n",
        "# read the content in .yaml file\n",
        "with open(f'{work_path}/BaseballCV/baseball_data.yaml', 'r') as f:\n",
        "    hamster_yaml = yaml.safe_load(f)\n",
        "    display(hamster_yaml)"
      ],
      "metadata": {
        "id": "ZPCD7HD_iG6u"
      },
      "execution_count": null,
      "outputs": []
    },
    {
      "cell_type": "markdown",
      "source": [
        "Some cleaning of the label files."
      ],
      "metadata": {
        "id": "ezAvJXSGICM-"
      }
    },
    {
      "cell_type": "code",
      "source": [
        "import os\n",
        "\n",
        "# Directories for your label files\n",
        "label_dirs = [\n",
        "    f'{work_path}/BaseballCV/{dataset_path}/{dataset_path}/train/labels',\n",
        "    f'{work_path}/BaseballCV/{dataset_path}/{dataset_path}/valid/labels',\n",
        "    f'{work_path}/BaseballCV/{dataset_path}/{dataset_path}/test/labels'\n",
        "]\n",
        "\n",
        "# Function to remove lines with class 4\n",
        "def filter_labels(label_dir):\n",
        "    for label_file in os.listdir(label_dir):\n",
        "        label_path = os.path.join(label_dir, label_file)\n",
        "        with open(label_path, 'r') as file:\n",
        "            lines = file.readlines()\n",
        "\n",
        "        # Filter out annotations for class 4\n",
        "        filtered_lines = [line for line in lines if not line.startswith('4')]\n",
        "\n",
        "        # Rewrite the label file\n",
        "        with open(label_path, 'w') as file:\n",
        "            file.writelines(filtered_lines)\n",
        "\n",
        "# Process all label directories\n",
        "for label_dir in label_dirs:\n",
        "    filter_labels(label_dir)"
      ],
      "metadata": {
        "id": "8-KoqWIllEVI"
      },
      "execution_count": null,
      "outputs": []
    },
    {
      "cell_type": "markdown",
      "source": [
        "## Install Optuna\n",
        "This will be the framework used for auto tuning the model."
      ],
      "metadata": {
        "id": "yHr5MK52IJrO"
      }
    },
    {
      "cell_type": "code",
      "source": [
        "!pip install optuna"
      ],
      "metadata": {
        "id": "-cgAZkvZlfRk"
      },
      "execution_count": null,
      "outputs": []
    },
    {
      "cell_type": "markdown",
      "source": [
        "## Import the needed libraries.\n",
        "\n",
        "Ultralytics & Optuna"
      ],
      "metadata": {
        "id": "hLcWtMt6Ix5P"
      }
    },
    {
      "cell_type": "code",
      "source": [
        "import optuna\n",
        "from ultralytics import YOLO"
      ],
      "metadata": {
        "id": "heoQDwwwIxJO"
      },
      "execution_count": null,
      "outputs": []
    },
    {
      "cell_type": "markdown",
      "source": [
        "## Define the Objective function\n",
        "This function will execute the trials needed for finding the best parameters for the training of the model.\n",
        "\n",
        "For each trial, there will be 5 epochs, and the function will return the params for the best accuracy by means of mAP50-95.\n",
        "\n",
        "The function uses the YOLOv11 \"yolo11x.pt\" model for the pretrained model.\n",
        "\n",
        "Trials will be run for different combinations of the following parameters:\n",
        "\n",
        "lr: 1e-5 to 1e-2\n",
        "batch size: 4 to 16\n",
        "optimizer: AdamW, SGD"
      ],
      "metadata": {
        "id": "FIubNjSXJJPG"
      }
    },
    {
      "cell_type": "code",
      "source": [
        "# Define the objective function for Optuna\n",
        "def objective(trial):\n",
        "    # Define the hyperparameter search space\n",
        "    lr = trial.suggest_loguniform('lr', 1e-5, 1e-2)\n",
        "    batch_size = trial.suggest_categorical('batch_size', [4, 8, 16])\n",
        "    optimizer = trial.suggest_categorical('optimizer', ['AdamW', 'SGD'])\n",
        "\n",
        "    # Load pretrained YOLO model\n",
        "    model = YOLO(\"yolo11x.pt\")\n",
        "    print('Pretrained model loaded')\n",
        "\n",
        "    # Train YOLO model with the trial's hyperparameters for 5 epochs\n",
        "    model.train(data=f'{work_path}/BaseballCV/baseball_data.yaml',\n",
        "                epochs=5,              # Only 5 epochs for the trial\n",
        "                batch=batch_size,\n",
        "                imgsz=640,\n",
        "                optimizer=optimizer,\n",
        "                lr0=lr,\n",
        "                plots=True,\n",
        "                val=True)\n",
        "\n",
        "    # Evaluate the model and return validation accuracy\n",
        "    metrics = model.val()\n",
        "    return metrics.box.map  # Maximize accuracy (mean average precision)"
      ],
      "metadata": {
        "id": "bCH-qBVLKU51"
      },
      "execution_count": null,
      "outputs": []
    },
    {
      "cell_type": "markdown",
      "source": [
        "## Running the trials\n",
        "\n",
        "There will be executed 35 trials and the best results for accuracy will be stored in best_params.\n",
        "\n",
        "If you want to modify the number if trials, modify the n_trials variable."
      ],
      "metadata": {
        "id": "vX2tQnYMMY1X"
      }
    },
    {
      "cell_type": "code",
      "source": [
        "# Run Optuna study with 35 trials\n",
        "study = optuna.create_study(direction='maximize')\n",
        "study.optimize(objective, n_trials=35)\n",
        "\n",
        "# Get the best trial's hyperparameters\n",
        "best_params = study.best_trial.params\n",
        "print('Best hyperparameters found:', best_params)"
      ],
      "metadata": {
        "id": "-CPIbOULM1ZD"
      },
      "execution_count": null,
      "outputs": []
    },
    {
      "cell_type": "code",
      "source": [
        "# Get the best trial's hyperparameters\n",
        "best_params = study.best_trial.params\n",
        "print('Best hyperparameters found:', best_params)"
      ],
      "metadata": {
        "id": "EI10XyR8Q41D"
      },
      "execution_count": null,
      "outputs": []
    },
    {
      "cell_type": "markdown",
      "source": [
        "## Saving the parameters\n",
        "\n",
        "For reference, a file with them are saved. Also, a training_instructions.txt is also saved."
      ],
      "metadata": {
        "id": "AKSRNy-NM2A0"
      }
    },
    {
      "cell_type": "code",
      "source": [
        "# Save the best hyperparameters to a file\n",
        "with open('best_hyperparameters.yaml', 'w') as f:\n",
        "    yaml.dump(best_params, f)\n",
        "\n",
        "# Generate instructions for creating a model with these parameters\n",
        "instructions = f\"\"\"\n",
        "To create a YOLO model using the best hyperparameters found by Optuna, follow these steps:\n",
        "\n",
        "1. Load the YOLO model:\n",
        "   model = YOLO(\"yolo11x.pt\")\n",
        "\n",
        "2. Use the following parameters to train the model:\n",
        "\n",
        "   - Learning rate (lr0): {best_params['lr']}\n",
        "   - Batch size: {best_params['batch_size']}\n",
        "   - Optimizer: {best_params['optimizer']}\n",
        "\n",
        "3. Train the model with 25 epochs using this code:\n",
        "\n",
        "   model.train(data='{work_path}/baseball_data.yaml',\n",
        "               epochs=25,\n",
        "               batch={best_params['batch_size']},\n",
        "               imgsz=640,\n",
        "               optimizer='{best_params['optimizer']}',\n",
        "               lr0={best_params['lr']},\n",
        "               plots=True,\n",
        "               val=True)\n",
        "\"\"\"\n",
        "\n",
        "with open('training_instructions.txt', 'w') as f:\n",
        "    f.write(instructions)"
      ],
      "metadata": {
        "id": "J7d8APzINHhb"
      },
      "execution_count": null,
      "outputs": []
    },
    {
      "cell_type": "markdown",
      "source": [
        "## Training the final model\n",
        "\n",
        "Using the best parameters found in the previous trials, the model will be fully trained for 25 epochs.\n",
        "\n",
        "*** (You can modify the numbers of epochs to your liking) ***"
      ],
      "metadata": {
        "id": "t7AthFqLNIWa"
      }
    },
    {
      "cell_type": "code",
      "source": [
        "# Load the YOLO model again\n",
        "model = YOLO(\"yolo11x.pt\")\n",
        "\n",
        "# Train the final model using the best hyperparameters for 25 epochs\n",
        "model.train(data=f'{work_path}/BaseballCV/baseball_data.yaml',\n",
        "            epochs=25,                   # Train for 25 epochs with best params\n",
        "            batch=best_params['batch_size'],\n",
        "            imgsz=640,\n",
        "            optimizer=best_params['optimizer'],\n",
        "            lr0=best_params['lr'],\n",
        "            plots=True,                   # Generate plots for final training\n",
        "            val=True)"
      ],
      "metadata": {
        "id": "qzebDLFVnQJJ"
      },
      "execution_count": null,
      "outputs": []
    },
    {
      "cell_type": "markdown",
      "source": [
        "## Validation and showing the final model accuracy, (via mAP50-95)"
      ],
      "metadata": {
        "id": "kY4eSqftNf4D"
      }
    },
    {
      "cell_type": "code",
      "source": [
        "# Evaluate the final model\n",
        "metrics = model.val()\n",
        "print('Final model accuracy (mAP):', metrics.box.map)"
      ],
      "metadata": {
        "id": "6p1CWWTaNfYE"
      },
      "execution_count": null,
      "outputs": []
    }
  ]
}