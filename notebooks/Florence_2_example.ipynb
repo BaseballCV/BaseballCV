{
  "cells": [
    {
      "cell_type": "markdown",
      "metadata": {
        "id": "DQjdUKvQigN2"
      },
      "source": [
        "# How to Train a Florence 2 Model Using the Florence2 class.\n",
        "---\n",
        "\n"
      ]
    },
    {
      "cell_type": "markdown",
      "metadata": {
        "id": "m09A8n4djDwY"
      },
      "source": [
        "## Pre-work\n",
        "\n",
        "Let's make sure that we have access to GPU. We can use `nvidia-smi` command to do that. In case of any problems navigate to `Edit` -> `Notebook settings` -> `Hardware accelerator`, set it to `GPU`, and then click `Save`."
      ]
    },
    {
      "cell_type": "code",
      "execution_count": null,
      "metadata": {
        "id": "_5hX88yficL7"
      },
      "outputs": [],
      "source": [
        "!nvidia-smi"
      ]
    },
    {
      "cell_type": "markdown",
      "metadata": {
        "id": "UTprsNjHja4l"
      },
      "source": [
        "**NOTE:** To make it easier for us to manage datasets, images and models we create a `HOME` constant."
      ]
    },
    {
      "cell_type": "markdown",
      "metadata": {
        "id": "qWRGGT7Zjjbq"
      },
      "source": [
        "## Install needed packages"
      ]
    },
    {
      "cell_type": "code",
      "execution_count": null,
      "metadata": {
        "id": "ra-Pz4Xq3FJK"
      },
      "outputs": [],
      "source": [
        "# Install necessary packages\n",
        "!pip install torch transformers peft pillow matplotlib seaborn tqdm ultralytics"
      ]
    },
    {
      "cell_type": "markdown",
      "source": [
        "### Mount your Google Drive\n",
        "---\n",
        "You can comment this out if working on the ephemeral session but it is recommended."
      ],
      "metadata": {
        "id": "Bj3h2ZP3QQau"
      }
    },
    {
      "cell_type": "code",
      "source": [
        "# Mount Google Drive\n",
        "from google.colab import drive\n",
        "drive.mount('/content/drive')"
      ],
      "metadata": {
        "id": "5tt9c7gbKjTZ"
      },
      "execution_count": null,
      "outputs": []
    },
    {
      "cell_type": "code",
      "source": [
        "# Ask the user for the working directory name\n",
        "import os\n",
        "working_dir = input(\"Enter the name for the working directory: \")\n",
        "working_path = os.path.join('/content/drive/MyDrive', working_dir)\n",
        "os.makedirs(working_path, exist_ok=True)\n",
        "\n",
        "# Change directory to the working directory\n",
        "%cd {working_path}"
      ],
      "metadata": {
        "id": "1dV3CK5cKlwJ"
      },
      "execution_count": null,
      "outputs": []
    },
    {
      "cell_type": "markdown",
      "source": [
        "## Clone BaseballCV Repo and set as Current Directory"
      ],
      "metadata": {
        "id": "v-YMEefoasSl"
      }
    },
    {
      "cell_type": "code",
      "source": [
        "# Clone the repository\n",
        "!git clone https://github.com/dylandru/BaseballCV.git\n"
      ],
      "metadata": {
        "id": "jRuglEg2a29N"
      },
      "execution_count": null,
      "outputs": []
    },
    {
      "cell_type": "markdown",
      "source": [
        "### Install requirements for BaseballCV"
      ],
      "metadata": {
        "id": "VxSGh_Kcxduu"
      }
    },
    {
      "cell_type": "code",
      "source": [
        "# Change directory to the repository\n",
        "%cd BaseballCV\n",
        "!pip install -r requirements.txt"
      ],
      "metadata": {
        "id": "diq8Nq1unE47"
      },
      "execution_count": null,
      "outputs": []
    },
    {
      "cell_type": "markdown",
      "source": [
        "### Import scripts for dataset and model handling"
      ],
      "metadata": {
        "id": "tSoa8C20xjAW"
      }
    },
    {
      "cell_type": "code",
      "source": [
        "# Import necessary modules\n",
        "import sys\n",
        "from scripts import LoadTools\n",
        "from scripts import Florence2"
      ],
      "metadata": {
        "id": "TTmS3yQoIyz3"
      },
      "execution_count": null,
      "outputs": []
    },
    {
      "cell_type": "markdown",
      "source": [
        "### Download the Baseball Only Dataset\n",
        "---\n",
        "\n",
        "You can change the dataset name and download it, depending on your needs."
      ],
      "metadata": {
        "id": "R9sha_fgyYGm"
      }
    },
    {
      "cell_type": "code",
      "source": [
        "# Initialize the LoadTools class\n",
        "load_tools = LoadTools()\n",
        "\n",
        "# Download the 'baseball' dataset\n",
        "dataset_path = load_tools.load_dataset('baseball')\n",
        "print(f\"Dataset downloaded to: {os.path.abspath(dataset_path)}\")"
      ],
      "metadata": {
        "id": "cMSrRIGKKLTJ"
      },
      "execution_count": null,
      "outputs": []
    },
    {
      "cell_type": "code",
      "source": [
        "# Define the classes for the dataset\n",
        "classes = {\n",
        "    0: 'baseball',\n",
        "    1: 'glove',\n",
        "    2: 'bat',\n",
        "    3: 'player'\n",
        "}"
      ],
      "metadata": {
        "id": "Sjm3tTaxMoA0"
      },
      "execution_count": null,
      "outputs": []
    },
    {
      "cell_type": "markdown",
      "source": [
        "### Let's initialize the model class, Florence2 in this example."
      ],
      "metadata": {
        "id": "AsnF6Ty3yTYb"
      }
    },
    {
      "cell_type": "code",
      "source": [
        "# Initialize the Florence2 class\n",
        "florence_model = Florence2()"
      ],
      "metadata": {
        "id": "LZxxxU1RMpLo"
      },
      "execution_count": null,
      "outputs": []
    },
    {
      "cell_type": "markdown",
      "source": [
        "### Finally, let's train the model."
      ],
      "metadata": {
        "id": "gTHRYOOEz93i"
      }
    },
    {
      "cell_type": "code",
      "source": [
        "# Fine-tune the model\n",
        "\n",
        "# First, we have a basic template for default parameters:\n",
        "\n",
        "metrics = florence_model.finetune(\n",
        "    dataset=dataset_path,\n",
        "    classes=classes,\n",
        "    train_test_split=(80, 10, 10),\n",
        "    epochs=2,\n",
        "    save_dir=\"model_checkpoints\",\n",
        "    num_workers=0,\n",
        "    )\n",
        "\n",
        "# You can customize it more, as per this other example:\n",
        "\n",
        "\n",
        "\"\"\"\n",
        "metrics = florence_model.finetune(\n",
        "    dataset=dataset_path,\n",
        "    classes=classes,\n",
        "    train_test_split=(80, 10, 10),\n",
        "    epochs=20,\n",
        "    lr=4e-6,\n",
        "    save_dir=\"model_checkpoints\",\n",
        "    num_workers=0,\n",
        "    lora_r=8,\n",
        "    lora_scaling=8,\n",
        "    patience=5,\n",
        "    lora_dropout=0.05,\n",
        "    warmup_epochs=1,\n",
        "    lr_schedule=\"cosine\"\n",
        ")\n",
        "\"\"\"\n",
        "\n"
      ],
      "metadata": {
        "id": "hVGx_T5sM9Wc"
      },
      "execution_count": null,
      "outputs": []
    },
    {
      "cell_type": "markdown",
      "source": [
        "### Perform Inference on a Sample Image"
      ],
      "metadata": {
        "id": "32u3Q5Zr2l9-"
      }
    },
    {
      "cell_type": "code",
      "source": [
        "sample_image_path = os.path.join(dataset_path, 'images', 'sample_image.jpg')  # Replace with an actual image path\n",
        "results = florence_model.inference(image_path=sample_image_path, task=\"<OD>\")\n",
        "\n",
        "# Print the results\n",
        "print(results)"
      ],
      "metadata": {
        "id": "zn_xgPVW2j8E"
      },
      "execution_count": null,
      "outputs": []
    },
    {
      "cell_type": "markdown",
      "source": [
        "### If you want to load the resulting model later, you can use the following code:\n",
        "---\n",
        "Replace {working_path} accordingly."
      ],
      "metadata": {
        "id": "0tWfn_ae25GY"
      }
    },
    {
      "cell_type": "code",
      "source": [
        "# Define the path to the saved model checkpoint\n",
        "saved_model_path = os.path.join(working_path, 'model_checkpoints', 'best_model')\n",
        "\n",
        "# Initialize the Florence2 class with the saved model path\n",
        "florence_model = Florence2(model_id=saved_model_path)\n",
        "\n",
        "# Verify the model is loaded correctly\n",
        "print(f\"Model loaded from: {saved_model_path}\")\n"
      ],
      "metadata": {
        "id": "0_sChFsN3AvG"
      },
      "execution_count": null,
      "outputs": []
    },
    {
      "cell_type": "markdown",
      "source": [],
      "metadata": {
        "id": "6nEt6QzD3E1y"
      }
    }
  ],
  "metadata": {
    "accelerator": "GPU",
    "colab": {
      "gpuType": "A100",
      "provenance": [],
      "machine_shape": "hm"
    },
    "kernelspec": {
      "display_name": "Python 3",
      "name": "python3"
    },
    "language_info": {
      "name": "python"
    }
  },
  "nbformat": 4,
  "nbformat_minor": 0
}