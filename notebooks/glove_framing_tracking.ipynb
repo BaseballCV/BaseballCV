{
  "nbformat": 4,
  "nbformat_minor": 0,
  "metadata": {
    "colab": {
      "provenance": [],
      "machine_shape": "hm",
      "gpuType": "L4"
    },
    "kernelspec": {
      "name": "python3",
      "display_name": "Python 3"
    },
    "language_info": {
      "name": "python"
    },
    "accelerator": "GPU"
  },
  "cells": [
    {
      "cell_type": "markdown",
      "metadata": {
        "id": "DQjdUKvQigN2"
      },
      "source": [
        "# How to Infere & Extract Data from a Pre-Trained YOLO Detection Model - Glove Framing Tracking\n",
        "---\n",
        "If you have any questions, please contact the authors of the repository."
      ]
    },
    {
      "cell_type": "markdown",
      "metadata": {
        "id": "m09A8n4djDwY"
      },
      "source": [
        "## Pre-work\n",
        "\n",
        "Let's make sure that we have access to GPU. We can use `nvidia-smi` command to do that. In case of any problems navigate to `Edit` -> `Notebook settings` -> `Hardware accelerator`, set it to `GPU`, and then click `Save`."
      ]
    },
    {
      "cell_type": "code",
      "execution_count": null,
      "metadata": {
        "id": "_5hX88yficL7"
      },
      "outputs": [],
      "source": [
        "!nvidia-smi"
      ]
    },
    {
      "cell_type": "markdown",
      "metadata": {
        "id": "X8oLIkX2l2P0"
      },
      "source": [
        "## Clone BaseballCV Repo, set as Current Directory and Install Requirements"
      ]
    },
    {
      "cell_type": "code",
      "execution_count": null,
      "metadata": {
        "id": "NcQ87h5Ib1Cw"
      },
      "outputs": [],
      "source": [
        "!git clone https://github.com/dylandru/BaseballCV.git\n",
        "%cd BaseballCV\n",
        "!pip install -r requirements.txt"
      ]
    },
    {
      "cell_type": "markdown",
      "metadata": {
        "id": "7KYB7EouNMVo"
      },
      "source": [
        "## Import required libraries"
      ]
    },
    {
      "cell_type": "code",
      "execution_count": null,
      "metadata": {
        "id": "yh6RPO-4J7eo"
      },
      "outputs": [],
      "source": [
        "from scripts.load_tools import load_model\n",
        "from ultralytics import YOLO\n",
        "import cv2\n",
        "import numpy as np\n",
        "import matplotlib.pyplot as plt\n",
        "from matplotlib.backends.backend_agg import FigureCanvasAgg\n",
        "from matplotlib.offsetbox import OffsetImage, AnnotationBbox\n",
        "import torch\n",
        "import moviepy.editor as mpy\n"
      ]
    },
    {
      "cell_type": "markdown",
      "source": [
        "## Define the glove movement tracking function"
      ],
      "metadata": {
        "id": "wSXgCGg-epH6"
      }
    },
    {
      "cell_type": "code",
      "source": [
        "def track_glove_movement(model, video_path, output_path='glove_tracking.mp4'):\n",
        "    cap = cv2.VideoCapture(video_path)\n",
        "\n",
        "    frame_width = int(cap.get(cv2.CAP_PROP_FRAME_WIDTH))\n",
        "    frame_height = int(cap.get(cv2.CAP_PROP_FRAME_HEIGHT))\n",
        "    fps = int(cap.get(cv2.CAP_PROP_FPS))\n",
        "\n",
        "    # Perspective transformation points\n",
        "    src_points = np.array([\n",
        "        [frame_width * 0.3, frame_height * 0.8],\n",
        "        [frame_width * 0.7, frame_height * 0.8],\n",
        "        [frame_width * 0.7, frame_height * 0.2],\n",
        "        [frame_width * 0.3, frame_height * 0.2]\n",
        "    ], dtype=np.float32)\n",
        "\n",
        "    dst_height = frame_height\n",
        "    dst_width = int(dst_height * 0.4)\n",
        "    dst_points = np.array([\n",
        "        [0, dst_height - 1],\n",
        "        [dst_width - 1, dst_height - 1],\n",
        "        [dst_width - 1, 0],\n",
        "        [0, 0]\n",
        "    ], dtype=np.float32)\n",
        "\n",
        "    M = cv2.getPerspectiveTransform(src_points, dst_points)\n",
        "\n",
        "    fourcc = cv2.VideoWriter_fourcc(*'mp4v')\n",
        "    out = cv2.VideoWriter(output_path, fourcc, fps, (frame_width, frame_height))\n",
        "\n",
        "    glove_positions = []\n",
        "    glove_boxes = []\n",
        "\n",
        "    play_id = ''\n",
        "\n",
        "    # Set up plot figure\n",
        "    fig = plt.figure(figsize=(16, 6))\n",
        "    gs = fig.add_gridspec(1, 4, width_ratios=[1, 0.01, 0.4, 0.020])\n",
        "\n",
        "    ax1 = fig.add_subplot(gs[0])\n",
        "    ax2 = fig.add_subplot(gs[2])\n",
        "    fig.add_subplot(gs[3]).set_visible(False)\n",
        "    fig.add_subplot(gs[1]).set_visible(False)\n",
        "\n",
        "    plt.ion()\n",
        "    fig.suptitle(\n",
        "        f'Glove Movement throughout Play {play_id}',\n",
        "        fontsize=16,\n",
        "        fontweight='bold'\n",
        "    )\n",
        "\n",
        "    glove_img = plt.imread('/content/BaseballCV/assets/baseball_glove.png')\n",
        "\n",
        "    while True:\n",
        "        ret, frame = cap.read()\n",
        "        if not ret:\n",
        "            break\n",
        "\n",
        "        # YOLO inference\n",
        "        results = model(frame, device='cuda' if torch.cuda.is_available() else 'cpu')\n",
        "\n",
        "        for r in results:\n",
        "            boxes = r.boxes\n",
        "            for box in boxes:\n",
        "                if box.cls == 0:  # Assuming 0 is the glove class\n",
        "                    x1, y1, x2, y2 = box.xyxy[0].tolist()\n",
        "                    glove_center = ((x1 + x2) / 2, (y1 + y2) / 2)\n",
        "\n",
        "                    flat_glove_point = cv2.perspectiveTransform(np.array([[glove_center]]), M)[0][0]\n",
        "\n",
        "                    glove_positions.append(flat_glove_point)\n",
        "                    glove_boxes.append((x1, y1, x2, y2))\n",
        "\n",
        "                    centroid_x = int((x1 + x2) / 2)\n",
        "                    centroid_y = int((y1 + y2) / 2)\n",
        "\n",
        "                    cv2.circle(frame, (centroid_x, centroid_y), 5, (0, 0, 255), -1)  # Red dot\n",
        "                    cv2.rectangle(frame, (int(x1), int(y1)), (int(x2), int(y2)), (0, 255, 0), 2)\n",
        "\n",
        "        ax1.clear()\n",
        "        ax1.imshow(cv2.cvtColor(frame, cv2.COLOR_BGR2RGB))\n",
        "        ax1.axis('off')\n",
        "\n",
        "        ax2.clear()\n",
        "        ax2.set_facecolor('blue')\n",
        "        ax2.add_patch(plt.Rectangle((0, 0), dst_width, dst_height, fill=True, color='blue'))\n",
        "        if glove_positions:\n",
        "            x = [pos[0] for pos in glove_positions]\n",
        "            y = [pos[1] for pos in glove_positions]\n",
        "            ax2.plot(x, y, 'r-')\n",
        "\n",
        "            im = OffsetImage(glove_img, zoom=0.04)\n",
        "            ab = AnnotationBbox(im, (x[-1], y[-1]), xycoords='data', frameon=False)\n",
        "            ax2.add_artist(ab)\n",
        "\n",
        "        ax2.set_xlim(0, dst_width)\n",
        "        ax2.set_ylim(dst_height, 0)  # Invert y-axis\n",
        "        ax2.set_xticks([])\n",
        "        ax2.set_yticks([])\n",
        "\n",
        "        plt.tight_layout()\n",
        "\n",
        "        # Convert plot to image\n",
        "        canvas = FigureCanvasAgg(fig)\n",
        "        canvas.draw()\n",
        "        plot_image = np.frombuffer(canvas.tostring_rgb(), dtype='uint8')\n",
        "        plot_image = plot_image.reshape(canvas.get_width_height()[::-1] + (3,))\n",
        "\n",
        "        plot_image = cv2.resize(plot_image, (frame_width, frame_height))\n",
        "        plot_image = cv2.cvtColor(plot_image, cv2.COLOR_RGB2BGR)\n",
        "\n",
        "        out.write(plot_image)\n",
        "\n",
        "    cap.release()\n",
        "    out.release()\n",
        "    plt.ioff()\n",
        "    plt.close(fig)\n",
        "\n",
        "    return glove_positions, glove_boxes"
      ],
      "metadata": {
        "id": "2NGqxoAqNWoF"
      },
      "execution_count": null,
      "outputs": []
    },
    {
      "cell_type": "markdown",
      "source": [
        "## Define the video to be infered, the model to be used and the variables to receive the glove postions and boxes"
      ],
      "metadata": {
        "id": "92qTyBe5fBiL"
      }
    },
    {
      "cell_type": "code",
      "source": [
        "SOURCE_VIDEO_PATH = '/content/BaseballCV/assets/example_broadcast_video.mp4'\n",
        "\n",
        "# Load the model\n",
        "model = YOLO(load_model('glove_tracking'))\n",
        "\n",
        "# Run the glove tracking function\n",
        "glove_positions, glove_boxes = track_glove_movement(model, SOURCE_VIDEO_PATH)"
      ],
      "metadata": {
        "id": "U4b4ZKumQYPk"
      },
      "execution_count": null,
      "outputs": []
    },
    {
      "cell_type": "markdown",
      "source": [
        "**NOTE:** If you want to run inference using your own file as input, simply upload video to Google Colab and update `SOURCE_VIDEO_PATH` with the path leading to your file."
      ],
      "metadata": {
        "id": "LtV6mC6xfypo"
      }
    },
    {
      "cell_type": "markdown",
      "source": [
        "## Visualize the created video file"
      ],
      "metadata": {
        "id": "Qkd__nr6fYAS"
      }
    },
    {
      "cell_type": "code",
      "source": [
        "# Display the video using moviepy after processing\n",
        "video = mpy.VideoFileClip(\"glove_tracking.mp4\")\n",
        "resized_video = video.resize((640, 360))  # Resize as needed\n",
        "mpy.ipython_display(resized_video)"
      ],
      "metadata": {
        "id": "HjboEWUNWYKz"
      },
      "execution_count": null,
      "outputs": []
    },
    {
      "cell_type": "markdown",
      "source": [
        "## Remember you obtained the coordinates from the glove for your desired use."
      ],
      "metadata": {
        "id": "fd60kegcffV0"
      }
    },
    {
      "cell_type": "code",
      "source": [
        "print(glove_positions)"
      ],
      "metadata": {
        "id": "SxFusnbMbpbs"
      },
      "execution_count": null,
      "outputs": []
    },
    {
      "cell_type": "code",
      "source": [
        "print(glove_boxes)"
      ],
      "metadata": {
        "id": "AkvEGJaCbvrb"
      },
      "execution_count": null,
      "outputs": []
    }
  ]
}