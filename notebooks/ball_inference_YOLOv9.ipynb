{
  "cells": [
    {
      "cell_type": "markdown",
      "metadata": {
        "id": "DQjdUKvQigN2"
      },
      "source": [
        "# How to Infere & Extract Data from a Custom YOLO Detection Model - Ball Tracking"
      ]
    },
    {
      "cell_type": "markdown",
      "metadata": {
        "id": "m09A8n4djDwY"
      },
      "source": [
        "## Pre-work\n",
        "\n",
        "Let's make sure that we have access to GPU. We can use `nvidia-smi` command to do that. In case of any problems navigate to `Edit` -> `Notebook settings` -> `Hardware accelerator`, set it to `GPU`, and then click `Save`."
      ]
    },
    {
      "cell_type": "code",
      "execution_count": null,
      "metadata": {
        "colab": {
          "base_uri": "https://localhost:8080/"
        },
        "id": "_5hX88yficL7",
        "outputId": "19acea01-5e28-4aaf-b801-b4e4b5f19af2"
      },
      "outputs": [
        {
          "ename": "",
          "evalue": "",
          "output_type": "error",
          "traceback": [
            "\u001b[1;31mRunning cells with 'Python 3.12.3' requires the ipykernel package.\n",
            "\u001b[1;31mRun the following command to install 'ipykernel' into the Python environment. \n",
            "\u001b[1;31mCommand: '/bin/python3 -m pip install ipykernel -U --user --force-reinstall'"
          ]
        }
      ],
      "source": [
        "!nvidia-smi"
      ]
    },
    {
      "cell_type": "markdown",
      "metadata": {
        "id": "qWRGGT7Zjjbq"
      },
      "source": [
        "## Clone BaseballCV Repo, set as Current Directory and Install Requirements"
      ]
    },
    {
      "cell_type": "code",
      "execution_count": null,
      "metadata": {
        "colab": {
          "base_uri": "https://localhost:8080/"
        },
        "id": "ra-Pz4Xq3FJK",
        "outputId": "beff6522-18f4-445d-d180-957a15d7e090"
      },
      "outputs": [],
      "source": [
        "!git clone https://github.com/dylandru/BaseballCV.git\n",
        "%cd BaseballCV\n",
        "!pip install -r requirements.txt\n",
        "from ultralytics import YOLO"
      ]
    },
    {
      "cell_type": "markdown",
      "metadata": {
        "id": "8V2RRIEhbwa0"
      },
      "source": [
        "## Download Example Image from Dataset"
      ]
    },
    {
      "cell_type": "markdown",
      "metadata": {
        "id": "-1i5Zqahb4dt"
      },
      "source": [
        "**NOTE:** If you want to run inference using your own file as input, simply upload image to Google Colab and update SOURCE_IMAGE_PATH with the path leading to your file."
      ]
    },
    {
      "cell_type": "code",
      "execution_count": null,
      "metadata": {
        "colab": {
          "base_uri": "https://localhost:8080/"
        },
        "id": "rRUboY5-b2K-",
        "outputId": "db0514fb-faab-47da-b060-8ee5f9f78364"
      },
      "outputs": [],
      "source": [
        "from scripts.load_tools import LoadTools\n",
        "\n",
        "load_tools.load_dataset(\"baseball_rubber_home_glove.txt) #can be any dataset within files"
      ]
    },
    {
      "cell_type": "code",
      "execution_count": null,
      "metadata": {
        "colab": {
          "base_uri": "https://localhost:8080/"
        },
        "id": "4GmiRsnDcR_X",
        "outputId": "6c8acaac-154e-4629-ddd5-8dcebb584717"
      },
      "outputs": [],
      "source": [
        "SOURCE_IMAGE_PATH = \"baseball_rubber_home_glove/baseball_rubber_home_glove/train/images/0000196.jpg\"\n",
        "print(\"Source Image Updated.\")\n",
        "\n"
      ]
    },
    {
      "cell_type": "markdown",
      "metadata": {
        "id": "MovzpE9YccDC"
      },
      "source": [
        "## Box Detection with Pre-Trained model (**Baseball/Rubber/Home Detection Model**)"
      ]
    },
    {
      "cell_type": "markdown",
      "metadata": {
        "id": "RUXBKmnpcv4w"
      },
      "source": [
        "NOTE: This can be used with any type of detection model, although the process may slightly differ for other types of YOLO models."
      ]
    },
    {
      "cell_type": "code",
      "execution_count": null,
      "metadata": {
        "colab": {
          "base_uri": "https://localhost:8080/"
        },
        "id": "Nz0lAYT1c0J3",
        "outputId": "b1b705eb-7753-4e4c-cd74-48bdeae9a248"
      },
      "outputs": [],
      "source": [
        "from scripts.load_tools import load_model\n",
        "\n",
        "model_weights = load_model(model_alias='ball_tracking')\n",
        "model = YOLO(model_weights)\n"
      ]
    },
    {
      "cell_type": "code",
      "execution_count": null,
      "metadata": {},
      "outputs": [],
      "source": [
        "results = model.predict(source=SOURCE_IMAGE_PATH, save=True)"
      ]
    },
    {
      "cell_type": "markdown",
      "metadata": {},
      "source": [
        "**NOTE:** By default, the results of each subsequent inference sessions are saved in `/runs/detect/predict`, in directories named `exp`, `exp2`, `exp3`, ... You can override this behavior by using the `--name` parameter."
      ]
    },
    {
      "cell_type": "code",
      "execution_count": null,
      "metadata": {
        "colab": {
          "base_uri": "https://localhost:8080/",
          "height": 355
        },
        "id": "TKfVGKP4dEwY",
        "outputId": "2ccf2241-07cb-419e-f142-acbcdbd94821"
      },
      "outputs": [],
      "source": [
        "from IPython.display import Image\n",
        "\n",
        "Image(filename=\"runs/detect/predict/0000196.jpg\", width=600)"
      ]
    },
    {
      "cell_type": "markdown",
      "metadata": {},
      "source": [
        "## Process Box Detections"
      ]
    },
    {
      "cell_type": "markdown",
      "metadata": {},
      "source": [
        "**EXAMPLE:** Returning Box Predictions as Tensors"
      ]
    },
    {
      "cell_type": "code",
      "execution_count": null,
      "metadata": {},
      "outputs": [],
      "source": [
        "for r in results: #access predictions from frame\n",
        "  for box in r.boxes: #access individual boxes from frame\n",
        "    print(box.xywh) #print x, y coordinate and width/height of box as tensor"
      ]
    },
    {
      "cell_type": "markdown",
      "metadata": {},
      "source": [
        "**EXAMPLE:** Since Tensors are not always the most ideal data format, you can convert the box predictions to a numpy array."
      ]
    },
    {
      "cell_type": "code",
      "execution_count": null,
      "metadata": {},
      "outputs": [],
      "source": [
        "import numpy\n",
        "\n",
        "for r in results: #access predictions from frame\n",
        "  for box in r.boxes.cpu().numpy(): #access individual boxes from frame, move to cpu memory, convert to numpy array from tensor\n",
        "    print(box.xywh) #print x, y coordinate and width/height of box as tensor"
      ]
    },
    {
      "cell_type": "markdown",
      "metadata": {},
      "source": [
        "**EXAMPLE:** The output of the box prediction can be outputted in multiple formats, not just X, Y, W, H. Other aspects of the boxes can also be outputted."
      ]
    },
    {
      "cell_type": "code",
      "execution_count": null,
      "metadata": {},
      "outputs": [],
      "source": [
        "for r in results:\n",
        "  for box in r.boxes.cpu().numpy():\n",
        "    print(f\"XYXY: {box.xyxy}\")\n",
        "    print(f\"XYWHN (Normalized XYWH): {box.xywh}\")\n",
        "    print(f\"XYXYN (Normalized XYXY): {box.xyxyn}\")\n",
        "    print(f\"Confidence: {box.conf}\")\n",
        "    print(f\"Track ID: {box.id}\")\n",
        "    print(f\"Class Value: {box.cls} \\n\")"
      ]
    },
    {
      "cell_type": "markdown",
      "metadata": {},
      "source": [
        "## Utilizing OpenCV to Visualize Predictions"
      ]
    },
    {
      "cell_type": "markdown",
      "metadata": {},
      "source": [
        "**EXAMPLE:** Visualize Rectangles Individually on Each Image"
      ]
    },
    {
      "cell_type": "code",
      "execution_count": null,
      "metadata": {},
      "outputs": [],
      "source": [
        "import cv2\n",
        "from google.colab.patches import cv2_imshow\n",
        "\n",
        "for box in r.boxes.cpu().numpy():\n",
        "    image = cv2.imread(SOURCE_IMAGE_PATH)\n",
        "    x1, y1, x2, y2 = box.xyxy[0]\n",
        "    cv2.rectangle(image, (int(x1), int(y1)), (int(x2), int(y2)), (0, 255, 0), 2)\n",
        "    cv2_imshow(image)"
      ]
    },
    {
      "cell_type": "markdown",
      "metadata": {},
      "source": [
        "**EXAMPLE:** Each object was able to be detected across images with the numerical output. Utilizing the other classes and some reconfiguration, this can be done on a singular image with the class name and confidence of class."
      ]
    },
    {
      "cell_type": "code",
      "execution_count": null,
      "metadata": {},
      "outputs": [],
      "source": [
        "image = cv2.imread(SOURCE_IMAGE_PATH)\n",
        "\n",
        "for box in r.boxes.cpu().numpy():\n",
        "    x1, y1, x2, y2 = box.xyxy[0]\n",
        "    cv2.rectangle(image, (int(x1), int(y1)), (int(x2), int(y2)), (0, 255, 0), 2) #draw rectangle\n",
        "\n",
        "    class_id = int(box.cls.item())\n",
        "    class_name = model.names[class_id] #get class name based on ID\n",
        "    conf = float(box.conf.item())\n",
        "\n",
        "    label = f\"Class: {class_name}, Conf: {conf:.3f}\"\n",
        "    cv2.putText(image, label, (int(x1), int(y1)-10), cv2.FONT_HERSHEY_SIMPLEX, 0.9, (0,255,0), 2) #put class and confidence\n",
        "\n",
        "cv2_imshow(image)"
      ]
    },
    {
      "cell_type": "markdown",
      "metadata": {
        "id": "_EW21kBg-YXo"
      },
      "source": [
        "## Inference on video"
      ]
    },
    {
      "cell_type": "code",
      "execution_count": null,
      "metadata": {
        "colab": {
          "base_uri": "https://localhost:8080/"
        },
        "id": "2SjlC_qViimd",
        "outputId": "1a02ac1a-603a-41de-eb90-493deed40749"
      },
      "outputs": [],
      "source": [
        "SOURCE_VIDEO_PATH = \"/content/BaseballCV/assets/hunter_harvey_splitter.avi\"\n",
        "print(\"Source Video Updated.\")"
      ]
    },
    {
      "cell_type": "code",
      "execution_count": null,
      "metadata": {
        "colab": {
          "base_uri": "https://localhost:8080/"
        },
        "id": "fWm2aJ9-i8GY",
        "outputId": "f2b85baa-2e70-48d6-decf-8c2b5c897523"
      },
      "outputs": [],
      "source": [
        "results = model.predict(source=SOURCE_VIDEO_PATH, save=True)"
      ]
    },
    {
      "cell_type": "code",
      "execution_count": null,
      "metadata": {
        "colab": {
          "base_uri": "https://localhost:8080/"
        },
        "id": "AFosmGiKmRT1",
        "outputId": "f5b0c350-5336-46ae-ba78-97f81dbc6aba"
      },
      "outputs": [],
      "source": [
        "%cd /content/BaseballCV/runs/detect/predict\n",
        "!ls"
      ]
    },
    {
      "cell_type": "code",
      "execution_count": null,
      "metadata": {
        "colab": {
          "base_uri": "https://localhost:8080/",
          "height": 469
        },
        "id": "ciu3p3W8kBD1",
        "outputId": "97a1f6a9-c3ce-428d-acc4-1db28a77f871"
      },
      "outputs": [],
      "source": [
        "import moviepy.editor\n",
        "\n",
        "# Load the video file\n",
        "video = moviepy.editor.VideoFileClip(filename=\"hunter_harvey_splitter.avi\")\n",
        "# Resize the video to a new resolution, e.g., (width, height)\n",
        "resized_video = video.resize((640, 360))  # Example: resizing to 640x360\n",
        "moviepy.editor.ipython_display(resized_video)"
      ]
    },
    {
      "cell_type": "markdown",
      "metadata": {
        "id": "4fwKrEyN_TEA"
      },
      "source": [
        "**NOTE:** If you want to run inference using your own file as input, simply upload video to Google Colab and update `SOURCE_VIDEO_PATH` with the path leading to your file."
      ]
    },
    {
      "cell_type": "markdown",
      "metadata": {},
      "source": [
        "##**CONGRATS!** You utilized the output of the Ball Detector model to recreate the prediction on the image!"
      ]
    }
  ],
  "metadata": {
    "accelerator": "GPU",
    "colab": {
      "gpuType": "T4",
      "provenance": []
    },
    "kernelspec": {
      "display_name": "Python 3",
      "name": "python3"
    },
    "language_info": {
      "name": "python",
      "version": "3.12.3"
    }
  },
  "nbformat": 4,
  "nbformat_minor": 0
}
