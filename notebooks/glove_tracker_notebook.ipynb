{
  "cells": [
    {
      "cell_type": "markdown",
      "metadata": {
        "id": "l3mbwH-W1oAY"
      },
      "source": [
        "# BaseballCV: Catcher's Glove Tracking and Analysis\n",
        "\n",
        "In this notebook, we'll explore BaseballCV's `GloveTracker` class, a powerful tool for tracking and analyzing catcher's glove movement in baseball videos. This tracking capability allows coaches, analysts, and researchers to gain valuable insights into catcher positioning, movement patterns, and receiving techniques.\n",
        "\n",
        "## What you'll learn:\n",
        "- How to set up BaseballCV for glove tracking\n",
        "- Understanding the technology behind glove tracking\n",
        "- Processing individual videos for detailed analysis\n",
        "- Batch processing multiple videos for comparative studies\n",
        "- Scraping and analyzing MLB videos from Baseball Savant\n",
        "- Interpreting glove tracking data and visualizations\n",
        "\n",
        "Let's get started!"
      ]
    },
    {
      "cell_type": "markdown",
      "metadata": {
        "id": "SI4qQp0X1oAc"
      },
      "source": [
        "## 1. Environment Setup\n",
        "\n",
        "First, let's check if we have access to a GPU, which will speed up our video processing significantly:"
      ]
    },
    {
      "cell_type": "code",
      "execution_count": 1,
      "metadata": {
        "colab": {
          "base_uri": "https://localhost:8080/"
        },
        "id": "huV5VGfU1oAe",
        "outputId": "998dd9c8-f020-4ebd-fe92-123e14c4decb"
      },
      "outputs": [
        {
          "output_type": "stream",
          "name": "stdout",
          "text": [
            "Number of CUDA devices: 1\n",
            "Device name: NVIDIA L4\n"
          ]
        }
      ],
      "source": [
        "import torch\n",
        "\n",
        "if torch.cuda.is_available():\n",
        "    device_count = torch.cuda.device_count()\n",
        "    device_name = torch.cuda.get_device_name(0)\n",
        "    print(f\"Number of CUDA devices: {device_count}\")\n",
        "    print(f\"Device name: {device_name}\")\n",
        "else:\n",
        "    print(\"CUDA is not available. Processing will be slower on CPU.\")"
      ]
    },
    {
      "cell_type": "markdown",
      "metadata": {
        "id": "NVpaduBw1oAg"
      },
      "source": [
        "Next, we'll install the necessary dependencies and clone the BaseballCV repository:"
      ]
    },
    {
      "cell_type": "code",
      "execution_count": 2,
      "metadata": {
        "colab": {
          "base_uri": "https://localhost:8080/"
        },
        "id": "l3b6s-mg1oAi",
        "outputId": "4afb05e5-65a5-4048-c084-9f16b73203e9"
      },
      "outputs": [
        {
          "output_type": "stream",
          "name": "stdout",
          "text": [
            "Collecting git+https://github.com/Jensen-holm/statcast-era-pitches.git\n",
            "  Cloning https://github.com/Jensen-holm/statcast-era-pitches.git to /tmp/pip-req-build-47bu0_3b\n",
            "  Running command git clone --filter=blob:none --quiet https://github.com/Jensen-holm/statcast-era-pitches.git /tmp/pip-req-build-47bu0_3b\n",
            "  Resolved https://github.com/Jensen-holm/statcast-era-pitches.git to commit 1532fe62d91a21028137bb60baa587ec6fd55854\n",
            "  Installing build dependencies ... \u001b[?25l\u001b[?25hdone\n",
            "  Getting requirements to build wheel ... \u001b[?25l\u001b[?25hdone\n",
            "  Preparing metadata (pyproject.toml) ... \u001b[?25l\u001b[?25hdone\n",
            "Requirement already satisfied: duckdb in /usr/local/lib/python3.11/dist-packages (from statcast_pitches==1.0.0) (1.2.1)\n",
            "Requirement already satisfied: polars in /usr/local/lib/python3.11/dist-packages (from statcast_pitches==1.0.0) (1.21.0)\n",
            "Requirement already satisfied: pyarrow in /usr/local/lib/python3.11/dist-packages (from statcast_pitches==1.0.0) (18.1.0)\n",
            "Building wheels for collected packages: statcast_pitches\n",
            "  Building wheel for statcast_pitches (pyproject.toml) ... \u001b[?25l\u001b[?25hdone\n",
            "  Created wheel for statcast_pitches: filename=statcast_pitches-1.0.0-py3-none-any.whl size=4397 sha256=80df6d224d7f7846566967698071d2d4acd35b64a5ea465ae3efd0644aa83ded\n",
            "  Stored in directory: /tmp/pip-ephem-wheel-cache-nc4yprkb/wheels/22/b2/d0/a0ec195fa1805ed1149117ae92660515ef7d531942b29f2ac0\n",
            "Successfully built statcast_pitches\n",
            "Installing collected packages: statcast_pitches\n",
            "Successfully installed statcast_pitches-1.0.0\n",
            "Cloning into 'BaseballCV'...\n",
            "remote: Enumerating objects: 4370, done.\u001b[K\n",
            "remote: Counting objects: 100% (523/523), done.\u001b[K\n",
            "remote: Compressing objects: 100% (372/372), done.\u001b[K\n",
            "remote: Total 4370 (delta 187), reused 213 (delta 150), pack-reused 3847 (from 3)\u001b[K\n",
            "Receiving objects: 100% (4370/4370), 399.40 MiB | 26.98 MiB/s, done.\n",
            "Resolving deltas: 100% (2446/2446), done.\n",
            "Updating files: 100% (337/337), done.\n"
          ]
        }
      ],
      "source": [
        "# Install required dependency first\n",
        "!pip install git+https://github.com/Jensen-holm/statcast-era-pitches.git\n",
        "\n",
        "# Clone the BaseballCV repository\n",
        "!git clone https://github.com/dylandru/BaseballCV.git"
      ]
    },
    {
      "cell_type": "markdown",
      "metadata": {
        "id": "We5DEHFC1oAj"
      },
      "source": [
        "Now let's navigate to the repository directory and install it in development mode:"
      ]
    },
    {
      "cell_type": "code",
      "execution_count": 3,
      "metadata": {
        "colab": {
          "base_uri": "https://localhost:8080/",
          "height": 1000
        },
        "id": "yD-PJYQr1oAk",
        "outputId": "9102d981-ac9a-43cb-df47-c31b350d558b"
      },
      "outputs": [
        {
          "output_type": "stream",
          "name": "stdout",
          "text": [
            "/content/BaseballCV\n",
            "Obtaining file:///content/BaseballCV\n",
            "  Installing build dependencies ... \u001b[?25l\u001b[?25hdone\n",
            "  Checking if build backend supports build_editable ... \u001b[?25l\u001b[?25hdone\n",
            "  Getting requirements to build editable ... \u001b[?25l\u001b[?25hdone\n",
            "  Preparing editable metadata (pyproject.toml) ... \u001b[?25l\u001b[?25hdone\n",
            "Collecting bs4==0.0.2 (from baseballcv==0.1.21)\n",
            "  Downloading bs4-0.0.2-py2.py3-none-any.whl.metadata (411 bytes)\n",
            "Collecting cryptography==44.0.1 (from baseballcv==0.1.21)\n",
            "  Downloading cryptography-44.0.1-cp39-abi3-manylinux_2_34_x86_64.whl.metadata (5.7 kB)\n",
            "Collecting opencv-python==4.10.0.84 (from baseballcv==0.1.21)\n",
            "  Downloading opencv_python-4.10.0.84-cp37-abi3-manylinux_2_17_x86_64.manylinux2014_x86_64.whl.metadata (20 kB)\n",
            "Collecting pip==24.0 (from baseballcv==0.1.21)\n",
            "  Downloading pip-24.0-py3-none-any.whl.metadata (3.6 kB)\n",
            "Collecting pybaseball==2.2.7 (from baseballcv==0.1.21)\n",
            "  Downloading pybaseball-2.2.7-py3-none-any.whl.metadata (11 kB)\n",
            "Collecting pytest==8.3.2 (from baseballcv==0.1.21)\n",
            "  Downloading pytest-8.3.2-py3-none-any.whl.metadata (7.5 kB)\n",
            "Collecting ultralytics!=8.3.41,!=8.3.42,>=8.2.90 (from baseballcv==0.1.21)\n",
            "  Downloading ultralytics-8.3.107-py3-none-any.whl.metadata (37 kB)\n",
            "Collecting transformers==4.48.0 (from baseballcv==0.1.21)\n",
            "  Downloading transformers-4.48.0-py3-none-any.whl.metadata (44 kB)\n",
            "\u001b[2K     \u001b[90m━━━━━━━━━━━━━━━━━━━━━━━━━━━━━━━━━━━━━━━━\u001b[0m \u001b[32m44.4/44.4 kB\u001b[0m \u001b[31m4.9 MB/s\u001b[0m eta \u001b[36m0:00:00\u001b[0m\n",
            "\u001b[?25hCollecting peft==0.13.2 (from baseballcv==0.1.21)\n",
            "  Downloading peft-0.13.2-py3-none-any.whl.metadata (13 kB)\n",
            "Collecting streamlit==1.37.0 (from baseballcv==0.1.21)\n",
            "  Downloading streamlit-1.37.0-py2.py3-none-any.whl.metadata (8.5 kB)\n",
            "Collecting awscli==1.36.5 (from baseballcv==0.1.21)\n",
            "  Downloading awscli-1.36.5-py3-none-any.whl.metadata (11 kB)\n",
            "Collecting pytest-cov==6.0.0 (from baseballcv==0.1.21)\n",
            "  Downloading pytest_cov-6.0.0-py3-none-any.whl.metadata (27 kB)\n",
            "Collecting supervision==0.25.1 (from baseballcv==0.1.21)\n",
            "  Downloading supervision-0.25.1-py3-none-any.whl.metadata (14 kB)\n",
            "Collecting pillow==10.3.0 (from baseballcv==0.1.21)\n",
            "  Downloading pillow-10.3.0-cp311-cp311-manylinux_2_28_x86_64.whl.metadata (9.2 kB)\n",
            "Requirement already satisfied: tensorboard>=2.15.0 in /usr/local/lib/python3.11/dist-packages (from baseballcv==0.1.21) (2.18.0)\n",
            "Collecting wandb==0.19.1 (from baseballcv==0.1.21)\n",
            "  Downloading wandb-0.19.1-py3-none-manylinux_2_17_x86_64.manylinux2014_x86_64.whl.metadata (10 kB)\n",
            "Collecting coco-eval==0.0.4 (from baseballcv==0.1.21)\n",
            "  Downloading coco_eval-0.0.4.tar.gz (4.5 kB)\n",
            "  Preparing metadata (setup.py) ... \u001b[?25l\u001b[?25hdone\n",
            "Collecting pytorch-lightning==2.5.0 (from baseballcv==0.1.21)\n",
            "  Downloading pytorch_lightning-2.5.0-py3-none-any.whl.metadata (21 kB)\n",
            "Collecting polars==1.10.0 (from baseballcv==0.1.21)\n",
            "  Downloading polars-1.10.0-cp39-abi3-manylinux_2_17_x86_64.manylinux2014_x86_64.whl.metadata (14 kB)\n",
            "Collecting mediapipe==0.10.21 (from baseballcv==0.1.21)\n",
            "  Downloading mediapipe-0.10.21-cp311-cp311-manylinux_2_28_x86_64.whl.metadata (9.7 kB)\n",
            "Collecting datasets==3.4.0 (from baseballcv==0.1.21)\n",
            "  Downloading datasets-3.4.0-py3-none-any.whl.metadata (19 kB)\n",
            "Collecting roboflow==1.1.50 (from baseballcv==0.1.21)\n",
            "  Downloading roboflow-1.1.50-py3-none-any.whl.metadata (9.7 kB)\n",
            "Collecting rfdetr==1.0.8 (from baseballcv==0.1.21)\n",
            "  Downloading rfdetr-1.0.8-py3-none-any.whl.metadata (10 kB)\n",
            "Collecting autodistill==0.1.29 (from baseballcv==0.1.21)\n",
            "  Downloading autodistill-0.1.29-py3-none-any.whl.metadata (32 kB)\n",
            "Collecting autodistill-grounded-sam==0.1.2 (from baseballcv==0.1.21)\n",
            "  Downloading autodistill_grounded_sam-0.1.2-py3-none-any.whl.metadata (1.1 kB)\n",
            "Requirement already satisfied: tqdm in /usr/local/lib/python3.11/dist-packages (from autodistill==0.1.29->baseballcv==0.1.21) (4.67.1)\n",
            "Requirement already satisfied: PyYAML>=5.3.1 in /usr/local/lib/python3.11/dist-packages (from autodistill==0.1.29->baseballcv==0.1.21) (6.0.2)\n",
            "Requirement already satisfied: click in /usr/local/lib/python3.11/dist-packages (from autodistill==0.1.29->baseballcv==0.1.21) (8.1.8)\n",
            "Requirement already satisfied: torch in /usr/local/lib/python3.11/dist-packages (from autodistill-grounded-sam==0.1.2->baseballcv==0.1.21) (2.6.0+cu124)\n",
            "Requirement already satisfied: numpy>=1.20.0 in /usr/local/lib/python3.11/dist-packages (from autodistill-grounded-sam==0.1.2->baseballcv==0.1.21) (2.0.2)\n",
            "Collecting rf-groundingdino (from autodistill-grounded-sam==0.1.2->baseballcv==0.1.21)\n",
            "  Downloading rf_groundingdino-0.2.0-py2.py3-none-any.whl.metadata (32 kB)\n",
            "Collecting rf-segment-anything (from autodistill-grounded-sam==0.1.2->baseballcv==0.1.21)\n",
            "  Downloading rf_segment_anything-1.0-py3-none-any.whl.metadata (583 bytes)\n",
            "Collecting botocore==1.35.64 (from awscli==1.36.5->baseballcv==0.1.21)\n",
            "  Downloading botocore-1.35.64-py3-none-any.whl.metadata (5.7 kB)\n",
            "Collecting docutils<0.17,>=0.10 (from awscli==1.36.5->baseballcv==0.1.21)\n",
            "  Downloading docutils-0.16-py2.py3-none-any.whl.metadata (2.7 kB)\n",
            "Collecting s3transfer<0.11.0,>=0.10.0 (from awscli==1.36.5->baseballcv==0.1.21)\n",
            "  Downloading s3transfer-0.10.4-py3-none-any.whl.metadata (1.7 kB)\n",
            "Collecting colorama<0.4.7,>=0.2.5 (from awscli==1.36.5->baseballcv==0.1.21)\n",
            "  Downloading colorama-0.4.6-py2.py3-none-any.whl.metadata (17 kB)\n",
            "Collecting rsa<4.8,>=3.1.2 (from awscli==1.36.5->baseballcv==0.1.21)\n",
            "  Downloading rsa-4.7.2-py3-none-any.whl.metadata (3.6 kB)\n",
            "Requirement already satisfied: beautifulsoup4 in /usr/local/lib/python3.11/dist-packages (from bs4==0.0.2->baseballcv==0.1.21) (4.13.3)\n",
            "Requirement already satisfied: pycocotools in /usr/local/lib/python3.11/dist-packages (from coco-eval==0.0.4->baseballcv==0.1.21) (2.0.8)\n",
            "Requirement already satisfied: cffi>=1.12 in /usr/local/lib/python3.11/dist-packages (from cryptography==44.0.1->baseballcv==0.1.21) (1.17.1)\n",
            "Requirement already satisfied: filelock in /usr/local/lib/python3.11/dist-packages (from datasets==3.4.0->baseballcv==0.1.21) (3.18.0)\n",
            "Requirement already satisfied: pyarrow>=15.0.0 in /usr/local/lib/python3.11/dist-packages (from datasets==3.4.0->baseballcv==0.1.21) (18.1.0)\n",
            "Collecting dill<0.3.9,>=0.3.0 (from datasets==3.4.0->baseballcv==0.1.21)\n",
            "  Downloading dill-0.3.8-py3-none-any.whl.metadata (10 kB)\n",
            "Requirement already satisfied: pandas in /usr/local/lib/python3.11/dist-packages (from datasets==3.4.0->baseballcv==0.1.21) (2.2.2)\n",
            "Requirement already satisfied: requests>=2.32.2 in /usr/local/lib/python3.11/dist-packages (from datasets==3.4.0->baseballcv==0.1.21) (2.32.3)\n",
            "Collecting xxhash (from datasets==3.4.0->baseballcv==0.1.21)\n",
            "  Downloading xxhash-3.5.0-cp311-cp311-manylinux_2_17_x86_64.manylinux2014_x86_64.whl.metadata (12 kB)\n",
            "Collecting multiprocess<0.70.17 (from datasets==3.4.0->baseballcv==0.1.21)\n",
            "  Downloading multiprocess-0.70.16-py311-none-any.whl.metadata (7.2 kB)\n",
            "Collecting fsspec<=2024.12.0,>=2023.1.0 (from fsspec[http]<=2024.12.0,>=2023.1.0->datasets==3.4.0->baseballcv==0.1.21)\n",
            "  Downloading fsspec-2024.12.0-py3-none-any.whl.metadata (11 kB)\n",
            "Requirement already satisfied: aiohttp in /usr/local/lib/python3.11/dist-packages (from datasets==3.4.0->baseballcv==0.1.21) (3.11.15)\n",
            "Requirement already satisfied: huggingface-hub>=0.24.0 in /usr/local/lib/python3.11/dist-packages (from datasets==3.4.0->baseballcv==0.1.21) (0.30.1)\n",
            "Requirement already satisfied: packaging in /usr/local/lib/python3.11/dist-packages (from datasets==3.4.0->baseballcv==0.1.21) (24.2)\n",
            "Requirement already satisfied: absl-py in /usr/local/lib/python3.11/dist-packages (from mediapipe==0.10.21->baseballcv==0.1.21) (1.4.0)\n",
            "Requirement already satisfied: attrs>=19.1.0 in /usr/local/lib/python3.11/dist-packages (from mediapipe==0.10.21->baseballcv==0.1.21) (25.3.0)\n",
            "Requirement already satisfied: flatbuffers>=2.0 in /usr/local/lib/python3.11/dist-packages (from mediapipe==0.10.21->baseballcv==0.1.21) (25.2.10)\n",
            "Requirement already satisfied: jax in /usr/local/lib/python3.11/dist-packages (from mediapipe==0.10.21->baseballcv==0.1.21) (0.5.2)\n",
            "Requirement already satisfied: jaxlib in /usr/local/lib/python3.11/dist-packages (from mediapipe==0.10.21->baseballcv==0.1.21) (0.5.1)\n",
            "Requirement already satisfied: matplotlib in /usr/local/lib/python3.11/dist-packages (from mediapipe==0.10.21->baseballcv==0.1.21) (3.10.0)\n",
            "Collecting numpy>=1.20.0 (from autodistill-grounded-sam==0.1.2->baseballcv==0.1.21)\n",
            "  Downloading numpy-1.26.4-cp311-cp311-manylinux_2_17_x86_64.manylinux2014_x86_64.whl.metadata (61 kB)\n",
            "\u001b[2K     \u001b[90m━━━━━━━━━━━━━━━━━━━━━━━━━━━━━━━━━━━━━━━━\u001b[0m \u001b[32m61.0/61.0 kB\u001b[0m \u001b[31m6.7 MB/s\u001b[0m eta \u001b[36m0:00:00\u001b[0m\n",
            "\u001b[?25hRequirement already satisfied: opencv-contrib-python in /usr/local/lib/python3.11/dist-packages (from mediapipe==0.10.21->baseballcv==0.1.21) (4.11.0.86)\n",
            "Collecting protobuf<5,>=4.25.3 (from mediapipe==0.10.21->baseballcv==0.1.21)\n",
            "  Downloading protobuf-4.25.6-cp37-abi3-manylinux2014_x86_64.whl.metadata (541 bytes)\n",
            "Collecting sounddevice>=0.4.4 (from mediapipe==0.10.21->baseballcv==0.1.21)\n",
            "  Downloading sounddevice-0.5.1-py3-none-any.whl.metadata (1.4 kB)\n",
            "Requirement already satisfied: sentencepiece in /usr/local/lib/python3.11/dist-packages (from mediapipe==0.10.21->baseballcv==0.1.21) (0.2.0)\n",
            "Requirement already satisfied: psutil in /usr/local/lib/python3.11/dist-packages (from peft==0.13.2->baseballcv==0.1.21) (5.9.5)\n",
            "Requirement already satisfied: accelerate>=0.21.0 in /usr/local/lib/python3.11/dist-packages (from peft==0.13.2->baseballcv==0.1.21) (1.5.2)\n",
            "Requirement already satisfied: safetensors in /usr/local/lib/python3.11/dist-packages (from peft==0.13.2->baseballcv==0.1.21) (0.5.3)\n",
            "Requirement already satisfied: lxml>=4.2.1 in /usr/local/lib/python3.11/dist-packages (from pybaseball==2.2.7->baseballcv==0.1.21) (5.3.1)\n",
            "Collecting pygithub>=1.51 (from pybaseball==2.2.7->baseballcv==0.1.21)\n",
            "  Downloading PyGithub-2.6.1-py3-none-any.whl.metadata (3.9 kB)\n",
            "Requirement already satisfied: scipy>=1.4.0 in /usr/local/lib/python3.11/dist-packages (from pybaseball==2.2.7->baseballcv==0.1.21) (1.14.1)\n",
            "Requirement already satisfied: iniconfig in /usr/local/lib/python3.11/dist-packages (from pytest==8.3.2->baseballcv==0.1.21) (2.1.0)\n",
            "Requirement already satisfied: pluggy<2,>=1.5 in /usr/local/lib/python3.11/dist-packages (from pytest==8.3.2->baseballcv==0.1.21) (1.5.0)\n",
            "Collecting coverage>=7.5 (from coverage[toml]>=7.5->pytest-cov==6.0.0->baseballcv==0.1.21)\n",
            "  Downloading coverage-7.8.0-cp311-cp311-manylinux_2_5_x86_64.manylinux1_x86_64.manylinux_2_17_x86_64.manylinux2014_x86_64.whl.metadata (8.5 kB)\n",
            "Collecting torchmetrics>=0.7.0 (from pytorch-lightning==2.5.0->baseballcv==0.1.21)\n",
            "  Downloading torchmetrics-1.7.1-py3-none-any.whl.metadata (21 kB)\n",
            "Requirement already satisfied: typing-extensions>=4.4.0 in /usr/local/lib/python3.11/dist-packages (from pytorch-lightning==2.5.0->baseballcv==0.1.21) (4.13.1)\n",
            "Collecting lightning-utilities>=0.10.0 (from pytorch-lightning==2.5.0->baseballcv==0.1.21)\n",
            "  Downloading lightning_utilities-0.14.3-py3-none-any.whl.metadata (5.6 kB)\n",
            "Requirement already satisfied: cython in /usr/local/lib/python3.11/dist-packages (from rfdetr==1.0.8->baseballcv==0.1.21) (3.0.12)\n",
            "Requirement already satisfied: torchvision>=0.14.0 in /usr/local/lib/python3.11/dist-packages (from rfdetr==1.0.8->baseballcv==0.1.21) (0.21.0+cu124)\n",
            "Collecting fairscale (from rfdetr==1.0.8->baseballcv==0.1.21)\n",
            "  Downloading fairscale-0.4.13.tar.gz (266 kB)\n",
            "\u001b[2K     \u001b[90m━━━━━━━━━━━━━━━━━━━━━━━━━━━━━━━━━━━━━━\u001b[0m \u001b[32m266.3/266.3 kB\u001b[0m \u001b[31m15.1 MB/s\u001b[0m eta \u001b[36m0:00:00\u001b[0m\n",
            "\u001b[?25h  Installing build dependencies ... \u001b[?25l\u001b[?25hdone\n",
            "  Getting requirements to build wheel ... \u001b[?25l\u001b[?25hdone\n",
            "  Installing backend dependencies ... \u001b[?25l\u001b[?25hdone\n",
            "  Preparing metadata (pyproject.toml) ... \u001b[?25l\u001b[?25hdone\n",
            "Requirement already satisfied: timm in /usr/local/lib/python3.11/dist-packages (from rfdetr==1.0.8->baseballcv==0.1.21) (1.0.15)\n",
            "Collecting ninja (from rfdetr==1.0.8->baseballcv==0.1.21)\n",
            "  Using cached ninja-1.11.1.4-py3-none-manylinux_2_12_x86_64.manylinux2010_x86_64.whl.metadata (5.0 kB)\n",
            "Requirement already satisfied: einops in /usr/local/lib/python3.11/dist-packages (from rfdetr==1.0.8->baseballcv==0.1.21) (0.8.1)\n",
            "Collecting pylabel (from rfdetr==1.0.8->baseballcv==0.1.21)\n",
            "  Downloading pylabel-0.1.55-py3-none-any.whl.metadata (3.8 kB)\n",
            "Collecting onnx (from rfdetr==1.0.8->baseballcv==0.1.21)\n",
            "  Downloading onnx-1.17.0-cp311-cp311-manylinux_2_17_x86_64.manylinux2014_x86_64.whl.metadata (16 kB)\n",
            "Collecting onnxsim (from rfdetr==1.0.8->baseballcv==0.1.21)\n",
            "  Downloading onnxsim-0.4.36-cp311-cp311-manylinux_2_17_x86_64.manylinux2014_x86_64.whl.metadata (4.3 kB)\n",
            "Collecting onnx_graphsurgeon (from rfdetr==1.0.8->baseballcv==0.1.21)\n",
            "  Downloading onnx_graphsurgeon-0.5.8-py2.py3-none-any.whl.metadata (8.2 kB)\n",
            "Collecting polygraphy (from rfdetr==1.0.8->baseballcv==0.1.21)\n",
            "  Downloading polygraphy-0.49.20-py2.py3-none-any.whl.metadata (5.8 kB)\n",
            "Collecting open_clip_torch (from rfdetr==1.0.8->baseballcv==0.1.21)\n",
            "  Downloading open_clip_torch-2.32.0-py3-none-any.whl.metadata (31 kB)\n",
            "Collecting rf100vl (from rfdetr==1.0.8->baseballcv==0.1.21)\n",
            "  Downloading rf100vl-1.0.0-py3-none-any.whl.metadata (8.2 kB)\n",
            "Requirement already satisfied: pydantic in /usr/local/lib/python3.11/dist-packages (from rfdetr==1.0.8->baseballcv==0.1.21) (2.11.2)\n",
            "Requirement already satisfied: certifi in /usr/local/lib/python3.11/dist-packages (from roboflow==1.1.50->baseballcv==0.1.21) (2025.1.31)\n",
            "Collecting idna==3.7 (from roboflow==1.1.50->baseballcv==0.1.21)\n",
            "  Downloading idna-3.7-py3-none-any.whl.metadata (9.9 kB)\n",
            "Requirement already satisfied: cycler in /usr/local/lib/python3.11/dist-packages (from roboflow==1.1.50->baseballcv==0.1.21) (0.12.1)\n",
            "Requirement already satisfied: kiwisolver>=1.3.1 in /usr/local/lib/python3.11/dist-packages (from roboflow==1.1.50->baseballcv==0.1.21) (1.4.8)\n",
            "Collecting opencv-python-headless==4.10.0.84 (from roboflow==1.1.50->baseballcv==0.1.21)\n",
            "  Downloading opencv_python_headless-4.10.0.84-cp37-abi3-manylinux_2_17_x86_64.manylinux2014_x86_64.whl.metadata (20 kB)\n",
            "Requirement already satisfied: python-dateutil in /usr/local/lib/python3.11/dist-packages (from roboflow==1.1.50->baseballcv==0.1.21) (2.8.2)\n",
            "Collecting python-dotenv (from roboflow==1.1.50->baseballcv==0.1.21)\n",
            "  Downloading python_dotenv-1.1.0-py3-none-any.whl.metadata (24 kB)\n",
            "Requirement already satisfied: six in /usr/local/lib/python3.11/dist-packages (from roboflow==1.1.50->baseballcv==0.1.21) (1.17.0)\n",
            "Requirement already satisfied: urllib3>=1.26.6 in /usr/local/lib/python3.11/dist-packages (from roboflow==1.1.50->baseballcv==0.1.21) (2.3.0)\n",
            "Requirement already satisfied: requests-toolbelt in /usr/local/lib/python3.11/dist-packages (from roboflow==1.1.50->baseballcv==0.1.21) (1.0.0)\n",
            "Collecting filetype (from roboflow==1.1.50->baseballcv==0.1.21)\n",
            "  Downloading filetype-1.2.0-py2.py3-none-any.whl.metadata (6.5 kB)\n",
            "Requirement already satisfied: altair<6,>=4.0 in /usr/local/lib/python3.11/dist-packages (from streamlit==1.37.0->baseballcv==0.1.21) (5.5.0)\n",
            "Requirement already satisfied: blinker<2,>=1.0.0 in /usr/local/lib/python3.11/dist-packages (from streamlit==1.37.0->baseballcv==0.1.21) (1.9.0)\n",
            "Requirement already satisfied: cachetools<6,>=4.0 in /usr/local/lib/python3.11/dist-packages (from streamlit==1.37.0->baseballcv==0.1.21) (5.5.2)\n",
            "Requirement already satisfied: rich<14,>=10.14.0 in /usr/local/lib/python3.11/dist-packages (from streamlit==1.37.0->baseballcv==0.1.21) (13.9.4)\n",
            "Collecting tenacity<9,>=8.1.0 (from streamlit==1.37.0->baseballcv==0.1.21)\n",
            "  Downloading tenacity-8.5.0-py3-none-any.whl.metadata (1.2 kB)\n",
            "Requirement already satisfied: toml<2,>=0.10.1 in /usr/local/lib/python3.11/dist-packages (from streamlit==1.37.0->baseballcv==0.1.21) (0.10.2)\n",
            "Requirement already satisfied: gitpython!=3.1.19,<4,>=3.0.7 in /usr/local/lib/python3.11/dist-packages (from streamlit==1.37.0->baseballcv==0.1.21) (3.1.44)\n",
            "Collecting pydeck<1,>=0.8.0b4 (from streamlit==1.37.0->baseballcv==0.1.21)\n",
            "  Downloading pydeck-0.9.1-py2.py3-none-any.whl.metadata (4.1 kB)\n",
            "Requirement already satisfied: tornado<7,>=6.0.3 in /usr/local/lib/python3.11/dist-packages (from streamlit==1.37.0->baseballcv==0.1.21) (6.4.2)\n",
            "Collecting watchdog<5,>=2.1.5 (from streamlit==1.37.0->baseballcv==0.1.21)\n",
            "  Downloading watchdog-4.0.2-py3-none-manylinux2014_x86_64.whl.metadata (38 kB)\n",
            "Requirement already satisfied: contourpy>=1.0.7 in /usr/local/lib/python3.11/dist-packages (from supervision==0.25.1->baseballcv==0.1.21) (1.3.1)\n",
            "Requirement already satisfied: defusedxml<0.8.0,>=0.7.1 in /usr/local/lib/python3.11/dist-packages (from supervision==0.25.1->baseballcv==0.1.21) (0.7.1)\n",
            "Requirement already satisfied: regex!=2019.12.17 in /usr/local/lib/python3.11/dist-packages (from transformers==4.48.0->baseballcv==0.1.21) (2024.11.6)\n",
            "Requirement already satisfied: tokenizers<0.22,>=0.21 in /usr/local/lib/python3.11/dist-packages (from transformers==4.48.0->baseballcv==0.1.21) (0.21.1)\n",
            "Requirement already satisfied: docker-pycreds>=0.4.0 in /usr/local/lib/python3.11/dist-packages (from wandb==0.19.1->baseballcv==0.1.21) (0.4.0)\n",
            "Requirement already satisfied: platformdirs in /usr/local/lib/python3.11/dist-packages (from wandb==0.19.1->baseballcv==0.1.21) (4.3.7)\n",
            "Requirement already satisfied: sentry-sdk>=2.0.0 in /usr/local/lib/python3.11/dist-packages (from wandb==0.19.1->baseballcv==0.1.21) (2.25.1)\n",
            "Requirement already satisfied: setproctitle in /usr/local/lib/python3.11/dist-packages (from wandb==0.19.1->baseballcv==0.1.21) (1.3.5)\n",
            "Requirement already satisfied: setuptools in /usr/local/lib/python3.11/dist-packages (from wandb==0.19.1->baseballcv==0.1.21) (75.2.0)\n",
            "Collecting jmespath<2.0.0,>=0.7.1 (from botocore==1.35.64->awscli==1.36.5->baseballcv==0.1.21)\n",
            "  Downloading jmespath-1.0.1-py3-none-any.whl.metadata (7.6 kB)\n",
            "Requirement already satisfied: grpcio>=1.48.2 in /usr/local/lib/python3.11/dist-packages (from tensorboard>=2.15.0->baseballcv==0.1.21) (1.71.0)\n",
            "Requirement already satisfied: markdown>=2.6.8 in /usr/local/lib/python3.11/dist-packages (from tensorboard>=2.15.0->baseballcv==0.1.21) (3.7)\n",
            "Requirement already satisfied: tensorboard-data-server<0.8.0,>=0.7.0 in /usr/local/lib/python3.11/dist-packages (from tensorboard>=2.15.0->baseballcv==0.1.21) (0.7.2)\n",
            "Requirement already satisfied: werkzeug>=1.0.1 in /usr/local/lib/python3.11/dist-packages (from tensorboard>=2.15.0->baseballcv==0.1.21) (3.1.3)\n",
            "Requirement already satisfied: py-cpuinfo in /usr/local/lib/python3.11/dist-packages (from ultralytics!=8.3.41,!=8.3.42,>=8.2.90->baseballcv==0.1.21) (9.0.0)\n",
            "Requirement already satisfied: seaborn>=0.11.0 in /usr/local/lib/python3.11/dist-packages (from ultralytics!=8.3.41,!=8.3.42,>=8.2.90->baseballcv==0.1.21) (0.13.2)\n",
            "Collecting ultralytics-thop>=2.0.0 (from ultralytics!=8.3.41,!=8.3.42,>=8.2.90->baseballcv==0.1.21)\n",
            "  Downloading ultralytics_thop-2.0.14-py3-none-any.whl.metadata (9.4 kB)\n",
            "Requirement already satisfied: jinja2 in /usr/local/lib/python3.11/dist-packages (from altair<6,>=4.0->streamlit==1.37.0->baseballcv==0.1.21) (3.1.6)\n",
            "Requirement already satisfied: jsonschema>=3.0 in /usr/local/lib/python3.11/dist-packages (from altair<6,>=4.0->streamlit==1.37.0->baseballcv==0.1.21) (4.23.0)\n",
            "Requirement already satisfied: narwhals>=1.14.2 in /usr/local/lib/python3.11/dist-packages (from altair<6,>=4.0->streamlit==1.37.0->baseballcv==0.1.21) (1.33.0)\n",
            "Requirement already satisfied: soupsieve>1.2 in /usr/local/lib/python3.11/dist-packages (from beautifulsoup4->bs4==0.0.2->baseballcv==0.1.21) (2.6)\n",
            "Requirement already satisfied: pycparser in /usr/local/lib/python3.11/dist-packages (from cffi>=1.12->cryptography==44.0.1->baseballcv==0.1.21) (2.22)\n",
            "Requirement already satisfied: aiohappyeyeballs>=2.3.0 in /usr/local/lib/python3.11/dist-packages (from aiohttp->datasets==3.4.0->baseballcv==0.1.21) (2.6.1)\n",
            "Requirement already satisfied: aiosignal>=1.1.2 in /usr/local/lib/python3.11/dist-packages (from aiohttp->datasets==3.4.0->baseballcv==0.1.21) (1.3.2)\n",
            "Requirement already satisfied: frozenlist>=1.1.1 in /usr/local/lib/python3.11/dist-packages (from aiohttp->datasets==3.4.0->baseballcv==0.1.21) (1.5.0)\n",
            "Requirement already satisfied: multidict<7.0,>=4.5 in /usr/local/lib/python3.11/dist-packages (from aiohttp->datasets==3.4.0->baseballcv==0.1.21) (6.3.2)\n",
            "Requirement already satisfied: propcache>=0.2.0 in /usr/local/lib/python3.11/dist-packages (from aiohttp->datasets==3.4.0->baseballcv==0.1.21) (0.3.1)\n",
            "Requirement already satisfied: yarl<2.0,>=1.17.0 in /usr/local/lib/python3.11/dist-packages (from aiohttp->datasets==3.4.0->baseballcv==0.1.21) (1.18.3)\n",
            "Requirement already satisfied: gitdb<5,>=4.0.1 in /usr/local/lib/python3.11/dist-packages (from gitpython!=3.1.19,<4,>=3.0.7->streamlit==1.37.0->baseballcv==0.1.21) (4.0.12)\n",
            "Requirement already satisfied: fonttools>=4.22.0 in /usr/local/lib/python3.11/dist-packages (from matplotlib->mediapipe==0.10.21->baseballcv==0.1.21) (4.57.0)\n",
            "Requirement already satisfied: pyparsing>=2.3.1 in /usr/local/lib/python3.11/dist-packages (from matplotlib->mediapipe==0.10.21->baseballcv==0.1.21) (3.2.3)\n",
            "Requirement already satisfied: pytz>=2020.1 in /usr/local/lib/python3.11/dist-packages (from pandas->datasets==3.4.0->baseballcv==0.1.21) (2025.2)\n",
            "Requirement already satisfied: tzdata>=2022.7 in /usr/local/lib/python3.11/dist-packages (from pandas->datasets==3.4.0->baseballcv==0.1.21) (2025.2)\n",
            "Requirement already satisfied: annotated-types>=0.6.0 in /usr/local/lib/python3.11/dist-packages (from pydantic->rfdetr==1.0.8->baseballcv==0.1.21) (0.7.0)\n",
            "Requirement already satisfied: pydantic-core==2.33.1 in /usr/local/lib/python3.11/dist-packages (from pydantic->rfdetr==1.0.8->baseballcv==0.1.21) (2.33.1)\n",
            "Requirement already satisfied: typing-inspection>=0.4.0 in /usr/local/lib/python3.11/dist-packages (from pydantic->rfdetr==1.0.8->baseballcv==0.1.21) (0.4.0)\n",
            "Collecting pynacl>=1.4.0 (from pygithub>=1.51->pybaseball==2.2.7->baseballcv==0.1.21)\n",
            "  Downloading PyNaCl-1.5.0-cp36-abi3-manylinux_2_17_x86_64.manylinux2014_x86_64.manylinux_2_24_x86_64.whl.metadata (8.6 kB)\n",
            "Requirement already satisfied: pyjwt>=2.4.0 in /usr/local/lib/python3.11/dist-packages (from pyjwt[crypto]>=2.4.0->pygithub>=1.51->pybaseball==2.2.7->baseballcv==0.1.21) (2.10.1)\n",
            "Requirement already satisfied: Deprecated in /usr/local/lib/python3.11/dist-packages (from pygithub>=1.51->pybaseball==2.2.7->baseballcv==0.1.21) (1.2.18)\n",
            "Requirement already satisfied: charset-normalizer<4,>=2 in /usr/local/lib/python3.11/dist-packages (from requests>=2.32.2->datasets==3.4.0->baseballcv==0.1.21) (3.4.1)\n",
            "Requirement already satisfied: markdown-it-py>=2.2.0 in /usr/local/lib/python3.11/dist-packages (from rich<14,>=10.14.0->streamlit==1.37.0->baseballcv==0.1.21) (3.0.0)\n",
            "Requirement already satisfied: pygments<3.0.0,>=2.13.0 in /usr/local/lib/python3.11/dist-packages (from rich<14,>=10.14.0->streamlit==1.37.0->baseballcv==0.1.21) (2.18.0)\n",
            "Requirement already satisfied: pyasn1>=0.1.3 in /usr/local/lib/python3.11/dist-packages (from rsa<4.8,>=3.1.2->awscli==1.36.5->baseballcv==0.1.21) (0.6.1)\n",
            "Requirement already satisfied: networkx in /usr/local/lib/python3.11/dist-packages (from torch->autodistill-grounded-sam==0.1.2->baseballcv==0.1.21) (3.4.2)\n",
            "Collecting nvidia-cuda-nvrtc-cu12==12.4.127 (from torch->autodistill-grounded-sam==0.1.2->baseballcv==0.1.21)\n",
            "  Downloading nvidia_cuda_nvrtc_cu12-12.4.127-py3-none-manylinux2014_x86_64.whl.metadata (1.5 kB)\n",
            "Collecting nvidia-cuda-runtime-cu12==12.4.127 (from torch->autodistill-grounded-sam==0.1.2->baseballcv==0.1.21)\n",
            "  Downloading nvidia_cuda_runtime_cu12-12.4.127-py3-none-manylinux2014_x86_64.whl.metadata (1.5 kB)\n",
            "Collecting nvidia-cuda-cupti-cu12==12.4.127 (from torch->autodistill-grounded-sam==0.1.2->baseballcv==0.1.21)\n",
            "  Downloading nvidia_cuda_cupti_cu12-12.4.127-py3-none-manylinux2014_x86_64.whl.metadata (1.6 kB)\n",
            "Collecting nvidia-cudnn-cu12==9.1.0.70 (from torch->autodistill-grounded-sam==0.1.2->baseballcv==0.1.21)\n",
            "  Downloading nvidia_cudnn_cu12-9.1.0.70-py3-none-manylinux2014_x86_64.whl.metadata (1.6 kB)\n",
            "Collecting nvidia-cublas-cu12==12.4.5.8 (from torch->autodistill-grounded-sam==0.1.2->baseballcv==0.1.21)\n",
            "  Downloading nvidia_cublas_cu12-12.4.5.8-py3-none-manylinux2014_x86_64.whl.metadata (1.5 kB)\n",
            "Collecting nvidia-cufft-cu12==11.2.1.3 (from torch->autodistill-grounded-sam==0.1.2->baseballcv==0.1.21)\n",
            "  Downloading nvidia_cufft_cu12-11.2.1.3-py3-none-manylinux2014_x86_64.whl.metadata (1.5 kB)\n",
            "Collecting nvidia-curand-cu12==10.3.5.147 (from torch->autodistill-grounded-sam==0.1.2->baseballcv==0.1.21)\n",
            "  Downloading nvidia_curand_cu12-10.3.5.147-py3-none-manylinux2014_x86_64.whl.metadata (1.5 kB)\n",
            "Collecting nvidia-cusolver-cu12==11.6.1.9 (from torch->autodistill-grounded-sam==0.1.2->baseballcv==0.1.21)\n",
            "  Downloading nvidia_cusolver_cu12-11.6.1.9-py3-none-manylinux2014_x86_64.whl.metadata (1.6 kB)\n",
            "Collecting nvidia-cusparse-cu12==12.3.1.170 (from torch->autodistill-grounded-sam==0.1.2->baseballcv==0.1.21)\n",
            "  Downloading nvidia_cusparse_cu12-12.3.1.170-py3-none-manylinux2014_x86_64.whl.metadata (1.6 kB)\n",
            "Requirement already satisfied: nvidia-cusparselt-cu12==0.6.2 in /usr/local/lib/python3.11/dist-packages (from torch->autodistill-grounded-sam==0.1.2->baseballcv==0.1.21) (0.6.2)\n",
            "Requirement already satisfied: nvidia-nccl-cu12==2.21.5 in /usr/local/lib/python3.11/dist-packages (from torch->autodistill-grounded-sam==0.1.2->baseballcv==0.1.21) (2.21.5)\n",
            "Requirement already satisfied: nvidia-nvtx-cu12==12.4.127 in /usr/local/lib/python3.11/dist-packages (from torch->autodistill-grounded-sam==0.1.2->baseballcv==0.1.21) (12.4.127)\n",
            "Collecting nvidia-nvjitlink-cu12==12.4.127 (from torch->autodistill-grounded-sam==0.1.2->baseballcv==0.1.21)\n",
            "  Downloading nvidia_nvjitlink_cu12-12.4.127-py3-none-manylinux2014_x86_64.whl.metadata (1.5 kB)\n",
            "Requirement already satisfied: triton==3.2.0 in /usr/local/lib/python3.11/dist-packages (from torch->autodistill-grounded-sam==0.1.2->baseballcv==0.1.21) (3.2.0)\n",
            "Requirement already satisfied: sympy==1.13.1 in /usr/local/lib/python3.11/dist-packages (from torch->autodistill-grounded-sam==0.1.2->baseballcv==0.1.21) (1.13.1)\n",
            "Requirement already satisfied: mpmath<1.4,>=1.1.0 in /usr/local/lib/python3.11/dist-packages (from sympy==1.13.1->torch->autodistill-grounded-sam==0.1.2->baseballcv==0.1.21) (1.3.0)\n",
            "Requirement already satisfied: MarkupSafe>=2.1.1 in /usr/local/lib/python3.11/dist-packages (from werkzeug>=1.0.1->tensorboard>=2.15.0->baseballcv==0.1.21) (3.0.2)\n",
            "Requirement already satisfied: ml_dtypes>=0.4.0 in /usr/local/lib/python3.11/dist-packages (from jax->mediapipe==0.10.21->baseballcv==0.1.21) (0.4.1)\n",
            "Requirement already satisfied: opt_einsum in /usr/local/lib/python3.11/dist-packages (from jax->mediapipe==0.10.21->baseballcv==0.1.21) (3.4.0)\n",
            "Collecting ftfy (from open_clip_torch->rfdetr==1.0.8->baseballcv==0.1.21)\n",
            "  Downloading ftfy-6.3.1-py3-none-any.whl.metadata (7.3 kB)\n",
            "Collecting bbox-visualizer (from pylabel->rfdetr==1.0.8->baseballcv==0.1.21)\n",
            "  Downloading bbox_visualizer-0.2.0-py3-none-any.whl.metadata (5.8 kB)\n",
            "Requirement already satisfied: scikit-learn in /usr/local/lib/python3.11/dist-packages (from pylabel->rfdetr==1.0.8->baseballcv==0.1.21) (1.6.1)\n",
            "Collecting jupyter-bbox-widget (from pylabel->rfdetr==1.0.8->baseballcv==0.1.21)\n",
            "  Downloading jupyter_bbox_widget-0.6.0-py3-none-any.whl.metadata (11 kB)\n",
            "Collecting addict (from rf-groundingdino->autodistill-grounded-sam==0.1.2->baseballcv==0.1.21)\n",
            "  Downloading addict-2.4.0-py3-none-any.whl.metadata (1.0 kB)\n",
            "Collecting yapf (from rf-groundingdino->autodistill-grounded-sam==0.1.2->baseballcv==0.1.21)\n",
            "  Downloading yapf-0.43.0-py3-none-any.whl.metadata (46 kB)\n",
            "\u001b[2K     \u001b[90m━━━━━━━━━━━━━━━━━━━━━━━━━━━━━━━━━━━━━━━━\u001b[0m \u001b[32m46.8/46.8 kB\u001b[0m \u001b[31m5.1 MB/s\u001b[0m eta \u001b[36m0:00:00\u001b[0m\n",
            "\u001b[?25hRequirement already satisfied: smmap<6,>=3.0.1 in /usr/local/lib/python3.11/dist-packages (from gitdb<5,>=4.0.1->gitpython!=3.1.19,<4,>=3.0.7->streamlit==1.37.0->baseballcv==0.1.21) (5.0.2)\n",
            "Requirement already satisfied: jsonschema-specifications>=2023.03.6 in /usr/local/lib/python3.11/dist-packages (from jsonschema>=3.0->altair<6,>=4.0->streamlit==1.37.0->baseballcv==0.1.21) (2024.10.1)\n",
            "Requirement already satisfied: referencing>=0.28.4 in /usr/local/lib/python3.11/dist-packages (from jsonschema>=3.0->altair<6,>=4.0->streamlit==1.37.0->baseballcv==0.1.21) (0.36.2)\n",
            "Requirement already satisfied: rpds-py>=0.7.1 in /usr/local/lib/python3.11/dist-packages (from jsonschema>=3.0->altair<6,>=4.0->streamlit==1.37.0->baseballcv==0.1.21) (0.24.0)\n",
            "Requirement already satisfied: mdurl~=0.1 in /usr/local/lib/python3.11/dist-packages (from markdown-it-py>=2.2.0->rich<14,>=10.14.0->streamlit==1.37.0->baseballcv==0.1.21) (0.1.2)\n",
            "Requirement already satisfied: wrapt<2,>=1.10 in /usr/local/lib/python3.11/dist-packages (from Deprecated->pygithub>=1.51->pybaseball==2.2.7->baseballcv==0.1.21) (1.17.2)\n",
            "Requirement already satisfied: wcwidth in /usr/local/lib/python3.11/dist-packages (from ftfy->open_clip_torch->rfdetr==1.0.8->baseballcv==0.1.21) (0.2.13)\n",
            "Collecting anywidget>=0.9.0 (from jupyter-bbox-widget->pylabel->rfdetr==1.0.8->baseballcv==0.1.21)\n",
            "  Downloading anywidget-0.9.18-py3-none-any.whl.metadata (8.9 kB)\n",
            "Requirement already satisfied: joblib>=1.2.0 in /usr/local/lib/python3.11/dist-packages (from scikit-learn->pylabel->rfdetr==1.0.8->baseballcv==0.1.21) (1.4.2)\n",
            "Requirement already satisfied: threadpoolctl>=3.1.0 in /usr/local/lib/python3.11/dist-packages (from scikit-learn->pylabel->rfdetr==1.0.8->baseballcv==0.1.21) (3.6.0)\n",
            "Requirement already satisfied: ipywidgets>=7.6.0 in /usr/local/lib/python3.11/dist-packages (from anywidget>=0.9.0->jupyter-bbox-widget->pylabel->rfdetr==1.0.8->baseballcv==0.1.21) (7.7.1)\n",
            "Collecting psygnal>=0.8.1 (from anywidget>=0.9.0->jupyter-bbox-widget->pylabel->rfdetr==1.0.8->baseballcv==0.1.21)\n",
            "  Downloading psygnal-0.12.0-cp311-cp311-manylinux_2_17_x86_64.manylinux2014_x86_64.whl.metadata (7.7 kB)\n",
            "Requirement already satisfied: ipykernel>=4.5.1 in /usr/local/lib/python3.11/dist-packages (from ipywidgets>=7.6.0->anywidget>=0.9.0->jupyter-bbox-widget->pylabel->rfdetr==1.0.8->baseballcv==0.1.21) (6.17.1)\n",
            "Requirement already satisfied: ipython-genutils~=0.2.0 in /usr/local/lib/python3.11/dist-packages (from ipywidgets>=7.6.0->anywidget>=0.9.0->jupyter-bbox-widget->pylabel->rfdetr==1.0.8->baseballcv==0.1.21) (0.2.0)\n",
            "Requirement already satisfied: traitlets>=4.3.1 in /usr/local/lib/python3.11/dist-packages (from ipywidgets>=7.6.0->anywidget>=0.9.0->jupyter-bbox-widget->pylabel->rfdetr==1.0.8->baseballcv==0.1.21) (5.7.1)\n",
            "Requirement already satisfied: widgetsnbextension~=3.6.0 in /usr/local/lib/python3.11/dist-packages (from ipywidgets>=7.6.0->anywidget>=0.9.0->jupyter-bbox-widget->pylabel->rfdetr==1.0.8->baseballcv==0.1.21) (3.6.10)\n",
            "Requirement already satisfied: ipython>=4.0.0 in /usr/local/lib/python3.11/dist-packages (from ipywidgets>=7.6.0->anywidget>=0.9.0->jupyter-bbox-widget->pylabel->rfdetr==1.0.8->baseballcv==0.1.21) (7.34.0)\n",
            "Requirement already satisfied: jupyterlab-widgets>=1.0.0 in /usr/local/lib/python3.11/dist-packages (from ipywidgets>=7.6.0->anywidget>=0.9.0->jupyter-bbox-widget->pylabel->rfdetr==1.0.8->baseballcv==0.1.21) (3.0.13)\n",
            "Requirement already satisfied: debugpy>=1.0 in /usr/local/lib/python3.11/dist-packages (from ipykernel>=4.5.1->ipywidgets>=7.6.0->anywidget>=0.9.0->jupyter-bbox-widget->pylabel->rfdetr==1.0.8->baseballcv==0.1.21) (1.8.0)\n",
            "Requirement already satisfied: jupyter-client>=6.1.12 in /usr/local/lib/python3.11/dist-packages (from ipykernel>=4.5.1->ipywidgets>=7.6.0->anywidget>=0.9.0->jupyter-bbox-widget->pylabel->rfdetr==1.0.8->baseballcv==0.1.21) (6.1.12)\n",
            "Requirement already satisfied: matplotlib-inline>=0.1 in /usr/local/lib/python3.11/dist-packages (from ipykernel>=4.5.1->ipywidgets>=7.6.0->anywidget>=0.9.0->jupyter-bbox-widget->pylabel->rfdetr==1.0.8->baseballcv==0.1.21) (0.1.7)\n",
            "Requirement already satisfied: nest-asyncio in /usr/local/lib/python3.11/dist-packages (from ipykernel>=4.5.1->ipywidgets>=7.6.0->anywidget>=0.9.0->jupyter-bbox-widget->pylabel->rfdetr==1.0.8->baseballcv==0.1.21) (1.6.0)\n",
            "Requirement already satisfied: pyzmq>=17 in /usr/local/lib/python3.11/dist-packages (from ipykernel>=4.5.1->ipywidgets>=7.6.0->anywidget>=0.9.0->jupyter-bbox-widget->pylabel->rfdetr==1.0.8->baseballcv==0.1.21) (24.0.1)\n",
            "Collecting jedi>=0.16 (from ipython>=4.0.0->ipywidgets>=7.6.0->anywidget>=0.9.0->jupyter-bbox-widget->pylabel->rfdetr==1.0.8->baseballcv==0.1.21)\n",
            "  Downloading jedi-0.19.2-py2.py3-none-any.whl.metadata (22 kB)\n",
            "Requirement already satisfied: decorator in /usr/local/lib/python3.11/dist-packages (from ipython>=4.0.0->ipywidgets>=7.6.0->anywidget>=0.9.0->jupyter-bbox-widget->pylabel->rfdetr==1.0.8->baseballcv==0.1.21) (4.4.2)\n",
            "Requirement already satisfied: pickleshare in /usr/local/lib/python3.11/dist-packages (from ipython>=4.0.0->ipywidgets>=7.6.0->anywidget>=0.9.0->jupyter-bbox-widget->pylabel->rfdetr==1.0.8->baseballcv==0.1.21) (0.7.5)\n",
            "Requirement already satisfied: prompt-toolkit!=3.0.0,!=3.0.1,<3.1.0,>=2.0.0 in /usr/local/lib/python3.11/dist-packages (from ipython>=4.0.0->ipywidgets>=7.6.0->anywidget>=0.9.0->jupyter-bbox-widget->pylabel->rfdetr==1.0.8->baseballcv==0.1.21) (3.0.50)\n",
            "Requirement already satisfied: backcall in /usr/local/lib/python3.11/dist-packages (from ipython>=4.0.0->ipywidgets>=7.6.0->anywidget>=0.9.0->jupyter-bbox-widget->pylabel->rfdetr==1.0.8->baseballcv==0.1.21) (0.2.0)\n",
            "Requirement already satisfied: pexpect>4.3 in /usr/local/lib/python3.11/dist-packages (from ipython>=4.0.0->ipywidgets>=7.6.0->anywidget>=0.9.0->jupyter-bbox-widget->pylabel->rfdetr==1.0.8->baseballcv==0.1.21) (4.9.0)\n",
            "Requirement already satisfied: notebook>=4.4.1 in /usr/local/lib/python3.11/dist-packages (from widgetsnbextension~=3.6.0->ipywidgets>=7.6.0->anywidget>=0.9.0->jupyter-bbox-widget->pylabel->rfdetr==1.0.8->baseballcv==0.1.21) (6.5.7)\n",
            "Requirement already satisfied: parso<0.9.0,>=0.8.4 in /usr/local/lib/python3.11/dist-packages (from jedi>=0.16->ipython>=4.0.0->ipywidgets>=7.6.0->anywidget>=0.9.0->jupyter-bbox-widget->pylabel->rfdetr==1.0.8->baseballcv==0.1.21) (0.8.4)\n",
            "Requirement already satisfied: jupyter-core>=4.6.0 in /usr/local/lib/python3.11/dist-packages (from jupyter-client>=6.1.12->ipykernel>=4.5.1->ipywidgets>=7.6.0->anywidget>=0.9.0->jupyter-bbox-widget->pylabel->rfdetr==1.0.8->baseballcv==0.1.21) (5.7.2)\n",
            "Requirement already satisfied: argon2-cffi in /usr/local/lib/python3.11/dist-packages (from notebook>=4.4.1->widgetsnbextension~=3.6.0->ipywidgets>=7.6.0->anywidget>=0.9.0->jupyter-bbox-widget->pylabel->rfdetr==1.0.8->baseballcv==0.1.21) (23.1.0)\n",
            "Requirement already satisfied: nbformat in /usr/local/lib/python3.11/dist-packages (from notebook>=4.4.1->widgetsnbextension~=3.6.0->ipywidgets>=7.6.0->anywidget>=0.9.0->jupyter-bbox-widget->pylabel->rfdetr==1.0.8->baseballcv==0.1.21) (5.10.4)\n",
            "Requirement already satisfied: nbconvert>=5 in /usr/local/lib/python3.11/dist-packages (from notebook>=4.4.1->widgetsnbextension~=3.6.0->ipywidgets>=7.6.0->anywidget>=0.9.0->jupyter-bbox-widget->pylabel->rfdetr==1.0.8->baseballcv==0.1.21) (7.16.6)\n",
            "Requirement already satisfied: Send2Trash>=1.8.0 in /usr/local/lib/python3.11/dist-packages (from notebook>=4.4.1->widgetsnbextension~=3.6.0->ipywidgets>=7.6.0->anywidget>=0.9.0->jupyter-bbox-widget->pylabel->rfdetr==1.0.8->baseballcv==0.1.21) (1.8.3)\n",
            "Requirement already satisfied: terminado>=0.8.3 in /usr/local/lib/python3.11/dist-packages (from notebook>=4.4.1->widgetsnbextension~=3.6.0->ipywidgets>=7.6.0->anywidget>=0.9.0->jupyter-bbox-widget->pylabel->rfdetr==1.0.8->baseballcv==0.1.21) (0.18.1)\n",
            "Requirement already satisfied: prometheus-client in /usr/local/lib/python3.11/dist-packages (from notebook>=4.4.1->widgetsnbextension~=3.6.0->ipywidgets>=7.6.0->anywidget>=0.9.0->jupyter-bbox-widget->pylabel->rfdetr==1.0.8->baseballcv==0.1.21) (0.21.1)\n",
            "Requirement already satisfied: nbclassic>=0.4.7 in /usr/local/lib/python3.11/dist-packages (from notebook>=4.4.1->widgetsnbextension~=3.6.0->ipywidgets>=7.6.0->anywidget>=0.9.0->jupyter-bbox-widget->pylabel->rfdetr==1.0.8->baseballcv==0.1.21) (1.2.0)\n",
            "Requirement already satisfied: ptyprocess>=0.5 in /usr/local/lib/python3.11/dist-packages (from pexpect>4.3->ipython>=4.0.0->ipywidgets>=7.6.0->anywidget>=0.9.0->jupyter-bbox-widget->pylabel->rfdetr==1.0.8->baseballcv==0.1.21) (0.7.0)\n",
            "Requirement already satisfied: notebook-shim>=0.2.3 in /usr/local/lib/python3.11/dist-packages (from nbclassic>=0.4.7->notebook>=4.4.1->widgetsnbextension~=3.6.0->ipywidgets>=7.6.0->anywidget>=0.9.0->jupyter-bbox-widget->pylabel->rfdetr==1.0.8->baseballcv==0.1.21) (0.2.4)\n",
            "Requirement already satisfied: bleach!=5.0.0 in /usr/local/lib/python3.11/dist-packages (from bleach[css]!=5.0.0->nbconvert>=5->notebook>=4.4.1->widgetsnbextension~=3.6.0->ipywidgets>=7.6.0->anywidget>=0.9.0->jupyter-bbox-widget->pylabel->rfdetr==1.0.8->baseballcv==0.1.21) (6.2.0)\n",
            "Requirement already satisfied: jupyterlab-pygments in /usr/local/lib/python3.11/dist-packages (from nbconvert>=5->notebook>=4.4.1->widgetsnbextension~=3.6.0->ipywidgets>=7.6.0->anywidget>=0.9.0->jupyter-bbox-widget->pylabel->rfdetr==1.0.8->baseballcv==0.1.21) (0.3.0)\n",
            "Requirement already satisfied: mistune<4,>=2.0.3 in /usr/local/lib/python3.11/dist-packages (from nbconvert>=5->notebook>=4.4.1->widgetsnbextension~=3.6.0->ipywidgets>=7.6.0->anywidget>=0.9.0->jupyter-bbox-widget->pylabel->rfdetr==1.0.8->baseballcv==0.1.21) (3.1.3)\n",
            "Requirement already satisfied: nbclient>=0.5.0 in /usr/local/lib/python3.11/dist-packages (from nbconvert>=5->notebook>=4.4.1->widgetsnbextension~=3.6.0->ipywidgets>=7.6.0->anywidget>=0.9.0->jupyter-bbox-widget->pylabel->rfdetr==1.0.8->baseballcv==0.1.21) (0.10.2)\n",
            "Requirement already satisfied: pandocfilters>=1.4.1 in /usr/local/lib/python3.11/dist-packages (from nbconvert>=5->notebook>=4.4.1->widgetsnbextension~=3.6.0->ipywidgets>=7.6.0->anywidget>=0.9.0->jupyter-bbox-widget->pylabel->rfdetr==1.0.8->baseballcv==0.1.21) (1.5.1)\n",
            "Requirement already satisfied: fastjsonschema>=2.15 in /usr/local/lib/python3.11/dist-packages (from nbformat->notebook>=4.4.1->widgetsnbextension~=3.6.0->ipywidgets>=7.6.0->anywidget>=0.9.0->jupyter-bbox-widget->pylabel->rfdetr==1.0.8->baseballcv==0.1.21) (2.21.1)\n",
            "Requirement already satisfied: argon2-cffi-bindings in /usr/local/lib/python3.11/dist-packages (from argon2-cffi->notebook>=4.4.1->widgetsnbextension~=3.6.0->ipywidgets>=7.6.0->anywidget>=0.9.0->jupyter-bbox-widget->pylabel->rfdetr==1.0.8->baseballcv==0.1.21) (21.2.0)\n",
            "Requirement already satisfied: webencodings in /usr/local/lib/python3.11/dist-packages (from bleach!=5.0.0->bleach[css]!=5.0.0->nbconvert>=5->notebook>=4.4.1->widgetsnbextension~=3.6.0->ipywidgets>=7.6.0->anywidget>=0.9.0->jupyter-bbox-widget->pylabel->rfdetr==1.0.8->baseballcv==0.1.21) (0.5.1)\n",
            "Requirement already satisfied: tinycss2<1.5,>=1.1.0 in /usr/local/lib/python3.11/dist-packages (from bleach[css]!=5.0.0->nbconvert>=5->notebook>=4.4.1->widgetsnbextension~=3.6.0->ipywidgets>=7.6.0->anywidget>=0.9.0->jupyter-bbox-widget->pylabel->rfdetr==1.0.8->baseballcv==0.1.21) (1.4.0)\n",
            "Requirement already satisfied: jupyter-server<3,>=1.8 in /usr/local/lib/python3.11/dist-packages (from notebook-shim>=0.2.3->nbclassic>=0.4.7->notebook>=4.4.1->widgetsnbextension~=3.6.0->ipywidgets>=7.6.0->anywidget>=0.9.0->jupyter-bbox-widget->pylabel->rfdetr==1.0.8->baseballcv==0.1.21) (1.16.0)\n",
            "Requirement already satisfied: anyio>=3.1.0 in /usr/local/lib/python3.11/dist-packages (from jupyter-server<3,>=1.8->notebook-shim>=0.2.3->nbclassic>=0.4.7->notebook>=4.4.1->widgetsnbextension~=3.6.0->ipywidgets>=7.6.0->anywidget>=0.9.0->jupyter-bbox-widget->pylabel->rfdetr==1.0.8->baseballcv==0.1.21) (4.9.0)\n",
            "Requirement already satisfied: websocket-client in /usr/local/lib/python3.11/dist-packages (from jupyter-server<3,>=1.8->notebook-shim>=0.2.3->nbclassic>=0.4.7->notebook>=4.4.1->widgetsnbextension~=3.6.0->ipywidgets>=7.6.0->anywidget>=0.9.0->jupyter-bbox-widget->pylabel->rfdetr==1.0.8->baseballcv==0.1.21) (1.8.0)\n",
            "Requirement already satisfied: sniffio>=1.1 in /usr/local/lib/python3.11/dist-packages (from anyio>=3.1.0->jupyter-server<3,>=1.8->notebook-shim>=0.2.3->nbclassic>=0.4.7->notebook>=4.4.1->widgetsnbextension~=3.6.0->ipywidgets>=7.6.0->anywidget>=0.9.0->jupyter-bbox-widget->pylabel->rfdetr==1.0.8->baseballcv==0.1.21) (1.3.1)\n",
            "Downloading autodistill-0.1.29-py3-none-any.whl (32 kB)\n",
            "Downloading autodistill_grounded_sam-0.1.2-py3-none-any.whl (8.7 kB)\n",
            "Downloading awscli-1.36.5-py3-none-any.whl (4.5 MB)\n",
            "\u001b[2K   \u001b[90m━━━━━━━━━━━━━━━━━━━━━━━━━━━━━━━━━━━━━━━━\u001b[0m \u001b[32m4.5/4.5 MB\u001b[0m \u001b[31m42.6 MB/s\u001b[0m eta \u001b[36m0:00:00\u001b[0m\n",
            "\u001b[?25hDownloading bs4-0.0.2-py2.py3-none-any.whl (1.2 kB)\n",
            "Downloading cryptography-44.0.1-cp39-abi3-manylinux_2_34_x86_64.whl (4.2 MB)\n",
            "\u001b[2K   \u001b[90m━━━━━━━━━━━━━━━━━━━━━━━━━━━━━━━━━━━━━━━━\u001b[0m \u001b[32m4.2/4.2 MB\u001b[0m \u001b[31m109.6 MB/s\u001b[0m eta \u001b[36m0:00:00\u001b[0m\n",
            "\u001b[?25hDownloading datasets-3.4.0-py3-none-any.whl (487 kB)\n",
            "\u001b[2K   \u001b[90m━━━━━━━━━━━━━━━━━━━━━━━━━━━━━━━━━━━━━━━━\u001b[0m \u001b[32m487.4/487.4 kB\u001b[0m \u001b[31m44.0 MB/s\u001b[0m eta \u001b[36m0:00:00\u001b[0m\n",
            "\u001b[?25hDownloading mediapipe-0.10.21-cp311-cp311-manylinux_2_28_x86_64.whl (35.6 MB)\n",
            "\u001b[2K   \u001b[90m━━━━━━━━━━━━━━━━━━━━━━━━━━━━━━━━━━━━━━━━\u001b[0m \u001b[32m35.6/35.6 MB\u001b[0m \u001b[31m63.6 MB/s\u001b[0m eta \u001b[36m0:00:00\u001b[0m\n",
            "\u001b[?25hDownloading opencv_python-4.10.0.84-cp37-abi3-manylinux_2_17_x86_64.manylinux2014_x86_64.whl (62.5 MB)\n",
            "\u001b[2K   \u001b[90m━━━━━━━━━━━━━━━━━━━━━━━━━━━━━━━━━━━━━━━━\u001b[0m \u001b[32m62.5/62.5 MB\u001b[0m \u001b[31m36.8 MB/s\u001b[0m eta \u001b[36m0:00:00\u001b[0m\n",
            "\u001b[?25hDownloading peft-0.13.2-py3-none-any.whl (320 kB)\n",
            "\u001b[2K   \u001b[90m━━━━━━━━━━━━━━━━━━━━━━━━━━━━━━━━━━━━━━━━\u001b[0m \u001b[32m320.7/320.7 kB\u001b[0m \u001b[31m34.2 MB/s\u001b[0m eta \u001b[36m0:00:00\u001b[0m\n",
            "\u001b[?25hDownloading pillow-10.3.0-cp311-cp311-manylinux_2_28_x86_64.whl (4.5 MB)\n",
            "\u001b[2K   \u001b[90m━━━━━━━━━━━━━━━━━━━━━━━━━━━━━━━━━━━━━━━━\u001b[0m \u001b[32m4.5/4.5 MB\u001b[0m \u001b[31m112.8 MB/s\u001b[0m eta \u001b[36m0:00:00\u001b[0m\n",
            "\u001b[?25hDownloading pip-24.0-py3-none-any.whl (2.1 MB)\n",
            "\u001b[2K   \u001b[90m━━━━━━━━━━━━━━━━━━━━━━━━━━━━━━━━━━━━━━━━\u001b[0m \u001b[32m2.1/2.1 MB\u001b[0m \u001b[31m89.2 MB/s\u001b[0m eta \u001b[36m0:00:00\u001b[0m\n",
            "\u001b[?25hDownloading polars-1.10.0-cp39-abi3-manylinux_2_17_x86_64.manylinux2014_x86_64.whl (33.2 MB)\n",
            "\u001b[2K   \u001b[90m━━━━━━━━━━━━━━━━━━━━━━━━━━━━━━━━━━━━━━━━\u001b[0m \u001b[32m33.2/33.2 MB\u001b[0m \u001b[31m66.8 MB/s\u001b[0m eta \u001b[36m0:00:00\u001b[0m\n",
            "\u001b[?25hDownloading pybaseball-2.2.7-py3-none-any.whl (426 kB)\n",
            "\u001b[2K   \u001b[90m━━━━━━━━━━━━━━━━━━━━━━━━━━━━━━━━━━━━━━━━\u001b[0m \u001b[32m426.1/426.1 kB\u001b[0m \u001b[31m41.2 MB/s\u001b[0m eta \u001b[36m0:00:00\u001b[0m\n",
            "\u001b[?25hDownloading pytest-8.3.2-py3-none-any.whl (341 kB)\n",
            "\u001b[2K   \u001b[90m━━━━━━━━━━━━━━━━━━━━━━━━━━━━━━━━━━━━━━━━\u001b[0m \u001b[32m341.8/341.8 kB\u001b[0m \u001b[31m37.4 MB/s\u001b[0m eta \u001b[36m0:00:00\u001b[0m\n",
            "\u001b[?25hDownloading pytest_cov-6.0.0-py3-none-any.whl (22 kB)\n",
            "Downloading pytorch_lightning-2.5.0-py3-none-any.whl (819 kB)\n",
            "\u001b[2K   \u001b[90m━━━━━━━━━━━━━━━━━━━━━━━━━━━━━━━━━━━━━━━━\u001b[0m \u001b[32m819.4/819.4 kB\u001b[0m \u001b[31m63.4 MB/s\u001b[0m eta \u001b[36m0:00:00\u001b[0m\n",
            "\u001b[?25hDownloading rfdetr-1.0.8-py3-none-any.whl (122 kB)\n",
            "\u001b[2K   \u001b[90m━━━━━━━━━━━━━━━━━━━━━━━━━━━━━━━━━━━━━━━━\u001b[0m \u001b[32m122.0/122.0 kB\u001b[0m \u001b[31m16.6 MB/s\u001b[0m eta \u001b[36m0:00:00\u001b[0m\n",
            "\u001b[?25hDownloading roboflow-1.1.50-py3-none-any.whl (81 kB)\n",
            "\u001b[2K   \u001b[90m━━━━━━━━━━━━━━━━━━━━━━━━━━━━━━━━━━━━━━━━\u001b[0m \u001b[32m81.5/81.5 kB\u001b[0m \u001b[31m10.7 MB/s\u001b[0m eta \u001b[36m0:00:00\u001b[0m\n",
            "\u001b[?25hDownloading streamlit-1.37.0-py2.py3-none-any.whl (8.7 MB)\n",
            "\u001b[2K   \u001b[90m━━━━━━━━━━━━━━━━━━━━━━━━━━━━━━━━━━━━━━━━\u001b[0m \u001b[32m8.7/8.7 MB\u001b[0m \u001b[31m116.2 MB/s\u001b[0m eta \u001b[36m0:00:00\u001b[0m\n",
            "\u001b[?25hDownloading supervision-0.25.1-py3-none-any.whl (181 kB)\n",
            "\u001b[2K   \u001b[90m━━━━━━━━━━━━━━━━━━━━━━━━━━━━━━━━━━━━━━━━\u001b[0m \u001b[32m181.5/181.5 kB\u001b[0m \u001b[31m21.6 MB/s\u001b[0m eta \u001b[36m0:00:00\u001b[0m\n",
            "\u001b[?25hDownloading transformers-4.48.0-py3-none-any.whl (9.7 MB)\n",
            "\u001b[2K   \u001b[90m━━━━━━━━━━━━━━━━━━━━━━━━━━━━━━━━━━━━━━━━\u001b[0m \u001b[32m9.7/9.7 MB\u001b[0m \u001b[31m132.0 MB/s\u001b[0m eta \u001b[36m0:00:00\u001b[0m\n",
            "\u001b[?25hDownloading wandb-0.19.1-py3-none-manylinux_2_17_x86_64.manylinux2014_x86_64.whl (20.0 MB)\n",
            "\u001b[2K   \u001b[90m━━━━━━━━━━━━━━━━━━━━━━━━━━━━━━━━━━━━━━━━\u001b[0m \u001b[32m20.0/20.0 MB\u001b[0m \u001b[31m103.9 MB/s\u001b[0m eta \u001b[36m0:00:00\u001b[0m\n",
            "\u001b[?25hDownloading botocore-1.35.64-py3-none-any.whl (12.9 MB)\n",
            "\u001b[2K   \u001b[90m━━━━━━━━━━━━━━━━━━━━━━━━━━━━━━━━━━━━━━━━\u001b[0m \u001b[32m12.9/12.9 MB\u001b[0m \u001b[31m114.9 MB/s\u001b[0m eta \u001b[36m0:00:00\u001b[0m\n",
            "\u001b[?25hDownloading idna-3.7-py3-none-any.whl (66 kB)\n",
            "\u001b[2K   \u001b[90m━━━━━━━━━━━━━━━━━━━━━━━━━━━━━━━━━━━━━━━━\u001b[0m \u001b[32m66.8/66.8 kB\u001b[0m \u001b[31m7.5 MB/s\u001b[0m eta \u001b[36m0:00:00\u001b[0m\n",
            "\u001b[?25hDownloading opencv_python_headless-4.10.0.84-cp37-abi3-manylinux_2_17_x86_64.manylinux2014_x86_64.whl (49.9 MB)\n",
            "\u001b[2K   \u001b[90m━━━━━━━━━━━━━━━━━━━━━━━━━━━━━━━━━━━━━━━━\u001b[0m \u001b[32m49.9/49.9 MB\u001b[0m \u001b[31m17.1 MB/s\u001b[0m eta \u001b[36m0:00:00\u001b[0m\n",
            "\u001b[?25hDownloading ultralytics-8.3.107-py3-none-any.whl (974 kB)\n",
            "\u001b[2K   \u001b[90m━━━━━━━━━━━━━━━━━━━━━━━━━━━━━━━━━━━━━━━━\u001b[0m \u001b[32m974.5/974.5 kB\u001b[0m \u001b[31m59.9 MB/s\u001b[0m eta \u001b[36m0:00:00\u001b[0m\n",
            "\u001b[?25hDownloading colorama-0.4.6-py2.py3-none-any.whl (25 kB)\n",
            "Downloading coverage-7.8.0-cp311-cp311-manylinux_2_5_x86_64.manylinux1_x86_64.manylinux_2_17_x86_64.manylinux2014_x86_64.whl (244 kB)\n",
            "\u001b[2K   \u001b[90m━━━━━━━━━━━━━━━━━━━━━━━━━━━━━━━━━━━━━━━━\u001b[0m \u001b[32m244.0/244.0 kB\u001b[0m \u001b[31m26.6 MB/s\u001b[0m eta \u001b[36m0:00:00\u001b[0m\n",
            "\u001b[?25hDownloading dill-0.3.8-py3-none-any.whl (116 kB)\n",
            "\u001b[2K   \u001b[90m━━━━━━━━━━━━━━━━━━━━━━━━━━━━━━━━━━━━━━━━\u001b[0m \u001b[32m116.3/116.3 kB\u001b[0m \u001b[31m13.1 MB/s\u001b[0m eta \u001b[36m0:00:00\u001b[0m\n",
            "\u001b[?25hDownloading docutils-0.16-py2.py3-none-any.whl (548 kB)\n",
            "\u001b[2K   \u001b[90m━━━━━━━━━━━━━━━━━━━━━━━━━━━━━━━━━━━━━━━━\u001b[0m \u001b[32m548.2/548.2 kB\u001b[0m \u001b[31m46.2 MB/s\u001b[0m eta \u001b[36m0:00:00\u001b[0m\n",
            "\u001b[?25hDownloading fsspec-2024.12.0-py3-none-any.whl (183 kB)\n",
            "\u001b[2K   \u001b[90m━━━━━━━━━━━━━━━━━━━━━━━━━━━━━━━━━━━━━━━━\u001b[0m \u001b[32m183.9/183.9 kB\u001b[0m \u001b[31m21.1 MB/s\u001b[0m eta \u001b[36m0:00:00\u001b[0m\n",
            "\u001b[?25hDownloading lightning_utilities-0.14.3-py3-none-any.whl (28 kB)\n",
            "Downloading multiprocess-0.70.16-py311-none-any.whl (143 kB)\n",
            "\u001b[2K   \u001b[90m━━━━━━━━━━━━━━━━━━━━━━━━━━━━━━━━━━━━━━━━\u001b[0m \u001b[32m143.5/143.5 kB\u001b[0m \u001b[31m17.2 MB/s\u001b[0m eta \u001b[36m0:00:00\u001b[0m\n",
            "\u001b[?25hDownloading numpy-1.26.4-cp311-cp311-manylinux_2_17_x86_64.manylinux2014_x86_64.whl (18.3 MB)\n",
            "\u001b[2K   \u001b[90m━━━━━━━━━━━━━━━━━━━━━━━━━━━━━━━━━━━━━━━━\u001b[0m \u001b[32m18.3/18.3 MB\u001b[0m \u001b[31m104.3 MB/s\u001b[0m eta \u001b[36m0:00:00\u001b[0m\n",
            "\u001b[?25hDownloading protobuf-4.25.6-cp37-abi3-manylinux2014_x86_64.whl (294 kB)\n",
            "\u001b[2K   \u001b[90m━━━━━━━━━━━━━━━━━━━━━━━━━━━━━━━━━━━━━━━━\u001b[0m \u001b[32m294.6/294.6 kB\u001b[0m \u001b[31m30.0 MB/s\u001b[0m eta \u001b[36m0:00:00\u001b[0m\n",
            "\u001b[?25hDownloading pydeck-0.9.1-py2.py3-none-any.whl (6.9 MB)\n",
            "\u001b[2K   \u001b[90m━━━━━━━━━━━━━━━━━━━━━━━━━━━━━━━━━━━━━━━━\u001b[0m \u001b[32m6.9/6.9 MB\u001b[0m \u001b[31m116.6 MB/s\u001b[0m eta \u001b[36m0:00:00\u001b[0m\n",
            "\u001b[?25hDownloading PyGithub-2.6.1-py3-none-any.whl (410 kB)\n",
            "\u001b[2K   \u001b[90m━━━━━━━━━━━━━━━━━━━━━━━━━━━━━━━━━━━━━━━━\u001b[0m \u001b[32m410.5/410.5 kB\u001b[0m \u001b[31m40.8 MB/s\u001b[0m eta \u001b[36m0:00:00\u001b[0m\n",
            "\u001b[?25hDownloading rsa-4.7.2-py3-none-any.whl (34 kB)\n",
            "Downloading s3transfer-0.10.4-py3-none-any.whl (83 kB)\n",
            "\u001b[2K   \u001b[90m━━━━━━━━━━━━━━━━━━━━━━━━━━━━━━━━━━━━━━━━\u001b[0m \u001b[32m83.2/83.2 kB\u001b[0m \u001b[31m9.4 MB/s\u001b[0m eta \u001b[36m0:00:00\u001b[0m\n",
            "\u001b[?25hDownloading sounddevice-0.5.1-py3-none-any.whl (32 kB)\n",
            "Downloading tenacity-8.5.0-py3-none-any.whl (28 kB)\n",
            "Downloading nvidia_cublas_cu12-12.4.5.8-py3-none-manylinux2014_x86_64.whl (363.4 MB)\n",
            "\u001b[2K   \u001b[90m━━━━━━━━━━━━━━━━━━━━━━━━━━━━━━━━━━━━━━━━\u001b[0m \u001b[32m363.4/363.4 MB\u001b[0m \u001b[31m3.0 MB/s\u001b[0m eta \u001b[36m0:00:00\u001b[0m\n",
            "\u001b[?25hDownloading nvidia_cuda_cupti_cu12-12.4.127-py3-none-manylinux2014_x86_64.whl (13.8 MB)\n",
            "\u001b[2K   \u001b[90m━━━━━━━━━━━━━━━━━━━━━━━━━━━━━━━━━━━━━━━━\u001b[0m \u001b[32m13.8/13.8 MB\u001b[0m \u001b[31m117.2 MB/s\u001b[0m eta \u001b[36m0:00:00\u001b[0m\n",
            "\u001b[?25hDownloading nvidia_cuda_nvrtc_cu12-12.4.127-py3-none-manylinux2014_x86_64.whl (24.6 MB)\n",
            "\u001b[2K   \u001b[90m━━━━━━━━━━━━━━━━━━━━━━━━━━━━━━━━━━━━━━━━\u001b[0m \u001b[32m24.6/24.6 MB\u001b[0m \u001b[31m91.7 MB/s\u001b[0m eta \u001b[36m0:00:00\u001b[0m\n",
            "\u001b[?25hDownloading nvidia_cuda_runtime_cu12-12.4.127-py3-none-manylinux2014_x86_64.whl (883 kB)\n",
            "\u001b[2K   \u001b[90m━━━━━━━━━━━━━━━━━━━━━━━━━━━━━━━━━━━━━━━━\u001b[0m \u001b[32m883.7/883.7 kB\u001b[0m \u001b[31m61.6 MB/s\u001b[0m eta \u001b[36m0:00:00\u001b[0m\n",
            "\u001b[?25hDownloading nvidia_cudnn_cu12-9.1.0.70-py3-none-manylinux2014_x86_64.whl (664.8 MB)\n",
            "\u001b[2K   \u001b[90m━━━━━━━━━━━━━━━━━━━━━━━━━━━━━━━━━━━━━━━━\u001b[0m \u001b[32m664.8/664.8 MB\u001b[0m \u001b[31m2.1 MB/s\u001b[0m eta \u001b[36m0:00:00\u001b[0m\n",
            "\u001b[?25hDownloading nvidia_cufft_cu12-11.2.1.3-py3-none-manylinux2014_x86_64.whl (211.5 MB)\n",
            "\u001b[2K   \u001b[90m━━━━━━━━━━━━━━━━━━━━━━━━━━━━━━━━━━━━━━━━\u001b[0m \u001b[32m211.5/211.5 MB\u001b[0m \u001b[31m4.6 MB/s\u001b[0m eta \u001b[36m0:00:00\u001b[0m\n",
            "\u001b[?25hDownloading nvidia_curand_cu12-10.3.5.147-py3-none-manylinux2014_x86_64.whl (56.3 MB)\n",
            "\u001b[2K   \u001b[90m━━━━━━━━━━━━━━━━━━━━━━━━━━━━━━━━━━━━━━━━\u001b[0m \u001b[32m56.3/56.3 MB\u001b[0m \u001b[31m39.0 MB/s\u001b[0m eta \u001b[36m0:00:00\u001b[0m\n",
            "\u001b[?25hDownloading nvidia_cusolver_cu12-11.6.1.9-py3-none-manylinux2014_x86_64.whl (127.9 MB)\n",
            "\u001b[2K   \u001b[90m━━━━━━━━━━━━━━━━━━━━━━━━━━━━━━━━━━━━━━━━\u001b[0m \u001b[32m127.9/127.9 MB\u001b[0m \u001b[31m17.9 MB/s\u001b[0m eta \u001b[36m0:00:00\u001b[0m\n",
            "\u001b[?25hDownloading nvidia_cusparse_cu12-12.3.1.170-py3-none-manylinux2014_x86_64.whl (207.5 MB)\n",
            "\u001b[2K   \u001b[90m━━━━━━━━━━━━━━━━━━━━━━━━━━━━━━━━━━━━━━━━\u001b[0m \u001b[32m207.5/207.5 MB\u001b[0m \u001b[31m4.1 MB/s\u001b[0m eta \u001b[36m0:00:00\u001b[0m\n",
            "\u001b[?25hDownloading nvidia_nvjitlink_cu12-12.4.127-py3-none-manylinux2014_x86_64.whl (21.1 MB)\n",
            "\u001b[2K   \u001b[90m━━━━━━━━━━━━━━━━━━━━━━━━━━━━━━━━━━━━━━━━\u001b[0m \u001b[32m21.1/21.1 MB\u001b[0m \u001b[31m58.2 MB/s\u001b[0m eta \u001b[36m0:00:00\u001b[0m\n",
            "\u001b[?25hDownloading torchmetrics-1.7.1-py3-none-any.whl (961 kB)\n",
            "\u001b[2K   \u001b[90m━━━━━━━━━━━━━━━━━━━━━━━━━━━━━━━━━━━━━━━━\u001b[0m \u001b[32m961.5/961.5 kB\u001b[0m \u001b[31m48.9 MB/s\u001b[0m eta \u001b[36m0:00:00\u001b[0m\n",
            "\u001b[?25hDownloading ultralytics_thop-2.0.14-py3-none-any.whl (26 kB)\n",
            "Downloading watchdog-4.0.2-py3-none-manylinux2014_x86_64.whl (82 kB)\n",
            "\u001b[2K   \u001b[90m━━━━━━━━━━━━━━━━━━━━━━━━━━━━━━━━━━━━━━━━\u001b[0m \u001b[32m82.9/82.9 kB\u001b[0m \u001b[31m10.9 MB/s\u001b[0m eta \u001b[36m0:00:00\u001b[0m\n",
            "\u001b[?25hDownloading filetype-1.2.0-py2.py3-none-any.whl (19 kB)\n",
            "Using cached ninja-1.11.1.4-py3-none-manylinux_2_12_x86_64.manylinux2010_x86_64.whl (422 kB)\n",
            "Downloading onnx-1.17.0-cp311-cp311-manylinux_2_17_x86_64.manylinux2014_x86_64.whl (16.0 MB)\n",
            "\u001b[2K   \u001b[90m━━━━━━━━━━━━━━━━━━━━━━━━━━━━━━━━━━━━━━━━\u001b[0m \u001b[32m16.0/16.0 MB\u001b[0m \u001b[31m62.2 MB/s\u001b[0m eta \u001b[36m0:00:00\u001b[0m\n",
            "\u001b[?25hDownloading onnx_graphsurgeon-0.5.8-py2.py3-none-any.whl (57 kB)\n",
            "\u001b[2K   \u001b[90m━━━━━━━━━━━━━━━━━━━━━━━━━━━━━━━━━━━━━━━━\u001b[0m \u001b[32m57.9/57.9 kB\u001b[0m \u001b[31m6.8 MB/s\u001b[0m eta \u001b[36m0:00:00\u001b[0m\n",
            "\u001b[?25hDownloading onnxsim-0.4.36-cp311-cp311-manylinux_2_17_x86_64.manylinux2014_x86_64.whl (2.3 MB)\n",
            "\u001b[2K   \u001b[90m━━━━━━━━━━━━━━━━━━━━━━━━━━━━━━━━━━━━━━━━\u001b[0m \u001b[32m2.3/2.3 MB\u001b[0m \u001b[31m58.2 MB/s\u001b[0m eta \u001b[36m0:00:00\u001b[0m\n",
            "\u001b[?25hDownloading open_clip_torch-2.32.0-py3-none-any.whl (1.5 MB)\n",
            "\u001b[2K   \u001b[90m━━━━━━━━━━━━━━━━━━━━━━━━━━━━━━━━━━━━━━━━\u001b[0m \u001b[32m1.5/1.5 MB\u001b[0m \u001b[31m52.6 MB/s\u001b[0m eta \u001b[36m0:00:00\u001b[0m\n",
            "\u001b[?25hDownloading polygraphy-0.49.20-py2.py3-none-any.whl (354 kB)\n",
            "\u001b[2K   \u001b[90m━━━━━━━━━━━━━━━━━━━━━━━━━━━━━━━━━━━━━━━━\u001b[0m \u001b[32m354.9/354.9 kB\u001b[0m \u001b[31m35.6 MB/s\u001b[0m eta \u001b[36m0:00:00\u001b[0m\n",
            "\u001b[?25hDownloading pylabel-0.1.55-py3-none-any.whl (27 kB)\n",
            "Downloading python_dotenv-1.1.0-py3-none-any.whl (20 kB)\n",
            "Downloading rf_groundingdino-0.2.0-py2.py3-none-any.whl (93 kB)\n",
            "\u001b[2K   \u001b[90m━━━━━━━━━━━━━━━━━━━━━━━━━━━━━━━━━━━━━━━━\u001b[0m \u001b[32m93.1/93.1 kB\u001b[0m \u001b[31m12.1 MB/s\u001b[0m eta \u001b[36m0:00:00\u001b[0m\n",
            "\u001b[?25hDownloading rf_segment_anything-1.0-py3-none-any.whl (36 kB)\n",
            "Downloading rf100vl-1.0.0-py3-none-any.whl (16 kB)\n",
            "Downloading xxhash-3.5.0-cp311-cp311-manylinux_2_17_x86_64.manylinux2014_x86_64.whl (194 kB)\n",
            "\u001b[2K   \u001b[90m━━━━━━━━━━━━━━━━━━━━━━━━━━━━━━━━━━━━━━━━\u001b[0m \u001b[32m194.8/194.8 kB\u001b[0m \u001b[31m22.7 MB/s\u001b[0m eta \u001b[36m0:00:00\u001b[0m\n",
            "\u001b[?25hDownloading jmespath-1.0.1-py3-none-any.whl (20 kB)\n",
            "Downloading PyNaCl-1.5.0-cp36-abi3-manylinux_2_17_x86_64.manylinux2014_x86_64.manylinux_2_24_x86_64.whl (856 kB)\n",
            "\u001b[2K   \u001b[90m━━━━━━━━━━━━━━━━━━━━━━━━━━━━━━━━━━━━━━━━\u001b[0m \u001b[32m856.7/856.7 kB\u001b[0m \u001b[31m46.8 MB/s\u001b[0m eta \u001b[36m0:00:00\u001b[0m\n",
            "\u001b[?25hDownloading addict-2.4.0-py3-none-any.whl (3.8 kB)\n",
            "Downloading bbox_visualizer-0.2.0-py3-none-any.whl (6.8 kB)\n",
            "Downloading ftfy-6.3.1-py3-none-any.whl (44 kB)\n",
            "\u001b[2K   \u001b[90m━━━━━━━━━━━━━━━━━━━━━━━━━━━━━━━━━━━━━━━━\u001b[0m \u001b[32m44.8/44.8 kB\u001b[0m \u001b[31m5.2 MB/s\u001b[0m eta \u001b[36m0:00:00\u001b[0m\n",
            "\u001b[?25hDownloading jupyter_bbox_widget-0.6.0-py3-none-any.whl (24 kB)\n",
            "Downloading yapf-0.43.0-py3-none-any.whl (256 kB)\n",
            "\u001b[2K   \u001b[90m━━━━━━━━━━━━━━━━━━━━━━━━━━━━━━━━━━━━━━━━\u001b[0m \u001b[32m256.2/256.2 kB\u001b[0m \u001b[31m28.4 MB/s\u001b[0m eta \u001b[36m0:00:00\u001b[0m\n",
            "\u001b[?25hDownloading anywidget-0.9.18-py3-none-any.whl (220 kB)\n",
            "\u001b[2K   \u001b[90m━━━━━━━━━━━━━━━━━━━━━━━━━━━━━━━━━━━━━━━━\u001b[0m \u001b[32m220.7/220.7 kB\u001b[0m \u001b[31m25.7 MB/s\u001b[0m eta \u001b[36m0:00:00\u001b[0m\n",
            "\u001b[?25hDownloading psygnal-0.12.0-cp311-cp311-manylinux_2_17_x86_64.manylinux2014_x86_64.whl (765 kB)\n",
            "\u001b[2K   \u001b[90m━━━━━━━━━━━━━━━━━━━━━━━━━━━━━━━━━━━━━━━━\u001b[0m \u001b[32m765.5/765.5 kB\u001b[0m \u001b[31m45.0 MB/s\u001b[0m eta \u001b[36m0:00:00\u001b[0m\n",
            "\u001b[?25hDownloading jedi-0.19.2-py2.py3-none-any.whl (1.6 MB)\n",
            "\u001b[2K   \u001b[90m━━━━━━━━━━━━━━━━━━━━━━━━━━━━━━━━━━━━━━━━\u001b[0m \u001b[32m1.6/1.6 MB\u001b[0m \u001b[31m55.6 MB/s\u001b[0m eta \u001b[36m0:00:00\u001b[0m\n",
            "\u001b[?25hBuilding wheels for collected packages: baseballcv, coco-eval, fairscale\n",
            "  Building editable for baseballcv (pyproject.toml) ... \u001b[?25l\u001b[?25hdone\n",
            "  Created wheel for baseballcv: filename=baseballcv-0.1.21-0.editable-py3-none-any.whl size=10623 sha256=b4fb2abfc7bb87d8128b14b8a3e5782c735625601b03a86ab9b3366e73a346ed\n",
            "  Stored in directory: /tmp/pip-ephem-wheel-cache-yp919t9_/wheels/72/89/e2/79f58242efdf13f121111231e47d481ac526d2714e543d8c6c\n",
            "  Building wheel for coco-eval (setup.py) ... \u001b[?25l\u001b[?25hdone\n",
            "  Created wheel for coco-eval: filename=coco_eval-0.0.4-py3-none-any.whl size=5016 sha256=f01f887debbd0b20ea5f919aaad13afead4eff3041db8bf45fea49e9e4951831\n",
            "  Stored in directory: /root/.cache/pip/wheels/a1/9f/46/f0e4e2fab494ddd7afba1839e7f6036f5ae804fc66a89093f0\n",
            "  Building wheel for fairscale (pyproject.toml) ... \u001b[?25l\u001b[?25hdone\n",
            "  Created wheel for fairscale: filename=fairscale-0.4.13-py3-none-any.whl size=332207 sha256=cb167e307fec414c5c99ae59ef37e4b249ba9cb109764750996e347249c24d1d\n",
            "  Stored in directory: /root/.cache/pip/wheels/95/ef/96/5044bde220b2ea299bdc6ec05051e0ef187fad45b341d1c273\n",
            "Successfully built baseballcv coco-eval fairscale\n",
            "Installing collected packages: rf-segment-anything, filetype, addict, yapf, xxhash, watchdog, tenacity, rsa, python-dotenv, pytest, psygnal, protobuf, polygraphy, polars, pip, pillow, nvidia-nvjitlink-cu12, nvidia-curand-cu12, nvidia-cufft-cu12, nvidia-cuda-runtime-cu12, nvidia-cuda-nvrtc-cu12, nvidia-cuda-cupti-cu12, nvidia-cublas-cu12, numpy, ninja, lightning-utilities, jmespath, jedi, idna, ftfy, fsspec, docutils, dill, coverage, colorama, sounddevice, pynacl, pydeck, opencv-python-headless, opencv-python, onnx, nvidia-cusparse-cu12, nvidia-cudnn-cu12, multiprocess, cryptography, bs4, botocore, wandb, s3transfer, pytest-cov, onnxsim, onnx_graphsurgeon, nvidia-cusolver-cu12, bbox-visualizer, supervision, roboflow, pygithub, awscli, ultralytics-thop, transformers, torchmetrics, streamlit, rf100vl, pybaseball, mediapipe, fairscale, datasets, coco-eval, autodistill, ultralytics, pytorch-lightning, peft, rf-groundingdino, open_clip_torch, autodistill-grounded-sam, anywidget, jupyter-bbox-widget, pylabel, rfdetr, baseballcv\n",
            "  Attempting uninstall: tenacity\n",
            "    Found existing installation: tenacity 9.1.2\n",
            "    Uninstalling tenacity-9.1.2:\n",
            "      Successfully uninstalled tenacity-9.1.2\n",
            "  Attempting uninstall: rsa\n",
            "    Found existing installation: rsa 4.9\n",
            "    Uninstalling rsa-4.9:\n",
            "      Successfully uninstalled rsa-4.9\n",
            "  Attempting uninstall: pytest\n",
            "    Found existing installation: pytest 8.3.5\n",
            "    Uninstalling pytest-8.3.5:\n",
            "      Successfully uninstalled pytest-8.3.5\n",
            "  Attempting uninstall: protobuf\n",
            "    Found existing installation: protobuf 5.29.4\n",
            "    Uninstalling protobuf-5.29.4:\n",
            "      Successfully uninstalled protobuf-5.29.4\n",
            "  Attempting uninstall: polars\n",
            "    Found existing installation: polars 1.21.0\n",
            "    Uninstalling polars-1.21.0:\n",
            "      Successfully uninstalled polars-1.21.0\n",
            "  Attempting uninstall: pip\n",
            "    Found existing installation: pip 24.1.2\n",
            "    Uninstalling pip-24.1.2:\n",
            "      Successfully uninstalled pip-24.1.2\n",
            "  Attempting uninstall: pillow\n",
            "    Found existing installation: pillow 11.1.0\n",
            "    Uninstalling pillow-11.1.0:\n",
            "      Successfully uninstalled pillow-11.1.0\n",
            "  Attempting uninstall: nvidia-nvjitlink-cu12\n",
            "    Found existing installation: nvidia-nvjitlink-cu12 12.5.82\n",
            "    Uninstalling nvidia-nvjitlink-cu12-12.5.82:\n",
            "      Successfully uninstalled nvidia-nvjitlink-cu12-12.5.82\n",
            "  Attempting uninstall: nvidia-curand-cu12\n",
            "    Found existing installation: nvidia-curand-cu12 10.3.6.82\n",
            "    Uninstalling nvidia-curand-cu12-10.3.6.82:\n",
            "      Successfully uninstalled nvidia-curand-cu12-10.3.6.82\n",
            "  Attempting uninstall: nvidia-cufft-cu12\n",
            "    Found existing installation: nvidia-cufft-cu12 11.2.3.61\n",
            "    Uninstalling nvidia-cufft-cu12-11.2.3.61:\n",
            "      Successfully uninstalled nvidia-cufft-cu12-11.2.3.61\n",
            "  Attempting uninstall: nvidia-cuda-runtime-cu12\n",
            "    Found existing installation: nvidia-cuda-runtime-cu12 12.5.82\n",
            "    Uninstalling nvidia-cuda-runtime-cu12-12.5.82:\n",
            "      Successfully uninstalled nvidia-cuda-runtime-cu12-12.5.82\n",
            "  Attempting uninstall: nvidia-cuda-nvrtc-cu12\n",
            "    Found existing installation: nvidia-cuda-nvrtc-cu12 12.5.82\n",
            "    Uninstalling nvidia-cuda-nvrtc-cu12-12.5.82:\n",
            "      Successfully uninstalled nvidia-cuda-nvrtc-cu12-12.5.82\n",
            "  Attempting uninstall: nvidia-cuda-cupti-cu12\n",
            "    Found existing installation: nvidia-cuda-cupti-cu12 12.5.82\n",
            "    Uninstalling nvidia-cuda-cupti-cu12-12.5.82:\n",
            "      Successfully uninstalled nvidia-cuda-cupti-cu12-12.5.82\n",
            "  Attempting uninstall: nvidia-cublas-cu12\n",
            "    Found existing installation: nvidia-cublas-cu12 12.5.3.2\n",
            "    Uninstalling nvidia-cublas-cu12-12.5.3.2:\n",
            "      Successfully uninstalled nvidia-cublas-cu12-12.5.3.2\n",
            "  Attempting uninstall: numpy\n",
            "    Found existing installation: numpy 2.0.2\n",
            "    Uninstalling numpy-2.0.2:\n",
            "      Successfully uninstalled numpy-2.0.2\n",
            "  Attempting uninstall: idna\n",
            "    Found existing installation: idna 3.10\n",
            "    Uninstalling idna-3.10:\n",
            "      Successfully uninstalled idna-3.10\n",
            "  Attempting uninstall: fsspec\n",
            "    Found existing installation: fsspec 2025.3.2\n",
            "    Uninstalling fsspec-2025.3.2:\n",
            "      Successfully uninstalled fsspec-2025.3.2\n",
            "  Attempting uninstall: docutils\n",
            "    Found existing installation: docutils 0.21.2\n",
            "    Uninstalling docutils-0.21.2:\n",
            "      Successfully uninstalled docutils-0.21.2\n",
            "  Attempting uninstall: opencv-python-headless\n",
            "    Found existing installation: opencv-python-headless 4.11.0.86\n",
            "    Uninstalling opencv-python-headless-4.11.0.86:\n",
            "      Successfully uninstalled opencv-python-headless-4.11.0.86\n",
            "  Attempting uninstall: opencv-python\n",
            "    Found existing installation: opencv-python 4.11.0.86\n",
            "    Uninstalling opencv-python-4.11.0.86:\n",
            "      Successfully uninstalled opencv-python-4.11.0.86\n",
            "  Attempting uninstall: nvidia-cusparse-cu12\n",
            "    Found existing installation: nvidia-cusparse-cu12 12.5.1.3\n",
            "    Uninstalling nvidia-cusparse-cu12-12.5.1.3:\n",
            "      Successfully uninstalled nvidia-cusparse-cu12-12.5.1.3\n",
            "  Attempting uninstall: nvidia-cudnn-cu12\n",
            "    Found existing installation: nvidia-cudnn-cu12 9.3.0.75\n",
            "    Uninstalling nvidia-cudnn-cu12-9.3.0.75:\n",
            "      Successfully uninstalled nvidia-cudnn-cu12-9.3.0.75\n",
            "  Attempting uninstall: cryptography\n",
            "    Found existing installation: cryptography 43.0.3\n",
            "    Uninstalling cryptography-43.0.3:\n",
            "      Successfully uninstalled cryptography-43.0.3\n",
            "  Attempting uninstall: wandb\n",
            "    Found existing installation: wandb 0.19.9\n",
            "    Uninstalling wandb-0.19.9:\n",
            "      Successfully uninstalled wandb-0.19.9\n",
            "  Attempting uninstall: nvidia-cusolver-cu12\n",
            "    Found existing installation: nvidia-cusolver-cu12 11.6.3.83\n",
            "    Uninstalling nvidia-cusolver-cu12-11.6.3.83:\n",
            "      Successfully uninstalled nvidia-cusolver-cu12-11.6.3.83\n",
            "  Attempting uninstall: transformers\n",
            "    Found existing installation: transformers 4.50.3\n",
            "    Uninstalling transformers-4.50.3:\n",
            "      Successfully uninstalled transformers-4.50.3\n",
            "  Attempting uninstall: peft\n",
            "    Found existing installation: peft 0.14.0\n",
            "    Uninstalling peft-0.14.0:\n",
            "      Successfully uninstalled peft-0.14.0\n",
            "\u001b[31mERROR: pip's dependency resolver does not currently take into account all the packages that are installed. This behaviour is the source of the following dependency conflicts.\n",
            "pydrive2 1.21.3 requires cryptography<44, but you have cryptography 44.0.1 which is incompatible.\n",
            "sphinx 8.2.3 requires docutils<0.22,>=0.20, but you have docutils 0.16 which is incompatible.\n",
            "ydf 0.11.0 requires protobuf<6.0.0,>=5.29.1, but you have protobuf 4.25.6 which is incompatible.\n",
            "grpcio-status 1.71.0 requires protobuf<6.0dev,>=5.26.1, but you have protobuf 4.25.6 which is incompatible.\n",
            "thinc 8.3.6 requires numpy<3.0.0,>=2.0.0, but you have numpy 1.26.4 which is incompatible.\n",
            "cudf-polars-cu12 25.2.2 requires polars<1.22,>=1.20, but you have polars 1.10.0 which is incompatible.\n",
            "pyopenssl 24.2.1 requires cryptography<44,>=41.0.5, but you have cryptography 44.0.1 which is incompatible.\n",
            "gcsfs 2025.3.2 requires fsspec==2025.3.2, but you have fsspec 2024.12.0 which is incompatible.\u001b[0m\u001b[31m\n",
            "\u001b[0mSuccessfully installed addict-2.4.0 anywidget-0.9.18 autodistill-0.1.29 autodistill-grounded-sam-0.1.2 awscli-1.36.5 baseballcv-0.1.21 bbox-visualizer-0.2.0 botocore-1.35.64 bs4-0.0.2 coco-eval-0.0.4 colorama-0.4.6 coverage-7.8.0 cryptography-44.0.1 datasets-3.4.0 dill-0.3.8 docutils-0.16 fairscale-0.4.13 filetype-1.2.0 fsspec-2024.12.0 ftfy-6.3.1 idna-3.7 jedi-0.19.2 jmespath-1.0.1 jupyter-bbox-widget-0.6.0 lightning-utilities-0.14.3 mediapipe-0.10.21 multiprocess-0.70.16 ninja-1.11.1.4 numpy-1.26.4 nvidia-cublas-cu12-12.4.5.8 nvidia-cuda-cupti-cu12-12.4.127 nvidia-cuda-nvrtc-cu12-12.4.127 nvidia-cuda-runtime-cu12-12.4.127 nvidia-cudnn-cu12-9.1.0.70 nvidia-cufft-cu12-11.2.1.3 nvidia-curand-cu12-10.3.5.147 nvidia-cusolver-cu12-11.6.1.9 nvidia-cusparse-cu12-12.3.1.170 nvidia-nvjitlink-cu12-12.4.127 onnx-1.17.0 onnx_graphsurgeon-0.5.8 onnxsim-0.4.36 open_clip_torch-2.32.0 opencv-python-4.10.0.84 opencv-python-headless-4.10.0.84 peft-0.13.2 pillow-10.3.0 pip-24.0 polars-1.10.0 polygraphy-0.49.20 protobuf-4.25.6 psygnal-0.12.0 pybaseball-2.2.7 pydeck-0.9.1 pygithub-2.6.1 pylabel-0.1.55 pynacl-1.5.0 pytest-8.3.2 pytest-cov-6.0.0 python-dotenv-1.1.0 pytorch-lightning-2.5.0 rf-groundingdino-0.2.0 rf-segment-anything-1.0 rf100vl-1.0.0 rfdetr-1.0.8 roboflow-1.1.50 rsa-4.7.2 s3transfer-0.10.4 sounddevice-0.5.1 streamlit-1.37.0 supervision-0.25.1 tenacity-8.5.0 torchmetrics-1.7.1 transformers-4.48.0 ultralytics-8.3.107 ultralytics-thop-2.0.14 wandb-0.19.1 watchdog-4.0.2 xxhash-3.5.0 yapf-0.43.0\n"
          ]
        },
        {
          "output_type": "display_data",
          "data": {
            "application/vnd.colab-display-data+json": {
              "pip_warning": {
                "packages": [
                  "PIL"
                ]
              },
              "id": "c6ac38412b7d4237b811629293c1f7ba"
            }
          },
          "metadata": {}
        }
      ],
      "source": [
        "%cd BaseballCV\n",
        "!pip install -e ."
      ]
    },
    {
      "cell_type": "markdown",
      "metadata": {
        "id": "rJulENVd1oAk"
      },
      "source": [
        "We also need to install YOLOv9, which is the object detection model used by the glove tracker:"
      ]
    },
    {
      "cell_type": "code",
      "execution_count": 1,
      "metadata": {
        "colab": {
          "base_uri": "https://localhost:8080/"
        },
        "id": "4S9uqRAK1oAm",
        "outputId": "29740250-bf6b-4688-e9d7-ae0eec30bfc2"
      },
      "outputs": [
        {
          "output_type": "stream",
          "name": "stdout",
          "text": [
            "  Preparing metadata (setup.py) ... \u001b[?25l\u001b[?25hdone\n",
            "  Building wheel for yolov9 (setup.py) ... \u001b[?25l\u001b[?25hdone\n"
          ]
        }
      ],
      "source": [
        "!pip install -q git+https://github.com/dylandru/yolov9.git"
      ]
    },
    {
      "cell_type": "markdown",
      "metadata": {
        "id": "TDnV34pf1oAn"
      },
      "source": [
        "Now we're ready to import the necessary libraries:"
      ]
    },
    {
      "cell_type": "code",
      "execution_count": 2,
      "metadata": {
        "colab": {
          "base_uri": "https://localhost:8080/"
        },
        "id": "G3zYLozZ1oAo",
        "outputId": "dd5991ca-efa0-457d-9159-77a86a6fa0cb"
      },
      "outputs": [
        {
          "output_type": "stream",
          "name": "stderr",
          "text": [
            "ERROR:BaseballCV - Git Dependency Installer:Failed to install git+https://github.com/Jensen-holm/statcast-era-pitches.git@1.1: check_and_install() takes 0 positional arguments but 1 was given\n"
          ]
        },
        {
          "output_type": "stream",
          "name": "stdout",
          "text": [
            "Creating new Ultralytics Settings v0.0.6 file ✅ \n",
            "View Ultralytics Settings with 'yolo settings' or at '/root/.config/Ultralytics/settings.json'\n",
            "Update Settings with 'yolo settings key=value', i.e. 'yolo settings runs_dir=path/to/dir'. For help see https://docs.ultralytics.com/quickstart/#ultralytics-settings.\n"
          ]
        },
        {
          "output_type": "stream",
          "name": "stderr",
          "text": [
            "Importing from timm.models.layers is deprecated, please import via timm.layers\n"
          ]
        }
      ],
      "source": [
        "import os\n",
        "import time\n",
        "import torch\n",
        "from google.colab import files\n",
        "import matplotlib.pyplot as plt\n",
        "import pandas as pd\n",
        "import numpy as np\n",
        "import cv2\n",
        "import glob\n",
        "from baseballcv.functions import BaseballTools"
      ]
    },
    {
      "cell_type": "markdown",
      "metadata": {
        "id": "gr6fW3Ac1oAo"
      },
      "source": [
        "## 2. Understanding Glove Tracking\n",
        "\n",
        "The `GloveTracker` class uses computer vision and deep learning to track three key elements in baseball videos:\n",
        "\n",
        "1. **Catcher's glove** - Tracks the position and movement of the catcher's mitt\n",
        "2. **Home plate** - Serves as a reference point for coordinate transformation\n",
        "3. **Baseball** - Tracks the ball to analyze pitch location relative to the glove\n",
        "\n",
        "### How the technology works:\n",
        "\n",
        "1. **Object Detection**: The tracker uses YOLOv9 (You Only Look Once) models to detect objects in each frame.\n",
        "\n",
        "2. **Coordinate Transformation**: It converts pixel coordinates to real-world measurements (inches) using home plate as a reference (a standard home plate is 17 inches wide).\n",
        "\n",
        "3. **Outlier Filtering**: The tracker applies velocity-based filtering to remove physically impossible movements, ensuring smooth and realistic tracking.\n",
        "\n",
        "4. **Visualization**: It generates tracking plots, heatmaps, and annotated videos to help visualize glove positioning patterns.\n",
        "\n",
        "### Key applications:\n",
        "\n",
        "- Analyzing catcher receiving techniques\n",
        "- Studying target presentation and pitch framing\n",
        "- Evaluating catcher positioning and movement patterns\n",
        "- Identifying patterns in glove positioning for different pitch types or situations"
      ]
    },
    {
      "cell_type": "markdown",
      "metadata": {
        "id": "nXR4O1Ju1oAp"
      },
      "source": [
        "## 3. Initializing the Glove Tracker\n",
        "\n",
        "The `GloveTracker` is accessed through the `BaseballTools` class. Let's initialize it:"
      ]
    },
    {
      "cell_type": "code",
      "execution_count": 3,
      "metadata": {
        "id": "olhFXJdi1oAp"
      },
      "outputs": [],
      "source": [
        "# Initialize BaseballTools with the appropriate device (GPU if available)\n",
        "baseball_tools = BaseballTools(device='cuda' if torch.cuda.is_available() else 'cpu')"
      ]
    },
    {
      "cell_type": "markdown",
      "metadata": {
        "id": "Ya-EMnP11oAq"
      },
      "source": [
        "## 4. Single Video Analysis\n",
        "\n",
        "Let's process a single video to understand the basic functionality. First, we'll upload a video file:"
      ]
    },
    {
      "cell_type": "code",
      "execution_count": 4,
      "metadata": {
        "colab": {
          "base_uri": "https://localhost:8080/",
          "height": 1000
        },
        "id": "Cg1p_o1S1oAq",
        "outputId": "c64b2594-6ce4-4fb8-ac4a-88025967c946"
      },
      "outputs": [
        {
          "output_type": "stream",
          "name": "stdout",
          "text": [
            "Please upload a baseball video file for analysis:\n"
          ]
        },
        {
          "output_type": "display_data",
          "data": {
            "text/plain": [
              "<IPython.core.display.HTML object>"
            ],
            "text/html": [
              "\n",
              "     <input type=\"file\" id=\"files-0a71662f-d4e5-48f0-afbd-d6431f5311d5\" name=\"files[]\" multiple disabled\n",
              "        style=\"border:none\" />\n",
              "     <output id=\"result-0a71662f-d4e5-48f0-afbd-d6431f5311d5\">\n",
              "      Upload widget is only available when the cell has been executed in the\n",
              "      current browser session. Please rerun this cell to enable.\n",
              "      </output>\n",
              "      <script>// Copyright 2017 Google LLC\n",
              "//\n",
              "// Licensed under the Apache License, Version 2.0 (the \"License\");\n",
              "// you may not use this file except in compliance with the License.\n",
              "// You may obtain a copy of the License at\n",
              "//\n",
              "//      http://www.apache.org/licenses/LICENSE-2.0\n",
              "//\n",
              "// Unless required by applicable law or agreed to in writing, software\n",
              "// distributed under the License is distributed on an \"AS IS\" BASIS,\n",
              "// WITHOUT WARRANTIES OR CONDITIONS OF ANY KIND, either express or implied.\n",
              "// See the License for the specific language governing permissions and\n",
              "// limitations under the License.\n",
              "\n",
              "/**\n",
              " * @fileoverview Helpers for google.colab Python module.\n",
              " */\n",
              "(function(scope) {\n",
              "function span(text, styleAttributes = {}) {\n",
              "  const element = document.createElement('span');\n",
              "  element.textContent = text;\n",
              "  for (const key of Object.keys(styleAttributes)) {\n",
              "    element.style[key] = styleAttributes[key];\n",
              "  }\n",
              "  return element;\n",
              "}\n",
              "\n",
              "// Max number of bytes which will be uploaded at a time.\n",
              "const MAX_PAYLOAD_SIZE = 100 * 1024;\n",
              "\n",
              "function _uploadFiles(inputId, outputId) {\n",
              "  const steps = uploadFilesStep(inputId, outputId);\n",
              "  const outputElement = document.getElementById(outputId);\n",
              "  // Cache steps on the outputElement to make it available for the next call\n",
              "  // to uploadFilesContinue from Python.\n",
              "  outputElement.steps = steps;\n",
              "\n",
              "  return _uploadFilesContinue(outputId);\n",
              "}\n",
              "\n",
              "// This is roughly an async generator (not supported in the browser yet),\n",
              "// where there are multiple asynchronous steps and the Python side is going\n",
              "// to poll for completion of each step.\n",
              "// This uses a Promise to block the python side on completion of each step,\n",
              "// then passes the result of the previous step as the input to the next step.\n",
              "function _uploadFilesContinue(outputId) {\n",
              "  const outputElement = document.getElementById(outputId);\n",
              "  const steps = outputElement.steps;\n",
              "\n",
              "  const next = steps.next(outputElement.lastPromiseValue);\n",
              "  return Promise.resolve(next.value.promise).then((value) => {\n",
              "    // Cache the last promise value to make it available to the next\n",
              "    // step of the generator.\n",
              "    outputElement.lastPromiseValue = value;\n",
              "    return next.value.response;\n",
              "  });\n",
              "}\n",
              "\n",
              "/**\n",
              " * Generator function which is called between each async step of the upload\n",
              " * process.\n",
              " * @param {string} inputId Element ID of the input file picker element.\n",
              " * @param {string} outputId Element ID of the output display.\n",
              " * @return {!Iterable<!Object>} Iterable of next steps.\n",
              " */\n",
              "function* uploadFilesStep(inputId, outputId) {\n",
              "  const inputElement = document.getElementById(inputId);\n",
              "  inputElement.disabled = false;\n",
              "\n",
              "  const outputElement = document.getElementById(outputId);\n",
              "  outputElement.innerHTML = '';\n",
              "\n",
              "  const pickedPromise = new Promise((resolve) => {\n",
              "    inputElement.addEventListener('change', (e) => {\n",
              "      resolve(e.target.files);\n",
              "    });\n",
              "  });\n",
              "\n",
              "  const cancel = document.createElement('button');\n",
              "  inputElement.parentElement.appendChild(cancel);\n",
              "  cancel.textContent = 'Cancel upload';\n",
              "  const cancelPromise = new Promise((resolve) => {\n",
              "    cancel.onclick = () => {\n",
              "      resolve(null);\n",
              "    };\n",
              "  });\n",
              "\n",
              "  // Wait for the user to pick the files.\n",
              "  const files = yield {\n",
              "    promise: Promise.race([pickedPromise, cancelPromise]),\n",
              "    response: {\n",
              "      action: 'starting',\n",
              "    }\n",
              "  };\n",
              "\n",
              "  cancel.remove();\n",
              "\n",
              "  // Disable the input element since further picks are not allowed.\n",
              "  inputElement.disabled = true;\n",
              "\n",
              "  if (!files) {\n",
              "    return {\n",
              "      response: {\n",
              "        action: 'complete',\n",
              "      }\n",
              "    };\n",
              "  }\n",
              "\n",
              "  for (const file of files) {\n",
              "    const li = document.createElement('li');\n",
              "    li.append(span(file.name, {fontWeight: 'bold'}));\n",
              "    li.append(span(\n",
              "        `(${file.type || 'n/a'}) - ${file.size} bytes, ` +\n",
              "        `last modified: ${\n",
              "            file.lastModifiedDate ? file.lastModifiedDate.toLocaleDateString() :\n",
              "                                    'n/a'} - `));\n",
              "    const percent = span('0% done');\n",
              "    li.appendChild(percent);\n",
              "\n",
              "    outputElement.appendChild(li);\n",
              "\n",
              "    const fileDataPromise = new Promise((resolve) => {\n",
              "      const reader = new FileReader();\n",
              "      reader.onload = (e) => {\n",
              "        resolve(e.target.result);\n",
              "      };\n",
              "      reader.readAsArrayBuffer(file);\n",
              "    });\n",
              "    // Wait for the data to be ready.\n",
              "    let fileData = yield {\n",
              "      promise: fileDataPromise,\n",
              "      response: {\n",
              "        action: 'continue',\n",
              "      }\n",
              "    };\n",
              "\n",
              "    // Use a chunked sending to avoid message size limits. See b/62115660.\n",
              "    let position = 0;\n",
              "    do {\n",
              "      const length = Math.min(fileData.byteLength - position, MAX_PAYLOAD_SIZE);\n",
              "      const chunk = new Uint8Array(fileData, position, length);\n",
              "      position += length;\n",
              "\n",
              "      const base64 = btoa(String.fromCharCode.apply(null, chunk));\n",
              "      yield {\n",
              "        response: {\n",
              "          action: 'append',\n",
              "          file: file.name,\n",
              "          data: base64,\n",
              "        },\n",
              "      };\n",
              "\n",
              "      let percentDone = fileData.byteLength === 0 ?\n",
              "          100 :\n",
              "          Math.round((position / fileData.byteLength) * 100);\n",
              "      percent.textContent = `${percentDone}% done`;\n",
              "\n",
              "    } while (position < fileData.byteLength);\n",
              "  }\n",
              "\n",
              "  // All done.\n",
              "  yield {\n",
              "    response: {\n",
              "      action: 'complete',\n",
              "    }\n",
              "  };\n",
              "}\n",
              "\n",
              "scope.google = scope.google || {};\n",
              "scope.google.colab = scope.google.colab || {};\n",
              "scope.google.colab._files = {\n",
              "  _uploadFiles,\n",
              "  _uploadFilesContinue,\n",
              "};\n",
              "})(self);\n",
              "</script> "
            ]
          },
          "metadata": {}
        },
        {
          "output_type": "stream",
          "name": "stdout",
          "text": [
            "Saving AJ-curveball.mp4 to AJ-curveball.mp4\n",
            "2025-04-11 21:59:57,003 - LoadTools - INFO - Model downloaded to models/od/YOLO/glove_tracking/model_weights/glove_tracking.pt\n"
          ]
        },
        {
          "output_type": "stream",
          "name": "stderr",
          "text": [
            "INFO:LoadTools:Model downloaded to models/od/YOLO/glove_tracking/model_weights/glove_tracking.pt\n"
          ]
        },
        {
          "output_type": "stream",
          "name": "stdout",
          "text": [
            "2025-04-11 21:59:57,196 - BaseballTools - INFO - Model loaded with classes: {0: 'glove', 1: 'homeplate', 2: 'baseball', 3: 'rubber'}\n"
          ]
        },
        {
          "output_type": "stream",
          "name": "stderr",
          "text": [
            "INFO:BaseballTools:Model loaded with classes: {0: 'glove', 1: 'homeplate', 2: 'baseball', 3: 'rubber'}\n"
          ]
        },
        {
          "output_type": "stream",
          "name": "stdout",
          "text": [
            "2025-04-11 21:59:57,197 - BaseballTools - INFO - Class IDs - Glove: 0, Home Plate: 1, Baseball: 2\n"
          ]
        },
        {
          "output_type": "stream",
          "name": "stderr",
          "text": [
            "INFO:BaseballTools:Class IDs - Glove: 0, Home Plate: 1, Baseball: 2\n"
          ]
        },
        {
          "output_type": "stream",
          "name": "stdout",
          "text": [
            "2025-04-11 21:59:59,138 - BaseballTools - INFO - Home plate reference set: 4.94 pixels per inch\n"
          ]
        },
        {
          "output_type": "stream",
          "name": "stderr",
          "text": [
            "INFO:BaseballTools:Home plate reference set: 4.94 pixels per inch\n"
          ]
        },
        {
          "output_type": "stream",
          "name": "stdout",
          "text": [
            "2025-04-11 21:59:59,165 - BaseballTools - WARNING - No valid glove detection sequences found\n"
          ]
        },
        {
          "output_type": "stream",
          "name": "stderr",
          "text": [
            "WARNING:BaseballTools:No valid glove detection sequences found\n"
          ]
        },
        {
          "output_type": "stream",
          "name": "stdout",
          "text": [
            "2025-04-11 22:01:32,892 - BaseballTools - INFO - Tracking data saved to glove_tracking_results/tracked_AJ-curveball_tracking.csv with 474 frames\n"
          ]
        },
        {
          "output_type": "stream",
          "name": "stderr",
          "text": [
            "INFO:BaseballTools:Tracking data saved to glove_tracking_results/tracked_AJ-curveball_tracking.csv with 474 frames\n"
          ]
        },
        {
          "output_type": "stream",
          "name": "stdout",
          "text": [
            "2025-04-11 22:01:32,893 - BaseballTools - INFO - Processed coordinates: 474 frames, Interpolated: 76 frames\n"
          ]
        },
        {
          "output_type": "stream",
          "name": "stderr",
          "text": [
            "INFO:BaseballTools:Processed coordinates: 474 frames, Interpolated: 76 frames\n"
          ]
        },
        {
          "output_type": "stream",
          "name": "stdout",
          "text": [
            "2025-04-11 22:01:32,895 - BaseballTools - INFO - CSV file saved successfully at glove_tracking_results/tracked_AJ-curveball_tracking.csv\n"
          ]
        },
        {
          "output_type": "stream",
          "name": "stderr",
          "text": [
            "INFO:BaseballTools:CSV file saved successfully at glove_tracking_results/tracked_AJ-curveball_tracking.csv\n"
          ]
        },
        {
          "output_type": "stream",
          "name": "stdout",
          "text": [
            "2025-04-11 22:01:32,896 - BaseballTools - INFO - Tracking completed. Output video saved to glove_tracking_results/tracked_AJ-curveball.mp4\n"
          ]
        },
        {
          "output_type": "stream",
          "name": "stderr",
          "text": [
            "INFO:BaseballTools:Tracking completed. Output video saved to glove_tracking_results/tracked_AJ-curveball.mp4\n"
          ]
        },
        {
          "output_type": "stream",
          "name": "stdout",
          "text": [
            "2025-04-11 22:01:32,896 - BaseballTools - INFO - Tracking data saved to glove_tracking_results/tracked_AJ-curveball_tracking.csv\n"
          ]
        },
        {
          "output_type": "stream",
          "name": "stderr",
          "text": [
            "INFO:BaseballTools:Tracking data saved to glove_tracking_results/tracked_AJ-curveball_tracking.csv\n",
            "Series.fillna with 'method' is deprecated and will raise in a future version. Use obj.ffill() or obj.bfill() instead.\n",
            "Series.fillna with 'method' is deprecated and will raise in a future version. Use obj.ffill() or obj.bfill() instead.\n"
          ]
        },
        {
          "output_type": "stream",
          "name": "stdout",
          "text": [
            "2025-04-11 22:01:33,387 - BaseballTools - INFO - Glove heatmap saved to glove_tracking_results/glove_heatmap_AJ-curveball.png\n"
          ]
        },
        {
          "output_type": "stream",
          "name": "stderr",
          "text": [
            "INFO:BaseballTools:Glove heatmap saved to glove_tracking_results/glove_heatmap_AJ-curveball.png\n"
          ]
        },
        {
          "output_type": "stream",
          "name": "stdout",
          "text": [
            "2025-04-11 22:01:33,388 - BaseballTools - INFO - Glove heatmap saved to glove_tracking_results/glove_heatmap_AJ-curveball.png\n"
          ]
        },
        {
          "output_type": "stream",
          "name": "stderr",
          "text": [
            "INFO:BaseballTools:Glove heatmap saved to glove_tracking_results/glove_heatmap_AJ-curveball.png\n"
          ]
        },
        {
          "output_type": "stream",
          "name": "stdout",
          "text": [
            "Output video saved to: glove_tracking_results/tracked_AJ-curveball.mp4\n",
            "Tracking data saved to: glove_tracking_results/tracked_AJ-curveball_tracking.csv\n",
            "Heatmap saved to: glove_tracking_results/glove_heatmap_AJ-curveball.png\n"
          ]
        },
        {
          "output_type": "display_data",
          "data": {
            "text/plain": [
              "<Figure size 1000x800 with 1 Axes>"
            ],
            "image/png": "[encoded data removed]"
          },
          "metadata": {}
        },
        {
          "output_type": "stream",
          "name": "stdout",
          "text": [
            "\n",
            "Glove Movement Analysis:\n",
            "  total_frames: 474\n",
            "  frames_with_glove: 398\n",
            "  frames_with_baseball: 136\n",
            "  frames_with_homeplate: 474\n",
            "  total_distance_inches: 283.57\n",
            "  max_distance_between_frames_inches: 39.26\n",
            "  avg_distance_between_frames_inches: 0.71\n",
            "  convex_hull_area_sq_inches: 676.10\n",
            "  x_range_inches: 26.51\n",
            "  y_range_inches: 34.81\n",
            "  avg_x_position_inches: 1.86\n",
            "  avg_y_position_inches: 22.79\n"
          ]
        }
      ],
      "source": [
        "# Upload a video file\n",
        "print(\"Please upload a baseball video file for analysis:\")\n",
        "uploaded = files.upload()\n",
        "video_filename = list(uploaded.keys())[0]\n",
        "\n",
        "# Process the video\n",
        "result = baseball_tools.track_gloves(\n",
        "    mode=\"regular\",                  # Process a single video\n",
        "    video_path=video_filename,       # Path to the uploaded video\n",
        "    confidence_threshold=0.25,       # Minimum confidence for detections\n",
        "    enable_filtering=True,           # Filter out physically impossible movements\n",
        "    max_velocity_inches_per_sec=120.0, # Maximum plausible glove velocity (inches/sec)\n",
        "    show_plot=True,                  # Include 2D tracking plot in output video\n",
        "    generate_heatmap=True,           # Generate a heatmap of glove positions\n",
        "    create_video=True                # Create an annotated output video\n",
        ")\n",
        "\n",
        "print(f\"Output video saved to: {result['output_video']}\")\n",
        "print(f\"Tracking data saved to: {result['tracking_data']}\")\n",
        "\n",
        "# Display the heatmap if available\n",
        "if 'heatmap' in result and result['heatmap']:\n",
        "    print(f\"Heatmap saved to: {result['heatmap']}\")\n",
        "\n",
        "    # Display the heatmap image\n",
        "    try:\n",
        "        heatmap_img = cv2.imread(result['heatmap'])\n",
        "        if heatmap_img is not None:\n",
        "            heatmap_img_rgb = cv2.cvtColor(heatmap_img, cv2.COLOR_BGR2RGB)\n",
        "            plt.figure(figsize=(10, 8))\n",
        "            plt.imshow(heatmap_img_rgb)\n",
        "            plt.axis('off')\n",
        "            plt.title(\"Glove Movement Heatmap\")\n",
        "            plt.show()\n",
        "    except Exception as e:\n",
        "        print(f\"Note: Could not display heatmap image: {e}\")\n",
        "\n",
        "# Display movement statistics\n",
        "if 'movement_stats' in result and result['movement_stats']:\n",
        "    print(\"\\nGlove Movement Analysis:\")\n",
        "    for key, value in result['movement_stats'].items():\n",
        "        if isinstance(value, float):\n",
        "            print(f\"  {key}: {value:.2f}\")\n",
        "        else:\n",
        "            print(f\"  {key}: {value}\")"
      ]
    },
    {
      "cell_type": "markdown",
      "metadata": {
        "id": "PawMtT-n1oAr"
      },
      "source": [
        "### Understanding the output:\n",
        "\n",
        "When the glove tracker processes a video, it produces several outputs:\n",
        "\n",
        "1. **Annotated Video**: Shows the detected objects with bounding boxes and real-world coordinates.\n",
        "\n",
        "2. **Tracking Data (CSV)**: Contains frame-by-frame data with:\n",
        "   - Pixel coordinates of detected objects\n",
        "   - Real-world coordinates (inches) relative to home plate\n",
        "   - Detection confidence scores\n",
        "   - Flags for interpolated vs. actual detections\n",
        "\n",
        "3. **Heatmap**: Visualizes the distribution of glove positions throughout the video.\n",
        "\n",
        "4. **Movement Statistics**: Quantitative metrics about glove movement:\n",
        "   - Total distance traveled\n",
        "   - Range of motion in X and Y directions\n",
        "   - Average position\n",
        "   - Maximum and average movement between frames"
      ]
    },
    {
      "cell_type": "markdown",
      "metadata": {
        "id": "U46JVVsw1oAs"
      },
      "source": [
        "## 5. Understanding the Tracking Data\n",
        "\n",
        "Let's examine the tracking data CSV to understand what information is available:"
      ]
    },
    {
      "cell_type": "code",
      "execution_count": 5,
      "metadata": {
        "colab": {
          "base_uri": "https://localhost:8080/",
          "height": 1000
        },
        "id": "nNz2m89Z1oAs",
        "outputId": "e69a609f-e4f6-4cff-8a1b-304559a15758"
      },
      "outputs": [
        {
          "output_type": "stream",
          "name": "stdout",
          "text": [
            "\n",
            "Sample of tracking data:\n"
          ]
        },
        {
          "output_type": "display_data",
          "data": {
            "text/plain": [
              "   frame_idx  homeplate_center_x  homeplate_center_y  homeplate_width  \\\n",
              "0          0               651.0               428.0               84   \n",
              "1          1               651.0               428.0               84   \n",
              "2          2               651.0               428.0               84   \n",
              "3          3               651.0               428.0               84   \n",
              "4          4               651.5               428.0               83   \n",
              "\n",
              "   homeplate_confidence  glove_center_x  glove_center_y  glove_confidence  \\\n",
              "0              0.464756           658.5           312.0          0.789638   \n",
              "1              0.464252           658.5           312.0          0.790016   \n",
              "2              0.464116           658.5           312.0          0.791291   \n",
              "3              0.466323           658.5           312.0          0.786613   \n",
              "4              0.467340           658.5           312.0          0.787324   \n",
              "\n",
              "   glove_real_x  glove_real_y  baseball_center_x  baseball_center_y  \\\n",
              "0      1.517857      23.47619                NaN                NaN   \n",
              "1      1.517857      23.47619                NaN                NaN   \n",
              "2      1.517857      23.47619                NaN                NaN   \n",
              "3      1.517857      23.47619                NaN                NaN   \n",
              "4      1.517857      23.47619                NaN                NaN   \n",
              "\n",
              "   baseball_confidence  baseball_real_x  baseball_real_y  pixels_per_inch  \\\n",
              "0                  NaN              NaN              NaN         4.941176   \n",
              "1                  NaN              NaN              NaN         4.941176   \n",
              "2                  NaN              NaN              NaN         4.941176   \n",
              "3                  NaN              NaN              NaN         4.941176   \n",
              "4                  NaN              NaN              NaN         4.941176   \n",
              "\n",
              "   glove_processed_x  glove_processed_y  is_interpolated    video_filename  \n",
              "0           1.517857           23.47619            False  AJ-curveball.mp4  \n",
              "1           1.517857           23.47619            False  AJ-curveball.mp4  \n",
              "2           1.517857           23.47619            False  AJ-curveball.mp4  \n",
              "3           1.517857           23.47619            False  AJ-curveball.mp4  \n",
              "4           1.517857           23.47619            False  AJ-curveball.mp4  "
            ],
            "text/html": [
              "\n",
              "  <div id=\"df-1cdf12b5-1be8-4844-ad40-9cff8a0481ee\" class=\"colab-df-container\">\n",
              "    <div>\n",
              "<style scoped>\n",
              "    .dataframe tbody tr th:only-of-type {\n",
              "        vertical-align: middle;\n",
              "    }\n",
              "\n",
              "    .dataframe tbody tr th {\n",
              "        vertical-align: top;\n",
              "    }\n",
              "\n",
              "    .dataframe thead th {\n",
              "        text-align: right;\n",
              "    }\n",
              "</style>\n",
              "<table border=\"1\" class=\"dataframe\">\n",
              "  <thead>\n",
              "    <tr style=\"text-align: right;\">\n",
              "      <th></th>\n",
              "      <th>frame_idx</th>\n",
              "      <th>homeplate_center_x</th>\n",
              "      <th>homeplate_center_y</th>\n",
              "      <th>homeplate_width</th>\n",
              "      <th>homeplate_confidence</th>\n",
              "      <th>glove_center_x</th>\n",
              "      <th>glove_center_y</th>\n",
              "      <th>glove_confidence</th>\n",
              "      <th>glove_real_x</th>\n",
              "      <th>glove_real_y</th>\n",
              "      <th>baseball_center_x</th>\n",
              "      <th>baseball_center_y</th>\n",
              "      <th>baseball_confidence</th>\n",
              "      <th>baseball_real_x</th>\n",
              "      <th>baseball_real_y</th>\n",
              "      <th>pixels_per_inch</th>\n",
              "      <th>glove_processed_x</th>\n",
              "      <th>glove_processed_y</th>\n",
              "      <th>is_interpolated</th>\n",
              "      <th>video_filename</th>\n",
              "    </tr>\n",
              "  </thead>\n",
              "  <tbody>\n",
              "    <tr>\n",
              "      <th>0</th>\n",
              "      <td>0</td>\n",
              "      <td>651.0</td>\n",
              "      <td>428.0</td>\n",
              "      <td>84</td>\n",
              "      <td>0.464756</td>\n",
              "      <td>658.5</td>\n",
              "      <td>312.0</td>\n",
              "      <td>0.789638</td>\n",
              "      <td>1.517857</td>\n",
              "      <td>23.47619</td>\n",
              "      <td>NaN</td>\n",
              "      <td>NaN</td>\n",
              "      <td>NaN</td>\n",
              "      <td>NaN</td>\n",
              "      <td>NaN</td>\n",
              "      <td>4.941176</td>\n",
              "      <td>1.517857</td>\n",
              "      <td>23.47619</td>\n",
              "      <td>False</td>\n",
              "      <td>AJ-curveball.mp4</td>\n",
              "    </tr>\n",
              "    <tr>\n",
              "      <th>1</th>\n",
              "      <td>1</td>\n",
              "      <td>651.0</td>\n",
              "      <td>428.0</td>\n",
              "      <td>84</td>\n",
              "      <td>0.464252</td>\n",
              "      <td>658.5</td>\n",
              "      <td>312.0</td>\n",
              "      <td>0.790016</td>\n",
              "      <td>1.517857</td>\n",
              "      <td>23.47619</td>\n",
              "      <td>NaN</td>\n",
              "      <td>NaN</td>\n",
              "      <td>NaN</td>\n",
              "      <td>NaN</td>\n",
              "      <td>NaN</td>\n",
              "      <td>4.941176</td>\n",
              "      <td>1.517857</td>\n",
              "      <td>23.47619</td>\n",
              "      <td>False</td>\n",
              "      <td>AJ-curveball.mp4</td>\n",
              "    </tr>\n",
              "    <tr>\n",
              "      <th>2</th>\n",
              "      <td>2</td>\n",
              "      <td>651.0</td>\n",
              "      <td>428.0</td>\n",
              "      <td>84</td>\n",
              "      <td>0.464116</td>\n",
              "      <td>658.5</td>\n",
              "      <td>312.0</td>\n",
              "      <td>0.791291</td>\n",
              "      <td>1.517857</td>\n",
              "      <td>23.47619</td>\n",
              "      <td>NaN</td>\n",
              "      <td>NaN</td>\n",
              "      <td>NaN</td>\n",
              "      <td>NaN</td>\n",
              "      <td>NaN</td>\n",
              "      <td>4.941176</td>\n",
              "      <td>1.517857</td>\n",
              "      <td>23.47619</td>\n",
              "      <td>False</td>\n",
              "      <td>AJ-curveball.mp4</td>\n",
              "    </tr>\n",
              "    <tr>\n",
              "      <th>3</th>\n",
              "      <td>3</td>\n",
              "      <td>651.0</td>\n",
              "      <td>428.0</td>\n",
              "      <td>84</td>\n",
              "      <td>0.466323</td>\n",
              "      <td>658.5</td>\n",
              "      <td>312.0</td>\n",
              "      <td>0.786613</td>\n",
              "      <td>1.517857</td>\n",
              "      <td>23.47619</td>\n",
              "      <td>NaN</td>\n",
              "      <td>NaN</td>\n",
              "      <td>NaN</td>\n",
              "      <td>NaN</td>\n",
              "      <td>NaN</td>\n",
              "      <td>4.941176</td>\n",
              "      <td>1.517857</td>\n",
              "      <td>23.47619</td>\n",
              "      <td>False</td>\n",
              "      <td>AJ-curveball.mp4</td>\n",
              "    </tr>\n",
              "    <tr>\n",
              "      <th>4</th>\n",
              "      <td>4</td>\n",
              "      <td>651.5</td>\n",
              "      <td>428.0</td>\n",
              "      <td>83</td>\n",
              "      <td>0.467340</td>\n",
              "      <td>658.5</td>\n",
              "      <td>312.0</td>\n",
              "      <td>0.787324</td>\n",
              "      <td>1.517857</td>\n",
              "      <td>23.47619</td>\n",
              "      <td>NaN</td>\n",
              "      <td>NaN</td>\n",
              "      <td>NaN</td>\n",
              "      <td>NaN</td>\n",
              "      <td>NaN</td>\n",
              "      <td>4.941176</td>\n",
              "      <td>1.517857</td>\n",
              "      <td>23.47619</td>\n",
              "      <td>False</td>\n",
              "      <td>AJ-curveball.mp4</td>\n",
              "    </tr>\n",
              "  </tbody>\n",
              "</table>\n",
              "</div>\n",
              "    <div class=\"colab-df-buttons\">\n",
              "\n",
              "  <div class=\"colab-df-container\">\n",
              "    <button class=\"colab-df-convert\" onclick=\"convertToInteractive('df-1cdf12b5-1be8-4844-ad40-9cff8a0481ee')\"\n",
              "            title=\"Convert this dataframe to an interactive table.\"\n",
              "            style=\"display:none;\">\n",
              "\n",
              "  <svg xmlns=\"http://www.w3.org/2000/svg\" height=\"24px\" viewBox=\"0 -960 960 960\">\n",
              "    <path d=\"M120-120v-720h720v720H120Zm60-500h600v-160H180v160Zm220 220h160v-160H400v160Zm0 220h160v-160H400v160ZM180-400h160v-160H180v160Zm440 0h160v-160H620v160ZM180-180h160v-160H180v160Zm440 0h160v-160H620v160Z\"/>\n",
              "  </svg>\n",
              "    </button>\n",
              "\n",
              "  <style>\n",
              "    .colab-df-container {\n",
              "      display:flex;\n",
              "      gap: 12px;\n",
              "    }\n",
              "\n",
              "    .colab-df-convert {\n",
              "      background-color: #E8F0FE;\n",
              "      border: none;\n",
              "      border-radius: 50%;\n",
              "      cursor: pointer;\n",
              "      display: none;\n",
              "      fill: #1967D2;\n",
              "      height: 32px;\n",
              "      padding: 0 0 0 0;\n",
              "      width: 32px;\n",
              "    }\n",
              "\n",
              "    .colab-df-convert:hover {\n",
              "      background-color: #E2EBFA;\n",
              "      box-shadow: 0px 1px 2px rgba(60, 64, 67, 0.3), 0px 1px 3px 1px rgba(60, 64, 67, 0.15);\n",
              "      fill: #174EA6;\n",
              "    }\n",
              "\n",
              "    .colab-df-buttons div {\n",
              "      margin-bottom: 4px;\n",
              "    }\n",
              "\n",
              "    [theme=dark] .colab-df-convert {\n",
              "      background-color: #3B4455;\n",
              "      fill: #D2E3FC;\n",
              "    }\n",
              "\n",
              "    [theme=dark] .colab-df-convert:hover {\n",
              "      background-color: #434B5C;\n",
              "      box-shadow: 0px 1px 3px 1px rgba(0, 0, 0, 0.15);\n",
              "      filter: drop-shadow(0px 1px 2px rgba(0, 0, 0, 0.3));\n",
              "      fill: #FFFFFF;\n",
              "    }\n",
              "  </style>\n",
              "\n",
              "    <script>\n",
              "      const buttonEl =\n",
              "        document.querySelector('#df-1cdf12b5-1be8-4844-ad40-9cff8a0481ee button.colab-df-convert');\n",
              "      buttonEl.style.display =\n",
              "        google.colab.kernel.accessAllowed ? 'block' : 'none';\n",
              "\n",
              "      async function convertToInteractive(key) {\n",
              "        const element = document.querySelector('#df-1cdf12b5-1be8-4844-ad40-9cff8a0481ee');\n",
              "        const dataTable =\n",
              "          await google.colab.kernel.invokeFunction('convertToInteractive',\n",
              "                                                    [key], {});\n",
              "        if (!dataTable) return;\n",
              "\n",
              "        const docLinkHtml = 'Like what you see? Visit the ' +\n",
              "          '<a target=\"_blank\" href=https://colab.research.google.com/notebooks/data_table.ipynb>data table notebook</a>'\n",
              "          + ' to learn more about interactive tables.';\n",
              "        element.innerHTML = '';\n",
              "        dataTable['output_type'] = 'display_data';\n",
              "        await google.colab.output.renderOutput(dataTable, element);\n",
              "        const docLink = document.createElement('div');\n",
              "        docLink.innerHTML = docLinkHtml;\n",
              "        element.appendChild(docLink);\n",
              "      }\n",
              "    </script>\n",
              "  </div>\n",
              "\n",
              "\n",
              "<div id=\"df-64285cc9-830b-4ac0-bb9e-f5fed44fe283\">\n",
              "  <button class=\"colab-df-quickchart\" onclick=\"quickchart('df-64285cc9-830b-4ac0-bb9e-f5fed44fe283')\"\n",
              "            title=\"Suggest charts\"\n",
              "            style=\"display:none;\">\n",
              "\n",
              "<svg xmlns=\"http://www.w3.org/2000/svg\" height=\"24px\"viewBox=\"0 0 24 24\"\n",
              "     width=\"24px\">\n",
              "    <g>\n",
              "        <path d=\"M19 3H5c-1.1 0-2 .9-2 2v14c0 1.1.9 2 2 2h14c1.1 0 2-.9 2-2V5c0-1.1-.9-2-2-2zM9 17H7v-7h2v7zm4 0h-2V7h2v10zm4 0h-2v-4h2v4z\"/>\n",
              "    </g>\n",
              "</svg>\n",
              "  </button>\n",
              "\n",
              "<style>\n",
              "  .colab-df-quickchart {\n",
              "      --bg-color: #E8F0FE;\n",
              "      --fill-color: #1967D2;\n",
              "      --hover-bg-color: #E2EBFA;\n",
              "      --hover-fill-color: #174EA6;\n",
              "      --disabled-fill-color: #AAA;\n",
              "      --disabled-bg-color: #DDD;\n",
              "  }\n",
              "\n",
              "  [theme=dark] .colab-df-quickchart {\n",
              "      --bg-color: #3B4455;\n",
              "      --fill-color: #D2E3FC;\n",
              "      --hover-bg-color: #434B5C;\n",
              "      --hover-fill-color: #FFFFFF;\n",
              "      --disabled-bg-color: #3B4455;\n",
              "      --disabled-fill-color: #666;\n",
              "  }\n",
              "\n",
              "  .colab-df-quickchart {\n",
              "    background-color: var(--bg-color);\n",
              "    border: none;\n",
              "    border-radius: 50%;\n",
              "    cursor: pointer;\n",
              "    display: none;\n",
              "    fill: var(--fill-color);\n",
              "    height: 32px;\n",
              "    padding: 0;\n",
              "    width: 32px;\n",
              "  }\n",
              "\n",
              "  .colab-df-quickchart:hover {\n",
              "    background-color: var(--hover-bg-color);\n",
              "    box-shadow: 0 1px 2px rgba(60, 64, 67, 0.3), 0 1px 3px 1px rgba(60, 64, 67, 0.15);\n",
              "    fill: var(--button-hover-fill-color);\n",
              "  }\n",
              "\n",
              "  .colab-df-quickchart-complete:disabled,\n",
              "  .colab-df-quickchart-complete:disabled:hover {\n",
              "    background-color: var(--disabled-bg-color);\n",
              "    fill: var(--disabled-fill-color);\n",
              "    box-shadow: none;\n",
              "  }\n",
              "\n",
              "  .colab-df-spinner {\n",
              "    border: 2px solid var(--fill-color);\n",
              "    border-color: transparent;\n",
              "    border-bottom-color: var(--fill-color);\n",
              "    animation:\n",
              "      spin 1s steps(1) infinite;\n",
              "  }\n",
              "\n",
              "  @keyframes spin {\n",
              "    0% {\n",
              "      border-color: transparent;\n",
              "      border-bottom-color: var(--fill-color);\n",
              "      border-left-color: var(--fill-color);\n",
              "    }\n",
              "    20% {\n",
              "      border-color: transparent;\n",
              "      border-left-color: var(--fill-color);\n",
              "      border-top-color: var(--fill-color);\n",
              "    }\n",
              "    30% {\n",
              "      border-color: transparent;\n",
              "      border-left-color: var(--fill-color);\n",
              "      border-top-color: var(--fill-color);\n",
              "      border-right-color: var(--fill-color);\n",
              "    }\n",
              "    40% {\n",
              "      border-color: transparent;\n",
              "      border-right-color: var(--fill-color);\n",
              "      border-top-color: var(--fill-color);\n",
              "    }\n",
              "    60% {\n",
              "      border-color: transparent;\n",
              "      border-right-color: var(--fill-color);\n",
              "    }\n",
              "    80% {\n",
              "      border-color: transparent;\n",
              "      border-right-color: var(--fill-color);\n",
              "      border-bottom-color: var(--fill-color);\n",
              "    }\n",
              "    90% {\n",
              "      border-color: transparent;\n",
              "      border-bottom-color: var(--fill-color);\n",
              "    }\n",
              "  }\n",
              "</style>\n",
              "\n",
              "  <script>\n",
              "    async function quickchart(key) {\n",
              "      const quickchartButtonEl =\n",
              "        document.querySelector('#' + key + ' button');\n",
              "      quickchartButtonEl.disabled = true;  // To prevent multiple clicks.\n",
              "      quickchartButtonEl.classList.add('colab-df-spinner');\n",
              "      try {\n",
              "        const charts = await google.colab.kernel.invokeFunction(\n",
              "            'suggestCharts', [key], {});\n",
              "      } catch (error) {\n",
              "        console.error('Error during call to suggestCharts:', error);\n",
              "      }\n",
              "      quickchartButtonEl.classList.remove('colab-df-spinner');\n",
              "      quickchartButtonEl.classList.add('colab-df-quickchart-complete');\n",
              "    }\n",
              "    (() => {\n",
              "      let quickchartButtonEl =\n",
              "        document.querySelector('#df-64285cc9-830b-4ac0-bb9e-f5fed44fe283 button');\n",
              "      quickchartButtonEl.style.display =\n",
              "        google.colab.kernel.accessAllowed ? 'block' : 'none';\n",
              "    })();\n",
              "  </script>\n",
              "</div>\n",
              "\n",
              "    </div>\n",
              "  </div>\n"
            ],
            "application/vnd.google.colaboratory.intrinsic+json": {
              "type": "dataframe",
              "summary": "{\n  \"name\": \"    plt\",\n  \"rows\": 5,\n  \"fields\": [\n    {\n      \"column\": \"frame_idx\",\n      \"properties\": {\n        \"dtype\": \"number\",\n        \"std\": 1,\n        \"min\": 0,\n        \"max\": 4,\n        \"num_unique_values\": 5,\n        \"samples\": [\n          1,\n          4,\n          2\n        ],\n        \"semantic_type\": \"\",\n        \"description\": \"\"\n      }\n    },\n    {\n      \"column\": \"homeplate_center_x\",\n      \"properties\": {\n        \"dtype\": \"number\",\n        \"std\": 0.22360679774997896,\n        \"min\": 651.0,\n        \"max\": 651.5,\n        \"num_unique_values\": 2,\n        \"samples\": [\n          651.5,\n          651.0\n        ],\n        \"semantic_type\": \"\",\n        \"description\": \"\"\n      }\n    },\n    {\n      \"column\": \"homeplate_center_y\",\n      \"properties\": {\n        \"dtype\": \"number\",\n        \"std\": 0.0,\n        \"min\": 428.0,\n        \"max\": 428.0,\n        \"num_unique_values\": 1,\n        \"samples\": [\n          428.0\n        ],\n        \"semantic_type\": \"\",\n        \"description\": \"\"\n      }\n    },\n    {\n      \"column\": \"homeplate_width\",\n      \"properties\": {\n        \"dtype\": \"number\",\n        \"std\": 0,\n        \"min\": 83,\n        \"max\": 84,\n        \"num_unique_values\": 2,\n        \"samples\": [\n          83\n        ],\n        \"semantic_type\": \"\",\n        \"description\": \"\"\n      }\n    },\n    {\n      \"column\": \"homeplate_confidence\",\n      \"properties\": {\n        \"dtype\": \"number\",\n        \"std\": 0.0014131848541676423,\n        \"min\": 0.4641156494617462,\n        \"max\": 0.4673396348953247,\n        \"num_unique_values\": 5,\n        \"samples\": [\n          0.4642515778541565\n        ],\n        \"semantic_type\": \"\",\n        \"description\": \"\"\n      }\n    },\n    {\n      \"column\": \"glove_center_x\",\n      \"properties\": {\n        \"dtype\": \"number\",\n        \"std\": 0.0,\n        \"min\": 658.5,\n        \"max\": 658.5,\n        \"num_unique_values\": 1,\n        \"samples\": [\n          658.5\n        ],\n        \"semantic_type\": \"\",\n        \"description\": \"\"\n      }\n    },\n    {\n      \"column\": \"glove_center_y\",\n      \"properties\": {\n        \"dtype\": \"number\",\n        \"std\": 0.0,\n        \"min\": 312.0,\n        \"max\": 312.0,\n        \"num_unique_values\": 1,\n        \"samples\": [\n          312.0\n        ],\n        \"semantic_type\": \"\",\n        \"description\": \"\"\n      }\n    },\n    {\n      \"column\": \"glove_confidence\",\n      \"properties\": {\n        \"dtype\": \"number\",\n        \"std\": 0.001948787899100948,\n        \"min\": 0.7866127490997314,\n        \"max\": 0.7912907600402832,\n        \"num_unique_values\": 5,\n        \"samples\": [\n          0.7900161743164062\n        ],\n        \"semantic_type\": \"\",\n        \"description\": \"\"\n      }\n    },\n    {\n      \"column\": \"glove_real_x\",\n      \"properties\": {\n        \"dtype\": \"number\",\n        \"std\": 0.0,\n        \"min\": 1.5178571428571428,\n        \"max\": 1.5178571428571428,\n        \"num_unique_values\": 1,\n        \"samples\": [\n          1.5178571428571428\n        ],\n        \"semantic_type\": \"\",\n        \"description\": \"\"\n      }\n    },\n    {\n      \"column\": \"glove_real_y\",\n      \"properties\": {\n        \"dtype\": \"number\",\n        \"std\": 0.0,\n        \"min\": 23.476190476190474,\n        \"max\": 23.476190476190474,\n        \"num_unique_values\": 1,\n        \"samples\": [\n          23.476190476190474\n        ],\n        \"semantic_type\": \"\",\n        \"description\": \"\"\n      }\n    },\n    {\n      \"column\": \"baseball_center_x\",\n      \"properties\": {\n        \"dtype\": \"number\",\n        \"std\": null,\n        \"min\": null,\n        \"max\": null,\n        \"num_unique_values\": 0,\n        \"samples\": [],\n        \"semantic_type\": \"\",\n        \"description\": \"\"\n      }\n    },\n    {\n      \"column\": \"baseball_center_y\",\n      \"properties\": {\n        \"dtype\": \"number\",\n        \"std\": null,\n        \"min\": null,\n        \"max\": null,\n        \"num_unique_values\": 0,\n        \"samples\": [],\n        \"semantic_type\": \"\",\n        \"description\": \"\"\n      }\n    },\n    {\n      \"column\": \"baseball_confidence\",\n      \"properties\": {\n        \"dtype\": \"number\",\n        \"std\": null,\n        \"min\": null,\n        \"max\": null,\n        \"num_unique_values\": 0,\n        \"samples\": [],\n        \"semantic_type\": \"\",\n        \"description\": \"\"\n      }\n    },\n    {\n      \"column\": \"baseball_real_x\",\n      \"properties\": {\n        \"dtype\": \"number\",\n        \"std\": null,\n        \"min\": null,\n        \"max\": null,\n        \"num_unique_values\": 0,\n        \"samples\": [],\n        \"semantic_type\": \"\",\n        \"description\": \"\"\n      }\n    },\n    {\n      \"column\": \"baseball_real_y\",\n      \"properties\": {\n        \"dtype\": \"number\",\n        \"std\": null,\n        \"min\": null,\n        \"max\": null,\n        \"num_unique_values\": 0,\n        \"samples\": [],\n        \"semantic_type\": \"\",\n        \"description\": \"\"\n      }\n    },\n    {\n      \"column\": \"pixels_per_inch\",\n      \"properties\": {\n        \"dtype\": \"number\",\n        \"std\": 0.0,\n        \"min\": 4.941176470588236,\n        \"max\": 4.941176470588236,\n        \"num_unique_values\": 1,\n        \"samples\": [],\n        \"semantic_type\": \"\",\n        \"description\": \"\"\n      }\n    },\n    {\n      \"column\": \"glove_processed_x\",\n      \"properties\": {\n        \"dtype\": \"number\",\n        \"std\": 0.0,\n        \"min\": 1.5178571428571428,\n        \"max\": 1.5178571428571428,\n        \"num_unique_values\": 1,\n        \"samples\": [],\n        \"semantic_type\": \"\",\n        \"description\": \"\"\n      }\n    },\n    {\n      \"column\": \"glove_processed_y\",\n      \"properties\": {\n        \"dtype\": \"number\",\n        \"std\": 0.0,\n        \"min\": 23.476190476190474,\n        \"max\": 23.476190476190474,\n        \"num_unique_values\": 1,\n        \"samples\": [],\n        \"semantic_type\": \"\",\n        \"description\": \"\"\n      }\n    },\n    {\n      \"column\": \"is_interpolated\",\n      \"properties\": {\n        \"dtype\": \"boolean\",\n        \"num_unique_values\": 1,\n        \"samples\": [],\n        \"semantic_type\": \"\",\n        \"description\": \"\"\n      }\n    },\n    {\n      \"column\": \"video_filename\",\n      \"properties\": {\n        \"dtype\": \"category\",\n        \"num_unique_values\": 1,\n        \"samples\": [],\n        \"semantic_type\": \"\",\n        \"description\": \"\"\n      }\n    }\n  ]\n}"
            }
          },
          "metadata": {}
        },
        {
          "output_type": "stream",
          "name": "stdout",
          "text": [
            "\n",
            "Tracking data columns:\n",
            "  frame_idx\n",
            "  homeplate_center_x\n",
            "  homeplate_center_y\n",
            "  homeplate_width\n",
            "  homeplate_confidence\n",
            "  glove_center_x\n",
            "  glove_center_y\n",
            "  glove_confidence\n",
            "  glove_real_x\n",
            "  glove_real_y\n",
            "  baseball_center_x\n",
            "  baseball_center_y\n",
            "  baseball_confidence\n",
            "  baseball_real_x\n",
            "  baseball_real_y\n",
            "  pixels_per_inch\n",
            "  glove_processed_x\n",
            "  glove_processed_y\n",
            "  is_interpolated\n",
            "  video_filename\n",
            "\n",
            "Glove position summary statistics (inches from home plate):\n"
          ]
        },
        {
          "output_type": "display_data",
          "data": {
            "text/plain": [
              "       glove_real_x  glove_real_y\n",
              "count    398.000000    398.000000\n",
              "mean       1.859057     22.790485\n",
              "std        5.357446      6.658562\n",
              "min      -14.470238      6.779762\n",
              "25%        0.708333     22.084821\n",
              "50%        1.517857     23.779762\n",
              "75%        4.148810     25.272321\n",
              "max       12.041667     41.589286"
            ],
            "text/html": [
              "\n",
              "  <div id=\"df-5227d61e-f3b3-4faa-8fd7-941faf5b8871\" class=\"colab-df-container\">\n",
              "    <div>\n",
              "<style scoped>\n",
              "    .dataframe tbody tr th:only-of-type {\n",
              "        vertical-align: middle;\n",
              "    }\n",
              "\n",
              "    .dataframe tbody tr th {\n",
              "        vertical-align: top;\n",
              "    }\n",
              "\n",
              "    .dataframe thead th {\n",
              "        text-align: right;\n",
              "    }\n",
              "</style>\n",
              "<table border=\"1\" class=\"dataframe\">\n",
              "  <thead>\n",
              "    <tr style=\"text-align: right;\">\n",
              "      <th></th>\n",
              "      <th>glove_real_x</th>\n",
              "      <th>glove_real_y</th>\n",
              "    </tr>\n",
              "  </thead>\n",
              "  <tbody>\n",
              "    <tr>\n",
              "      <th>count</th>\n",
              "      <td>398.000000</td>\n",
              "      <td>398.000000</td>\n",
              "    </tr>\n",
              "    <tr>\n",
              "      <th>mean</th>\n",
              "      <td>1.859057</td>\n",
              "      <td>22.790485</td>\n",
              "    </tr>\n",
              "    <tr>\n",
              "      <th>std</th>\n",
              "      <td>5.357446</td>\n",
              "      <td>6.658562</td>\n",
              "    </tr>\n",
              "    <tr>\n",
              "      <th>min</th>\n",
              "      <td>-14.470238</td>\n",
              "      <td>6.779762</td>\n",
              "    </tr>\n",
              "    <tr>\n",
              "      <th>25%</th>\n",
              "      <td>0.708333</td>\n",
              "      <td>22.084821</td>\n",
              "    </tr>\n",
              "    <tr>\n",
              "      <th>50%</th>\n",
              "      <td>1.517857</td>\n",
              "      <td>23.779762</td>\n",
              "    </tr>\n",
              "    <tr>\n",
              "      <th>75%</th>\n",
              "      <td>4.148810</td>\n",
              "      <td>25.272321</td>\n",
              "    </tr>\n",
              "    <tr>\n",
              "      <th>max</th>\n",
              "      <td>12.041667</td>\n",
              "      <td>41.589286</td>\n",
              "    </tr>\n",
              "  </tbody>\n",
              "</table>\n",
              "</div>\n",
              "    <div class=\"colab-df-buttons\">\n",
              "\n",
              "  <div class=\"colab-df-container\">\n",
              "    <button class=\"colab-df-convert\" onclick=\"convertToInteractive('df-5227d61e-f3b3-4faa-8fd7-941faf5b8871')\"\n",
              "            title=\"Convert this dataframe to an interactive table.\"\n",
              "            style=\"display:none;\">\n",
              "\n",
              "  <svg xmlns=\"http://www.w3.org/2000/svg\" height=\"24px\" viewBox=\"0 -960 960 960\">\n",
              "    <path d=\"M120-120v-720h720v720H120Zm60-500h600v-160H180v160Zm220 220h160v-160H400v160Zm0 220h160v-160H400v160ZM180-400h160v-160H180v160Zm440 0h160v-160H620v160ZM180-180h160v-160H180v160Zm440 0h160v-160H620v160Z\"/>\n",
              "  </svg>\n",
              "    </button>\n",
              "\n",
              "  <style>\n",
              "    .colab-df-container {\n",
              "      display:flex;\n",
              "      gap: 12px;\n",
              "    }\n",
              "\n",
              "    .colab-df-convert {\n",
              "      background-color: #E8F0FE;\n",
              "      border: none;\n",
              "      border-radius: 50%;\n",
              "      cursor: pointer;\n",
              "      display: none;\n",
              "      fill: #1967D2;\n",
              "      height: 32px;\n",
              "      padding: 0 0 0 0;\n",
              "      width: 32px;\n",
              "    }\n",
              "\n",
              "    .colab-df-convert:hover {\n",
              "      background-color: #E2EBFA;\n",
              "      box-shadow: 0px 1px 2px rgba(60, 64, 67, 0.3), 0px 1px 3px 1px rgba(60, 64, 67, 0.15);\n",
              "      fill: #174EA6;\n",
              "    }\n",
              "\n",
              "    .colab-df-buttons div {\n",
              "      margin-bottom: 4px;\n",
              "    }\n",
              "\n",
              "    [theme=dark] .colab-df-convert {\n",
              "      background-color: #3B4455;\n",
              "      fill: #D2E3FC;\n",
              "    }\n",
              "\n",
              "    [theme=dark] .colab-df-convert:hover {\n",
              "      background-color: #434B5C;\n",
              "      box-shadow: 0px 1px 3px 1px rgba(0, 0, 0, 0.15);\n",
              "      filter: drop-shadow(0px 1px 2px rgba(0, 0, 0, 0.3));\n",
              "      fill: #FFFFFF;\n",
              "    }\n",
              "  </style>\n",
              "\n",
              "    <script>\n",
              "      const buttonEl =\n",
              "        document.querySelector('#df-5227d61e-f3b3-4faa-8fd7-941faf5b8871 button.colab-df-convert');\n",
              "      buttonEl.style.display =\n",
              "        google.colab.kernel.accessAllowed ? 'block' : 'none';\n",
              "\n",
              "      async function convertToInteractive(key) {\n",
              "        const element = document.querySelector('#df-5227d61e-f3b3-4faa-8fd7-941faf5b8871');\n",
              "        const dataTable =\n",
              "          await google.colab.kernel.invokeFunction('convertToInteractive',\n",
              "                                                    [key], {});\n",
              "        if (!dataTable) return;\n",
              "\n",
              "        const docLinkHtml = 'Like what you see? Visit the ' +\n",
              "          '<a target=\"_blank\" href=https://colab.research.google.com/notebooks/data_table.ipynb>data table notebook</a>'\n",
              "          + ' to learn more about interactive tables.';\n",
              "        element.innerHTML = '';\n",
              "        dataTable['output_type'] = 'display_data';\n",
              "        await google.colab.output.renderOutput(dataTable, element);\n",
              "        const docLink = document.createElement('div');\n",
              "        docLink.innerHTML = docLinkHtml;\n",
              "        element.appendChild(docLink);\n",
              "      }\n",
              "    </script>\n",
              "  </div>\n",
              "\n",
              "\n",
              "<div id=\"df-37bab3dd-b424-4c85-9879-101c0723564d\">\n",
              "  <button class=\"colab-df-quickchart\" onclick=\"quickchart('df-37bab3dd-b424-4c85-9879-101c0723564d')\"\n",
              "            title=\"Suggest charts\"\n",
              "            style=\"display:none;\">\n",
              "\n",
              "<svg xmlns=\"http://www.w3.org/2000/svg\" height=\"24px\"viewBox=\"0 0 24 24\"\n",
              "     width=\"24px\">\n",
              "    <g>\n",
              "        <path d=\"M19 3H5c-1.1 0-2 .9-2 2v14c0 1.1.9 2 2 2h14c1.1 0 2-.9 2-2V5c0-1.1-.9-2-2-2zM9 17H7v-7h2v7zm4 0h-2V7h2v10zm4 0h-2v-4h2v4z\"/>\n",
              "    </g>\n",
              "</svg>\n",
              "  </button>\n",
              "\n",
              "<style>\n",
              "  .colab-df-quickchart {\n",
              "      --bg-color: #E8F0FE;\n",
              "      --fill-color: #1967D2;\n",
              "      --hover-bg-color: #E2EBFA;\n",
              "      --hover-fill-color: #174EA6;\n",
              "      --disabled-fill-color: #AAA;\n",
              "      --disabled-bg-color: #DDD;\n",
              "  }\n",
              "\n",
              "  [theme=dark] .colab-df-quickchart {\n",
              "      --bg-color: #3B4455;\n",
              "      --fill-color: #D2E3FC;\n",
              "      --hover-bg-color: #434B5C;\n",
              "      --hover-fill-color: #FFFFFF;\n",
              "      --disabled-bg-color: #3B4455;\n",
              "      --disabled-fill-color: #666;\n",
              "  }\n",
              "\n",
              "  .colab-df-quickchart {\n",
              "    background-color: var(--bg-color);\n",
              "    border: none;\n",
              "    border-radius: 50%;\n",
              "    cursor: pointer;\n",
              "    display: none;\n",
              "    fill: var(--fill-color);\n",
              "    height: 32px;\n",
              "    padding: 0;\n",
              "    width: 32px;\n",
              "  }\n",
              "\n",
              "  .colab-df-quickchart:hover {\n",
              "    background-color: var(--hover-bg-color);\n",
              "    box-shadow: 0 1px 2px rgba(60, 64, 67, 0.3), 0 1px 3px 1px rgba(60, 64, 67, 0.15);\n",
              "    fill: var(--button-hover-fill-color);\n",
              "  }\n",
              "\n",
              "  .colab-df-quickchart-complete:disabled,\n",
              "  .colab-df-quickchart-complete:disabled:hover {\n",
              "    background-color: var(--disabled-bg-color);\n",
              "    fill: var(--disabled-fill-color);\n",
              "    box-shadow: none;\n",
              "  }\n",
              "\n",
              "  .colab-df-spinner {\n",
              "    border: 2px solid var(--fill-color);\n",
              "    border-color: transparent;\n",
              "    border-bottom-color: var(--fill-color);\n",
              "    animation:\n",
              "      spin 1s steps(1) infinite;\n",
              "  }\n",
              "\n",
              "  @keyframes spin {\n",
              "    0% {\n",
              "      border-color: transparent;\n",
              "      border-bottom-color: var(--fill-color);\n",
              "      border-left-color: var(--fill-color);\n",
              "    }\n",
              "    20% {\n",
              "      border-color: transparent;\n",
              "      border-left-color: var(--fill-color);\n",
              "      border-top-color: var(--fill-color);\n",
              "    }\n",
              "    30% {\n",
              "      border-color: transparent;\n",
              "      border-left-color: var(--fill-color);\n",
              "      border-top-color: var(--fill-color);\n",
              "      border-right-color: var(--fill-color);\n",
              "    }\n",
              "    40% {\n",
              "      border-color: transparent;\n",
              "      border-right-color: var(--fill-color);\n",
              "      border-top-color: var(--fill-color);\n",
              "    }\n",
              "    60% {\n",
              "      border-color: transparent;\n",
              "      border-right-color: var(--fill-color);\n",
              "    }\n",
              "    80% {\n",
              "      border-color: transparent;\n",
              "      border-right-color: var(--fill-color);\n",
              "      border-bottom-color: var(--fill-color);\n",
              "    }\n",
              "    90% {\n",
              "      border-color: transparent;\n",
              "      border-bottom-color: var(--fill-color);\n",
              "    }\n",
              "  }\n",
              "</style>\n",
              "\n",
              "  <script>\n",
              "    async function quickchart(key) {\n",
              "      const quickchartButtonEl =\n",
              "        document.querySelector('#' + key + ' button');\n",
              "      quickchartButtonEl.disabled = true;  // To prevent multiple clicks.\n",
              "      quickchartButtonEl.classList.add('colab-df-spinner');\n",
              "      try {\n",
              "        const charts = await google.colab.kernel.invokeFunction(\n",
              "            'suggestCharts', [key], {});\n",
              "      } catch (error) {\n",
              "        console.error('Error during call to suggestCharts:', error);\n",
              "      }\n",
              "      quickchartButtonEl.classList.remove('colab-df-spinner');\n",
              "      quickchartButtonEl.classList.add('colab-df-quickchart-complete');\n",
              "    }\n",
              "    (() => {\n",
              "      let quickchartButtonEl =\n",
              "        document.querySelector('#df-37bab3dd-b424-4c85-9879-101c0723564d button');\n",
              "      quickchartButtonEl.style.display =\n",
              "        google.colab.kernel.accessAllowed ? 'block' : 'none';\n",
              "    })();\n",
              "  </script>\n",
              "</div>\n",
              "\n",
              "  <div id=\"id_b422cee0-5072-4764-8443-7393542798ae\">\n",
              "    <style>\n",
              "      .colab-df-generate {\n",
              "        background-color: #E8F0FE;\n",
              "        border: none;\n",
              "        border-radius: 50%;\n",
              "        cursor: pointer;\n",
              "        display: none;\n",
              "        fill: #1967D2;\n",
              "        height: 32px;\n",
              "        padding: 0 0 0 0;\n",
              "        width: 32px;\n",
              "      }\n",
              "\n",
              "      .colab-df-generate:hover {\n",
              "        background-color: #E2EBFA;\n",
              "        box-shadow: 0px 1px 2px rgba(60, 64, 67, 0.3), 0px 1px 3px 1px rgba(60, 64, 67, 0.15);\n",
              "        fill: #174EA6;\n",
              "      }\n",
              "\n",
              "      [theme=dark] .colab-df-generate {\n",
              "        background-color: #3B4455;\n",
              "        fill: #D2E3FC;\n",
              "      }\n",
              "\n",
              "      [theme=dark] .colab-df-generate:hover {\n",
              "        background-color: #434B5C;\n",
              "        box-shadow: 0px 1px 3px 1px rgba(0, 0, 0, 0.15);\n",
              "        filter: drop-shadow(0px 1px 2px rgba(0, 0, 0, 0.3));\n",
              "        fill: #FFFFFF;\n",
              "      }\n",
              "    </style>\n",
              "    <button class=\"colab-df-generate\" onclick=\"generateWithVariable('stats')\"\n",
              "            title=\"Generate code using this dataframe.\"\n",
              "            style=\"display:none;\">\n",
              "\n",
              "  <svg xmlns=\"http://www.w3.org/2000/svg\" height=\"24px\"viewBox=\"0 0 24 24\"\n",
              "       width=\"24px\">\n",
              "    <path d=\"M7,19H8.4L18.45,9,17,7.55,7,17.6ZM5,21V16.75L18.45,3.32a2,2,0,0,1,2.83,0l1.4,1.43a1.91,1.91,0,0,1,.58,1.4,1.91,1.91,0,0,1-.58,1.4L9.25,21ZM18.45,9,17,7.55Zm-12,3A5.31,5.31,0,0,0,4.9,8.1,5.31,5.31,0,0,0,1,6.5,5.31,5.31,0,0,0,4.9,4.9,5.31,5.31,0,0,0,6.5,1,5.31,5.31,0,0,0,8.1,4.9,5.31,5.31,0,0,0,12,6.5,5.46,5.46,0,0,0,6.5,12Z\"/>\n",
              "  </svg>\n",
              "    </button>\n",
              "    <script>\n",
              "      (() => {\n",
              "      const buttonEl =\n",
              "        document.querySelector('#id_b422cee0-5072-4764-8443-7393542798ae button.colab-df-generate');\n",
              "      buttonEl.style.display =\n",
              "        google.colab.kernel.accessAllowed ? 'block' : 'none';\n",
              "\n",
              "      buttonEl.onclick = () => {\n",
              "        google.colab.notebook.generateWithVariable('stats');\n",
              "      }\n",
              "      })();\n",
              "    </script>\n",
              "  </div>\n",
              "\n",
              "    </div>\n",
              "  </div>\n"
            ],
            "application/vnd.google.colaboratory.intrinsic+json": {
              "type": "dataframe",
              "variable_name": "stats",
              "summary": "{\n  \"name\": \"stats\",\n  \"rows\": 8,\n  \"fields\": [\n    {\n      \"column\": \"glove_real_x\",\n      \"properties\": {\n        \"dtype\": \"number\",\n        \"std\": 140.34843272982528,\n        \"min\": -14.470238095238097,\n        \"max\": 398.0,\n        \"num_unique_values\": 8,\n        \"samples\": [\n          1.859057190715482,\n          1.5178571428571428,\n          398.0\n        ],\n        \"semantic_type\": \"\",\n        \"description\": \"\"\n      }\n    },\n    {\n      \"column\": \"glove_real_y\",\n      \"properties\": {\n        \"dtype\": \"number\",\n        \"std\": 133.65216674737272,\n        \"min\": 6.658561911109256,\n        \"max\": 398.0,\n        \"num_unique_values\": 8,\n        \"samples\": [\n          22.79048516391481,\n          23.779761904761905,\n          398.0\n        ],\n        \"semantic_type\": \"\",\n        \"description\": \"\"\n      }\n    }\n  ]\n}"
            }
          },
          "metadata": {}
        },
        {
          "output_type": "display_data",
          "data": {
            "text/plain": [
              "<Figure size 1200x600 with 1 Axes>"
            ],
            "image/png": "[encoded data removed]"
          },
          "metadata": {}
        }
      ],
      "source": [
        "# Load the tracking data CSV\n",
        "if 'tracking_data' in result:\n",
        "    tracking_df = pd.read_csv(result['tracking_data'])\n",
        "\n",
        "    # Display the first few rows\n",
        "    print(\"\\nSample of tracking data:\")\n",
        "    display(tracking_df.head())\n",
        "\n",
        "    # Show information about the columns\n",
        "    print(\"\\nTracking data columns:\")\n",
        "    for column in tracking_df.columns:\n",
        "        print(f\"  {column}\")\n",
        "\n",
        "    # Summary statistics for glove position\n",
        "    print(\"\\nGlove position summary statistics (inches from home plate):\")\n",
        "    stats = tracking_df[['glove_real_x', 'glove_real_y']].describe()\n",
        "    display(stats)\n",
        "\n",
        "    # Plot glove position over time\n",
        "    plt.figure(figsize=(12, 6))\n",
        "    plt.plot(tracking_df['frame_idx'], tracking_df['glove_real_x'], 'b-', label='X Position (side-to-side)')\n",
        "    plt.plot(tracking_df['frame_idx'], tracking_df['glove_real_y'], 'r-', label='Y Position (distance from plate)')\n",
        "    plt.xlabel('Frame Number')\n",
        "    plt.ylabel('Position (inches from home plate)')\n",
        "    plt.title('Glove Position Over Time')\n",
        "    plt.legend()\n",
        "    plt.grid(True)\n",
        "    plt.show()"
      ]
    },
    {
      "cell_type": "markdown",
      "metadata": {
        "id": "fam80sjs1oAt"
      },
      "source": [
        "### Key fields in the tracking data:\n",
        "\n",
        "- **Frame information**: `frame_idx`\n",
        "- **Home plate data**: `homeplate_center_x`, `homeplate_center_y`, `homeplate_width`, `homeplate_confidence`\n",
        "- **Glove data**:\n",
        "  - Pixel coordinates: `glove_center_x`, `glove_center_y`\n",
        "  - Real-world coordinates: `glove_real_x`, `glove_real_y` (inches from home plate)\n",
        "  - Processed coordinates: `glove_processed_x`, `glove_processed_y` (filtered and smoothed)\n",
        "- **Baseball data**: Similar fields for ball position\n",
        "- **Metadata**: `pixels_per_inch`, `is_interpolated`\n",
        "\n",
        "The real-world coordinate system is centered on home plate with:\n",
        "- X-axis: Side-to-side position (negative = inside to right-handed batter)\n",
        "- Y-axis: Distance from plate (positive = farther from plate)"
      ]
    },
    {
      "cell_type": "markdown",
      "metadata": {
        "id": "ky0Wu2Ix1oAt"
      },
      "source": [
        "## 6. Batch Video Processing\n",
        "\n",
        "Now let's try processing multiple videos to compare glove movements across different clips:"
      ]
    },
    {
      "cell_type": "code",
      "execution_count": 6,
      "metadata": {
        "colab": {
          "base_uri": "https://localhost:8080/",
          "height": 1000
        },
        "id": "row0f82P1oAu",
        "outputId": "16472f14-8b11-413e-934b-4fb3156701a8"
      },
      "outputs": [
        {
          "output_type": "stream",
          "name": "stdout",
          "text": [
            "\n",
            "Please upload videos for batch analysis (you can select multiple files):\n"
          ]
        },
        {
          "output_type": "display_data",
          "data": {
            "text/plain": [
              "<IPython.core.display.HTML object>"
            ],
            "text/html": [
              "\n",
              "     <input type=\"file\" id=\"files-b5fc7790-6b0e-4b0a-a650-6cf4264d4cea\" name=\"files[]\" multiple disabled\n",
              "        style=\"border:none\" />\n",
              "     <output id=\"result-b5fc7790-6b0e-4b0a-a650-6cf4264d4cea\">\n",
              "      Upload widget is only available when the cell has been executed in the\n",
              "      current browser session. Please rerun this cell to enable.\n",
              "      </output>\n",
              "      <script>// Copyright 2017 Google LLC\n",
              "//\n",
              "// Licensed under the Apache License, Version 2.0 (the \"License\");\n",
              "// you may not use this file except in compliance with the License.\n",
              "// You may obtain a copy of the License at\n",
              "//\n",
              "//      http://www.apache.org/licenses/LICENSE-2.0\n",
              "//\n",
              "// Unless required by applicable law or agreed to in writing, software\n",
              "// distributed under the License is distributed on an \"AS IS\" BASIS,\n",
              "// WITHOUT WARRANTIES OR CONDITIONS OF ANY KIND, either express or implied.\n",
              "// See the License for the specific language governing permissions and\n",
              "// limitations under the License.\n",
              "\n",
              "/**\n",
              " * @fileoverview Helpers for google.colab Python module.\n",
              " */\n",
              "(function(scope) {\n",
              "function span(text, styleAttributes = {}) {\n",
              "  const element = document.createElement('span');\n",
              "  element.textContent = text;\n",
              "  for (const key of Object.keys(styleAttributes)) {\n",
              "    element.style[key] = styleAttributes[key];\n",
              "  }\n",
              "  return element;\n",
              "}\n",
              "\n",
              "// Max number of bytes which will be uploaded at a time.\n",
              "const MAX_PAYLOAD_SIZE = 100 * 1024;\n",
              "\n",
              "function _uploadFiles(inputId, outputId) {\n",
              "  const steps = uploadFilesStep(inputId, outputId);\n",
              "  const outputElement = document.getElementById(outputId);\n",
              "  // Cache steps on the outputElement to make it available for the next call\n",
              "  // to uploadFilesContinue from Python.\n",
              "  outputElement.steps = steps;\n",
              "\n",
              "  return _uploadFilesContinue(outputId);\n",
              "}\n",
              "\n",
              "// This is roughly an async generator (not supported in the browser yet),\n",
              "// where there are multiple asynchronous steps and the Python side is going\n",
              "// to poll for completion of each step.\n",
              "// This uses a Promise to block the python side on completion of each step,\n",
              "// then passes the result of the previous step as the input to the next step.\n",
              "function _uploadFilesContinue(outputId) {\n",
              "  const outputElement = document.getElementById(outputId);\n",
              "  const steps = outputElement.steps;\n",
              "\n",
              "  const next = steps.next(outputElement.lastPromiseValue);\n",
              "  return Promise.resolve(next.value.promise).then((value) => {\n",
              "    // Cache the last promise value to make it available to the next\n",
              "    // step of the generator.\n",
              "    outputElement.lastPromiseValue = value;\n",
              "    return next.value.response;\n",
              "  });\n",
              "}\n",
              "\n",
              "/**\n",
              " * Generator function which is called between each async step of the upload\n",
              " * process.\n",
              " * @param {string} inputId Element ID of the input file picker element.\n",
              " * @param {string} outputId Element ID of the output display.\n",
              " * @return {!Iterable<!Object>} Iterable of next steps.\n",
              " */\n",
              "function* uploadFilesStep(inputId, outputId) {\n",
              "  const inputElement = document.getElementById(inputId);\n",
              "  inputElement.disabled = false;\n",
              "\n",
              "  const outputElement = document.getElementById(outputId);\n",
              "  outputElement.innerHTML = '';\n",
              "\n",
              "  const pickedPromise = new Promise((resolve) => {\n",
              "    inputElement.addEventListener('change', (e) => {\n",
              "      resolve(e.target.files);\n",
              "    });\n",
              "  });\n",
              "\n",
              "  const cancel = document.createElement('button');\n",
              "  inputElement.parentElement.appendChild(cancel);\n",
              "  cancel.textContent = 'Cancel upload';\n",
              "  const cancelPromise = new Promise((resolve) => {\n",
              "    cancel.onclick = () => {\n",
              "      resolve(null);\n",
              "    };\n",
              "  });\n",
              "\n",
              "  // Wait for the user to pick the files.\n",
              "  const files = yield {\n",
              "    promise: Promise.race([pickedPromise, cancelPromise]),\n",
              "    response: {\n",
              "      action: 'starting',\n",
              "    }\n",
              "  };\n",
              "\n",
              "  cancel.remove();\n",
              "\n",
              "  // Disable the input element since further picks are not allowed.\n",
              "  inputElement.disabled = true;\n",
              "\n",
              "  if (!files) {\n",
              "    return {\n",
              "      response: {\n",
              "        action: 'complete',\n",
              "      }\n",
              "    };\n",
              "  }\n",
              "\n",
              "  for (const file of files) {\n",
              "    const li = document.createElement('li');\n",
              "    li.append(span(file.name, {fontWeight: 'bold'}));\n",
              "    li.append(span(\n",
              "        `(${file.type || 'n/a'}) - ${file.size} bytes, ` +\n",
              "        `last modified: ${\n",
              "            file.lastModifiedDate ? file.lastModifiedDate.toLocaleDateString() :\n",
              "                                    'n/a'} - `));\n",
              "    const percent = span('0% done');\n",
              "    li.appendChild(percent);\n",
              "\n",
              "    outputElement.appendChild(li);\n",
              "\n",
              "    const fileDataPromise = new Promise((resolve) => {\n",
              "      const reader = new FileReader();\n",
              "      reader.onload = (e) => {\n",
              "        resolve(e.target.result);\n",
              "      };\n",
              "      reader.readAsArrayBuffer(file);\n",
              "    });\n",
              "    // Wait for the data to be ready.\n",
              "    let fileData = yield {\n",
              "      promise: fileDataPromise,\n",
              "      response: {\n",
              "        action: 'continue',\n",
              "      }\n",
              "    };\n",
              "\n",
              "    // Use a chunked sending to avoid message size limits. See b/62115660.\n",
              "    let position = 0;\n",
              "    do {\n",
              "      const length = Math.min(fileData.byteLength - position, MAX_PAYLOAD_SIZE);\n",
              "      const chunk = new Uint8Array(fileData, position, length);\n",
              "      position += length;\n",
              "\n",
              "      const base64 = btoa(String.fromCharCode.apply(null, chunk));\n",
              "      yield {\n",
              "        response: {\n",
              "          action: 'append',\n",
              "          file: file.name,\n",
              "          data: base64,\n",
              "        },\n",
              "      };\n",
              "\n",
              "      let percentDone = fileData.byteLength === 0 ?\n",
              "          100 :\n",
              "          Math.round((position / fileData.byteLength) * 100);\n",
              "      percent.textContent = `${percentDone}% done`;\n",
              "\n",
              "    } while (position < fileData.byteLength);\n",
              "  }\n",
              "\n",
              "  // All done.\n",
              "  yield {\n",
              "    response: {\n",
              "      action: 'complete',\n",
              "    }\n",
              "  };\n",
              "}\n",
              "\n",
              "scope.google = scope.google || {};\n",
              "scope.google.colab = scope.google.colab || {};\n",
              "scope.google.colab._files = {\n",
              "  _uploadFiles,\n",
              "  _uploadFilesContinue,\n",
              "};\n",
              "})(self);\n",
              "</script> "
            ]
          },
          "metadata": {}
        },
        {
          "output_type": "stream",
          "name": "stdout",
          "text": [
            "Saving WW-curveball.mp4 to WW-curveball.mp4\n",
            "Saving test-fs.mp4 to test-fs.mp4\n",
            "Saving test-sinker.mp4 to test-sinker.mp4\n",
            "Saved WW-curveball.mp4 to batch_videos\n",
            "Saved test-fs.mp4 to batch_videos\n",
            "Saved test-sinker.mp4 to batch_videos\n",
            "\n",
            "Found 3 videos in the batch directory\n",
            "2025-04-11 22:04:32,661 - LoadTools - INFO - Model found at models/od/YOLO/glove_tracking/model_weights/glove_tracking.pt\n"
          ]
        },
        {
          "output_type": "stream",
          "name": "stderr",
          "text": [
            "INFO:LoadTools:Model found at models/od/YOLO/glove_tracking/model_weights/glove_tracking.pt\n"
          ]
        },
        {
          "output_type": "stream",
          "name": "stdout",
          "text": [
            "2025-04-11 22:04:32,817 - BaseballTools - INFO - Model loaded with classes: {0: 'glove', 1: 'homeplate', 2: 'baseball', 3: 'rubber'}\n"
          ]
        },
        {
          "output_type": "stream",
          "name": "stderr",
          "text": [
            "INFO:BaseballTools:Model loaded with classes: {0: 'glove', 1: 'homeplate', 2: 'baseball', 3: 'rubber'}\n"
          ]
        },
        {
          "output_type": "stream",
          "name": "stdout",
          "text": [
            "2025-04-11 22:04:32,819 - BaseballTools - INFO - Class IDs - Glove: 0, Home Plate: 1, Baseball: 2\n"
          ]
        },
        {
          "output_type": "stream",
          "name": "stderr",
          "text": [
            "INFO:BaseballTools:Class IDs - Glove: 0, Home Plate: 1, Baseball: 2\n"
          ]
        },
        {
          "output_type": "stream",
          "name": "stdout",
          "text": [
            "2025-04-11 22:04:32,821 - BaseballTools - INFO - Found 3 videos to process in batch_videos\n"
          ]
        },
        {
          "output_type": "stream",
          "name": "stderr",
          "text": [
            "INFO:BaseballTools:Found 3 videos to process in batch_videos\n"
          ]
        },
        {
          "output_type": "stream",
          "name": "stdout",
          "text": [
            "2025-04-11 22:04:32,823 - BaseballTools - INFO - Processing videos sequentially\n"
          ]
        },
        {
          "output_type": "stream",
          "name": "stderr",
          "text": [
            "INFO:BaseballTools:Processing videos sequentially\n",
            "No artists with labels found to put in legend.  Note that artists whose label start with an underscore are ignored when legend() is called with no argument.\n"
          ]
        },
        {
          "output_type": "stream",
          "name": "stdout",
          "text": [
            "2025-04-11 22:04:36,846 - BaseballTools - INFO - Home plate reference set: 4.12 pixels per inch\n"
          ]
        },
        {
          "output_type": "stream",
          "name": "stderr",
          "text": [
            "INFO:BaseballTools:Home plate reference set: 4.12 pixels per inch\n"
          ]
        },
        {
          "output_type": "stream",
          "name": "stdout",
          "text": [
            "2025-04-11 22:04:36,856 - BaseballTools - WARNING - No valid glove detection sequences found\n"
          ]
        },
        {
          "output_type": "stream",
          "name": "stderr",
          "text": [
            "WARNING:BaseballTools:No valid glove detection sequences found\n"
          ]
        },
        {
          "output_type": "stream",
          "name": "stdout",
          "text": [
            "2025-04-11 22:04:37,051 - BaseballTools - WARNING - No valid glove detection sequences found\n"
          ]
        },
        {
          "output_type": "stream",
          "name": "stderr",
          "text": [
            "WARNING:BaseballTools:No valid glove detection sequences found\n"
          ]
        },
        {
          "output_type": "stream",
          "name": "stdout",
          "text": [
            "2025-04-11 22:04:37,236 - BaseballTools - WARNING - No valid glove detection sequences found\n"
          ]
        },
        {
          "output_type": "stream",
          "name": "stderr",
          "text": [
            "WARNING:BaseballTools:No valid glove detection sequences found\n"
          ]
        },
        {
          "output_type": "stream",
          "name": "stdout",
          "text": [
            "2025-04-11 22:04:37,410 - BaseballTools - WARNING - No valid glove detection sequences found\n"
          ]
        },
        {
          "output_type": "stream",
          "name": "stderr",
          "text": [
            "WARNING:BaseballTools:No valid glove detection sequences found\n"
          ]
        },
        {
          "output_type": "stream",
          "name": "stdout",
          "text": [
            "2025-04-11 22:04:37,580 - BaseballTools - WARNING - No valid glove detection sequences found\n"
          ]
        },
        {
          "output_type": "stream",
          "name": "stderr",
          "text": [
            "WARNING:BaseballTools:No valid glove detection sequences found\n"
          ]
        },
        {
          "output_type": "stream",
          "name": "stdout",
          "text": [
            "2025-04-11 22:04:37,754 - BaseballTools - WARNING - No valid glove detection sequences found\n"
          ]
        },
        {
          "output_type": "stream",
          "name": "stderr",
          "text": [
            "WARNING:BaseballTools:No valid glove detection sequences found\n"
          ]
        },
        {
          "output_type": "stream",
          "name": "stdout",
          "text": [
            "2025-04-11 22:04:37,929 - BaseballTools - WARNING - No valid glove detection sequences found\n"
          ]
        },
        {
          "output_type": "stream",
          "name": "stderr",
          "text": [
            "WARNING:BaseballTools:No valid glove detection sequences found\n"
          ]
        },
        {
          "output_type": "stream",
          "name": "stdout",
          "text": [
            "2025-04-11 22:04:38,099 - BaseballTools - WARNING - No valid glove detection sequences found\n"
          ]
        },
        {
          "output_type": "stream",
          "name": "stderr",
          "text": [
            "WARNING:BaseballTools:No valid glove detection sequences found\n"
          ]
        },
        {
          "output_type": "stream",
          "name": "stdout",
          "text": [
            "2025-04-11 22:04:38,273 - BaseballTools - WARNING - No valid glove detection sequences found\n"
          ]
        },
        {
          "output_type": "stream",
          "name": "stderr",
          "text": [
            "WARNING:BaseballTools:No valid glove detection sequences found\n"
          ]
        },
        {
          "output_type": "stream",
          "name": "stdout",
          "text": [
            "2025-04-11 22:04:38,445 - BaseballTools - WARNING - No valid glove detection sequences found\n"
          ]
        },
        {
          "output_type": "stream",
          "name": "stderr",
          "text": [
            "WARNING:BaseballTools:No valid glove detection sequences found\n"
          ]
        },
        {
          "output_type": "stream",
          "name": "stdout",
          "text": [
            "2025-04-11 22:06:10,180 - BaseballTools - INFO - Tracking data saved to glove_tracking_results/tracked_WW-curveball_tracking.csv with 492 frames\n"
          ]
        },
        {
          "output_type": "stream",
          "name": "stderr",
          "text": [
            "INFO:BaseballTools:Tracking data saved to glove_tracking_results/tracked_WW-curveball_tracking.csv with 492 frames\n"
          ]
        },
        {
          "output_type": "stream",
          "name": "stdout",
          "text": [
            "2025-04-11 22:06:10,181 - BaseballTools - INFO - Processed coordinates: 424 frames, Interpolated: 113 frames\n"
          ]
        },
        {
          "output_type": "stream",
          "name": "stderr",
          "text": [
            "INFO:BaseballTools:Processed coordinates: 424 frames, Interpolated: 113 frames\n"
          ]
        },
        {
          "output_type": "stream",
          "name": "stdout",
          "text": [
            "2025-04-11 22:06:10,183 - BaseballTools - INFO - CSV file saved successfully at glove_tracking_results/tracked_WW-curveball_tracking.csv\n"
          ]
        },
        {
          "output_type": "stream",
          "name": "stderr",
          "text": [
            "INFO:BaseballTools:CSV file saved successfully at glove_tracking_results/tracked_WW-curveball_tracking.csv\n"
          ]
        },
        {
          "output_type": "stream",
          "name": "stdout",
          "text": [
            "2025-04-11 22:06:10,184 - BaseballTools - INFO - Tracking completed. Output video saved to glove_tracking_results/tracked_WW-curveball.mp4\n"
          ]
        },
        {
          "output_type": "stream",
          "name": "stderr",
          "text": [
            "INFO:BaseballTools:Tracking completed. Output video saved to glove_tracking_results/tracked_WW-curveball.mp4\n"
          ]
        },
        {
          "output_type": "stream",
          "name": "stdout",
          "text": [
            "2025-04-11 22:06:10,184 - BaseballTools - INFO - Tracking data saved to glove_tracking_results/tracked_WW-curveball_tracking.csv\n"
          ]
        },
        {
          "output_type": "stream",
          "name": "stderr",
          "text": [
            "INFO:BaseballTools:Tracking data saved to glove_tracking_results/tracked_WW-curveball_tracking.csv\n",
            "Series.fillna with 'method' is deprecated and will raise in a future version. Use obj.ffill() or obj.bfill() instead.\n",
            "Series.fillna with 'method' is deprecated and will raise in a future version. Use obj.ffill() or obj.bfill() instead.\n"
          ]
        },
        {
          "output_type": "stream",
          "name": "stdout",
          "text": [
            "2025-04-11 22:06:10,629 - BaseballTools - INFO - Glove heatmap saved to glove_tracking_results/glove_heatmap_WW-curveball.png\n"
          ]
        },
        {
          "output_type": "stream",
          "name": "stderr",
          "text": [
            "INFO:BaseballTools:Glove heatmap saved to glove_tracking_results/glove_heatmap_WW-curveball.png\n"
          ]
        },
        {
          "output_type": "stream",
          "name": "stdout",
          "text": [
            "2025-04-11 22:06:10,630 - BaseballTools - INFO - Glove heatmap saved to glove_tracking_results/glove_heatmap_WW-curveball.png\n"
          ]
        },
        {
          "output_type": "stream",
          "name": "stderr",
          "text": [
            "INFO:BaseballTools:Glove heatmap saved to glove_tracking_results/glove_heatmap_WW-curveball.png\n",
            "No artists with labels found to put in legend.  Note that artists whose label start with an underscore are ignored when legend() is called with no argument.\n"
          ]
        },
        {
          "output_type": "stream",
          "name": "stdout",
          "text": [
            "2025-04-11 22:06:17,114 - BaseballTools - INFO - Home plate reference set: 4.82 pixels per inch\n"
          ]
        },
        {
          "output_type": "stream",
          "name": "stderr",
          "text": [
            "INFO:BaseballTools:Home plate reference set: 4.82 pixels per inch\n"
          ]
        },
        {
          "output_type": "stream",
          "name": "stdout",
          "text": [
            "2025-04-11 22:06:17,124 - BaseballTools - WARNING - No valid glove detection sequences found\n"
          ]
        },
        {
          "output_type": "stream",
          "name": "stderr",
          "text": [
            "WARNING:BaseballTools:No valid glove detection sequences found\n"
          ]
        },
        {
          "output_type": "stream",
          "name": "stdout",
          "text": [
            "2025-04-11 22:07:23,705 - BaseballTools - INFO - Tracking data saved to glove_tracking_results/tracked_test-sinker_tracking.csv with 376 frames\n"
          ]
        },
        {
          "output_type": "stream",
          "name": "stderr",
          "text": [
            "INFO:BaseballTools:Tracking data saved to glove_tracking_results/tracked_test-sinker_tracking.csv with 376 frames\n"
          ]
        },
        {
          "output_type": "stream",
          "name": "stdout",
          "text": [
            "2025-04-11 22:07:23,706 - BaseballTools - INFO - Processed coordinates: 319 frames, Interpolated: 61 frames\n"
          ]
        },
        {
          "output_type": "stream",
          "name": "stderr",
          "text": [
            "INFO:BaseballTools:Processed coordinates: 319 frames, Interpolated: 61 frames\n"
          ]
        },
        {
          "output_type": "stream",
          "name": "stdout",
          "text": [
            "2025-04-11 22:07:23,707 - BaseballTools - INFO - CSV file saved successfully at glove_tracking_results/tracked_test-sinker_tracking.csv\n"
          ]
        },
        {
          "output_type": "stream",
          "name": "stderr",
          "text": [
            "INFO:BaseballTools:CSV file saved successfully at glove_tracking_results/tracked_test-sinker_tracking.csv\n"
          ]
        },
        {
          "output_type": "stream",
          "name": "stdout",
          "text": [
            "2025-04-11 22:07:23,708 - BaseballTools - INFO - Tracking completed. Output video saved to glove_tracking_results/tracked_test-sinker.mp4\n"
          ]
        },
        {
          "output_type": "stream",
          "name": "stderr",
          "text": [
            "INFO:BaseballTools:Tracking completed. Output video saved to glove_tracking_results/tracked_test-sinker.mp4\n"
          ]
        },
        {
          "output_type": "stream",
          "name": "stdout",
          "text": [
            "2025-04-11 22:07:23,709 - BaseballTools - INFO - Tracking data saved to glove_tracking_results/tracked_test-sinker_tracking.csv\n"
          ]
        },
        {
          "output_type": "stream",
          "name": "stderr",
          "text": [
            "INFO:BaseballTools:Tracking data saved to glove_tracking_results/tracked_test-sinker_tracking.csv\n",
            "Series.fillna with 'method' is deprecated and will raise in a future version. Use obj.ffill() or obj.bfill() instead.\n",
            "Series.fillna with 'method' is deprecated and will raise in a future version. Use obj.ffill() or obj.bfill() instead.\n"
          ]
        },
        {
          "output_type": "stream",
          "name": "stdout",
          "text": [
            "2025-04-11 22:07:24,164 - BaseballTools - INFO - Glove heatmap saved to glove_tracking_results/glove_heatmap_test-sinker.png\n"
          ]
        },
        {
          "output_type": "stream",
          "name": "stderr",
          "text": [
            "INFO:BaseballTools:Glove heatmap saved to glove_tracking_results/glove_heatmap_test-sinker.png\n"
          ]
        },
        {
          "output_type": "stream",
          "name": "stdout",
          "text": [
            "2025-04-11 22:07:24,165 - BaseballTools - INFO - Glove heatmap saved to glove_tracking_results/glove_heatmap_test-sinker.png\n"
          ]
        },
        {
          "output_type": "stream",
          "name": "stderr",
          "text": [
            "INFO:BaseballTools:Glove heatmap saved to glove_tracking_results/glove_heatmap_test-sinker.png\n"
          ]
        },
        {
          "output_type": "stream",
          "name": "stdout",
          "text": [
            "2025-04-11 22:07:24,238 - BaseballTools - WARNING - No valid glove detection sequences found\n"
          ]
        },
        {
          "output_type": "stream",
          "name": "stderr",
          "text": [
            "WARNING:BaseballTools:No valid glove detection sequences found\n",
            "No artists with labels found to put in legend.  Note that artists whose label start with an underscore are ignored when legend() is called with no argument.\n"
          ]
        },
        {
          "output_type": "stream",
          "name": "stdout",
          "text": [
            "2025-04-11 22:07:24,409 - BaseballTools - WARNING - No valid glove detection sequences found\n"
          ]
        },
        {
          "output_type": "stream",
          "name": "stderr",
          "text": [
            "WARNING:BaseballTools:No valid glove detection sequences found\n"
          ]
        },
        {
          "output_type": "stream",
          "name": "stdout",
          "text": [
            "2025-04-11 22:07:24,585 - BaseballTools - WARNING - No valid glove detection sequences found\n"
          ]
        },
        {
          "output_type": "stream",
          "name": "stderr",
          "text": [
            "WARNING:BaseballTools:No valid glove detection sequences found\n"
          ]
        },
        {
          "output_type": "stream",
          "name": "stdout",
          "text": [
            "2025-04-11 22:07:24,746 - BaseballTools - WARNING - No valid glove detection sequences found\n"
          ]
        },
        {
          "output_type": "stream",
          "name": "stderr",
          "text": [
            "WARNING:BaseballTools:No valid glove detection sequences found\n"
          ]
        },
        {
          "output_type": "stream",
          "name": "stdout",
          "text": [
            "2025-04-11 22:07:24,911 - BaseballTools - WARNING - No valid glove detection sequences found\n"
          ]
        },
        {
          "output_type": "stream",
          "name": "stderr",
          "text": [
            "WARNING:BaseballTools:No valid glove detection sequences found\n"
          ]
        },
        {
          "output_type": "stream",
          "name": "stdout",
          "text": [
            "2025-04-11 22:07:25,075 - BaseballTools - WARNING - No valid glove detection sequences found\n"
          ]
        },
        {
          "output_type": "stream",
          "name": "stderr",
          "text": [
            "WARNING:BaseballTools:No valid glove detection sequences found\n"
          ]
        },
        {
          "output_type": "stream",
          "name": "stdout",
          "text": [
            "2025-04-11 22:07:25,241 - BaseballTools - WARNING - No valid glove detection sequences found\n"
          ]
        },
        {
          "output_type": "stream",
          "name": "stderr",
          "text": [
            "WARNING:BaseballTools:No valid glove detection sequences found\n"
          ]
        },
        {
          "output_type": "stream",
          "name": "stdout",
          "text": [
            "2025-04-11 22:07:25,410 - BaseballTools - WARNING - No valid glove detection sequences found\n"
          ]
        },
        {
          "output_type": "stream",
          "name": "stderr",
          "text": [
            "WARNING:BaseballTools:No valid glove detection sequences found\n"
          ]
        },
        {
          "output_type": "stream",
          "name": "stdout",
          "text": [
            "2025-04-11 22:07:25,574 - BaseballTools - WARNING - No valid glove detection sequences found\n"
          ]
        },
        {
          "output_type": "stream",
          "name": "stderr",
          "text": [
            "WARNING:BaseballTools:No valid glove detection sequences found\n"
          ]
        },
        {
          "output_type": "stream",
          "name": "stdout",
          "text": [
            "2025-04-11 22:07:25,729 - BaseballTools - INFO - Home plate reference set: 4.00 pixels per inch\n"
          ]
        },
        {
          "output_type": "stream",
          "name": "stderr",
          "text": [
            "INFO:BaseballTools:Home plate reference set: 4.00 pixels per inch\n"
          ]
        },
        {
          "output_type": "stream",
          "name": "stdout",
          "text": [
            "2025-04-11 22:07:25,738 - BaseballTools - WARNING - No valid glove detection sequences found\n"
          ]
        },
        {
          "output_type": "stream",
          "name": "stderr",
          "text": [
            "WARNING:BaseballTools:No valid glove detection sequences found\n"
          ]
        },
        {
          "output_type": "stream",
          "name": "stdout",
          "text": [
            "2025-04-11 22:08:50,568 - BaseballTools - INFO - Tracking data saved to glove_tracking_results/tracked_test-fs_tracking.csv with 436 frames\n"
          ]
        },
        {
          "output_type": "stream",
          "name": "stderr",
          "text": [
            "INFO:BaseballTools:Tracking data saved to glove_tracking_results/tracked_test-fs_tracking.csv with 436 frames\n"
          ]
        },
        {
          "output_type": "stream",
          "name": "stdout",
          "text": [
            "2025-04-11 22:08:50,569 - BaseballTools - INFO - Processed coordinates: 358 frames, Interpolated: 41 frames\n"
          ]
        },
        {
          "output_type": "stream",
          "name": "stderr",
          "text": [
            "INFO:BaseballTools:Processed coordinates: 358 frames, Interpolated: 41 frames\n"
          ]
        },
        {
          "output_type": "stream",
          "name": "stdout",
          "text": [
            "2025-04-11 22:08:50,570 - BaseballTools - INFO - CSV file saved successfully at glove_tracking_results/tracked_test-fs_tracking.csv\n"
          ]
        },
        {
          "output_type": "stream",
          "name": "stderr",
          "text": [
            "INFO:BaseballTools:CSV file saved successfully at glove_tracking_results/tracked_test-fs_tracking.csv\n"
          ]
        },
        {
          "output_type": "stream",
          "name": "stdout",
          "text": [
            "2025-04-11 22:08:50,572 - BaseballTools - INFO - Tracking completed. Output video saved to glove_tracking_results/tracked_test-fs.mp4\n"
          ]
        },
        {
          "output_type": "stream",
          "name": "stderr",
          "text": [
            "INFO:BaseballTools:Tracking completed. Output video saved to glove_tracking_results/tracked_test-fs.mp4\n"
          ]
        },
        {
          "output_type": "stream",
          "name": "stdout",
          "text": [
            "2025-04-11 22:08:50,573 - BaseballTools - INFO - Tracking data saved to glove_tracking_results/tracked_test-fs_tracking.csv\n"
          ]
        },
        {
          "output_type": "stream",
          "name": "stderr",
          "text": [
            "INFO:BaseballTools:Tracking data saved to glove_tracking_results/tracked_test-fs_tracking.csv\n",
            "Series.fillna with 'method' is deprecated and will raise in a future version. Use obj.ffill() or obj.bfill() instead.\n",
            "Series.fillna with 'method' is deprecated and will raise in a future version. Use obj.ffill() or obj.bfill() instead.\n"
          ]
        },
        {
          "output_type": "stream",
          "name": "stdout",
          "text": [
            "2025-04-11 22:08:51,034 - BaseballTools - INFO - Glove heatmap saved to glove_tracking_results/glove_heatmap_test-fs.png\n"
          ]
        },
        {
          "output_type": "stream",
          "name": "stderr",
          "text": [
            "INFO:BaseballTools:Glove heatmap saved to glove_tracking_results/glove_heatmap_test-fs.png\n"
          ]
        },
        {
          "output_type": "stream",
          "name": "stdout",
          "text": [
            "2025-04-11 22:08:51,035 - BaseballTools - INFO - Glove heatmap saved to glove_tracking_results/glove_heatmap_test-fs.png\n"
          ]
        },
        {
          "output_type": "stream",
          "name": "stderr",
          "text": [
            "INFO:BaseballTools:Glove heatmap saved to glove_tracking_results/glove_heatmap_test-fs.png\n"
          ]
        },
        {
          "output_type": "stream",
          "name": "stdout",
          "text": [
            "2025-04-11 22:08:51,058 - BaseballTools - INFO - Combined tracking data saved to glove_tracking_results/batch_tracking_results_20250411-220851.csv\n"
          ]
        },
        {
          "output_type": "stream",
          "name": "stderr",
          "text": [
            "INFO:BaseballTools:Combined tracking data saved to glove_tracking_results/batch_tracking_results_20250411-220851.csv\n"
          ]
        },
        {
          "output_type": "stream",
          "name": "stdout",
          "text": [
            "2025-04-11 22:08:51,068 - BaseballTools - INFO - Batch summary saved to glove_tracking_results/batch_summary_20250411-220851.csv\n"
          ]
        },
        {
          "output_type": "stream",
          "name": "stderr",
          "text": [
            "INFO:BaseballTools:Batch summary saved to glove_tracking_results/batch_summary_20250411-220851.csv\n"
          ]
        },
        {
          "output_type": "stream",
          "name": "stdout",
          "text": [
            "2025-04-11 22:08:51,522 - BaseballTools - INFO - Combined heatmap saved to glove_tracking_results/combined_heatmap_20250411-220851.png\n"
          ]
        },
        {
          "output_type": "stream",
          "name": "stderr",
          "text": [
            "INFO:BaseballTools:Combined heatmap saved to glove_tracking_results/combined_heatmap_20250411-220851.png\n"
          ]
        },
        {
          "output_type": "stream",
          "name": "stdout",
          "text": [
            "Processed 3 videos\n",
            "Combined tracking data saved to: glove_tracking_results/batch_tracking_results_20250411-220851.csv\n",
            "Summary file saved to: glove_tracking_results/batch_summary_20250411-220851.csv\n",
            "Combined heatmap saved to: glove_tracking_results/combined_heatmap_20250411-220851.png\n"
          ]
        },
        {
          "output_type": "display_data",
          "data": {
            "text/plain": [
              "<Figure size 1000x800 with 1 Axes>"
            ],
            "image/png": "[encoded data removed]"
          },
          "metadata": {}
        },
        {
          "output_type": "stream",
          "name": "stdout",
          "text": [
            "\n",
            "Batch Analysis Summary:\n"
          ]
        },
        {
          "output_type": "display_data",
          "data": {
            "text/plain": [
              "     video_filename  frame_count  frames_with_glove  frames_with_baseball  \\\n",
              "0  WW-curveball.mp4          492                314                    68   \n",
              "1       test-fs.mp4          436                317                    57   \n",
              "2   test-sinker.mp4          376                258                    53   \n",
              "\n",
              "   frames_with_homeplate  total_distance_inches  max_glove_movement_inches  \\\n",
              "0                    425             187.184785                  16.899088   \n",
              "1                     81             231.147795                  40.657487   \n",
              "2                    319             391.988973                 104.195806   \n",
              "\n",
              "   avg_glove_movement_inches  glove_x_range_inches  glove_y_range_inches  \\\n",
              "0                   0.598034             26.714286             27.321429   \n",
              "1                   0.731480             43.250000             37.625000   \n",
              "2                   1.525249            109.567073             32.756098   \n",
              "\n",
              "   avg_glove_x_position  avg_glove_y_position  \n",
              "0              9.690309             20.356301  \n",
              "1              9.989353             20.599369  \n",
              "2             -1.613136             26.189852  "
            ],
            "text/html": [
              "\n",
              "  <div id=\"df-a392a0b6-5552-4683-9c15-e44e7a6ee324\" class=\"colab-df-container\">\n",
              "    <div>\n",
              "<style scoped>\n",
              "    .dataframe tbody tr th:only-of-type {\n",
              "        vertical-align: middle;\n",
              "    }\n",
              "\n",
              "    .dataframe tbody tr th {\n",
              "        vertical-align: top;\n",
              "    }\n",
              "\n",
              "    .dataframe thead th {\n",
              "        text-align: right;\n",
              "    }\n",
              "</style>\n",
              "<table border=\"1\" class=\"dataframe\">\n",
              "  <thead>\n",
              "    <tr style=\"text-align: right;\">\n",
              "      <th></th>\n",
              "      <th>video_filename</th>\n",
              "      <th>frame_count</th>\n",
              "      <th>frames_with_glove</th>\n",
              "      <th>frames_with_baseball</th>\n",
              "      <th>frames_with_homeplate</th>\n",
              "      <th>total_distance_inches</th>\n",
              "      <th>max_glove_movement_inches</th>\n",
              "      <th>avg_glove_movement_inches</th>\n",
              "      <th>glove_x_range_inches</th>\n",
              "      <th>glove_y_range_inches</th>\n",
              "      <th>avg_glove_x_position</th>\n",
              "      <th>avg_glove_y_position</th>\n",
              "    </tr>\n",
              "  </thead>\n",
              "  <tbody>\n",
              "    <tr>\n",
              "      <th>0</th>\n",
              "      <td>WW-curveball.mp4</td>\n",
              "      <td>492</td>\n",
              "      <td>314</td>\n",
              "      <td>68</td>\n",
              "      <td>425</td>\n",
              "      <td>187.184785</td>\n",
              "      <td>16.899088</td>\n",
              "      <td>0.598034</td>\n",
              "      <td>26.714286</td>\n",
              "      <td>27.321429</td>\n",
              "      <td>9.690309</td>\n",
              "      <td>20.356301</td>\n",
              "    </tr>\n",
              "    <tr>\n",
              "      <th>1</th>\n",
              "      <td>test-fs.mp4</td>\n",
              "      <td>436</td>\n",
              "      <td>317</td>\n",
              "      <td>57</td>\n",
              "      <td>81</td>\n",
              "      <td>231.147795</td>\n",
              "      <td>40.657487</td>\n",
              "      <td>0.731480</td>\n",
              "      <td>43.250000</td>\n",
              "      <td>37.625000</td>\n",
              "      <td>9.989353</td>\n",
              "      <td>20.599369</td>\n",
              "    </tr>\n",
              "    <tr>\n",
              "      <th>2</th>\n",
              "      <td>test-sinker.mp4</td>\n",
              "      <td>376</td>\n",
              "      <td>258</td>\n",
              "      <td>53</td>\n",
              "      <td>319</td>\n",
              "      <td>391.988973</td>\n",
              "      <td>104.195806</td>\n",
              "      <td>1.525249</td>\n",
              "      <td>109.567073</td>\n",
              "      <td>32.756098</td>\n",
              "      <td>-1.613136</td>\n",
              "      <td>26.189852</td>\n",
              "    </tr>\n",
              "  </tbody>\n",
              "</table>\n",
              "</div>\n",
              "    <div class=\"colab-df-buttons\">\n",
              "\n",
              "  <div class=\"colab-df-container\">\n",
              "    <button class=\"colab-df-convert\" onclick=\"convertToInteractive('df-a392a0b6-5552-4683-9c15-e44e7a6ee324')\"\n",
              "            title=\"Convert this dataframe to an interactive table.\"\n",
              "            style=\"display:none;\">\n",
              "\n",
              "  <svg xmlns=\"http://www.w3.org/2000/svg\" height=\"24px\" viewBox=\"0 -960 960 960\">\n",
              "    <path d=\"M120-120v-720h720v720H120Zm60-500h600v-160H180v160Zm220 220h160v-160H400v160Zm0 220h160v-160H400v160ZM180-400h160v-160H180v160Zm440 0h160v-160H620v160ZM180-180h160v-160H180v160Zm440 0h160v-160H620v160Z\"/>\n",
              "  </svg>\n",
              "    </button>\n",
              "\n",
              "  <style>\n",
              "    .colab-df-container {\n",
              "      display:flex;\n",
              "      gap: 12px;\n",
              "    }\n",
              "\n",
              "    .colab-df-convert {\n",
              "      background-color: #E8F0FE;\n",
              "      border: none;\n",
              "      border-radius: 50%;\n",
              "      cursor: pointer;\n",
              "      display: none;\n",
              "      fill: #1967D2;\n",
              "      height: 32px;\n",
              "      padding: 0 0 0 0;\n",
              "      width: 32px;\n",
              "    }\n",
              "\n",
              "    .colab-df-convert:hover {\n",
              "      background-color: #E2EBFA;\n",
              "      box-shadow: 0px 1px 2px rgba(60, 64, 67, 0.3), 0px 1px 3px 1px rgba(60, 64, 67, 0.15);\n",
              "      fill: #174EA6;\n",
              "    }\n",
              "\n",
              "    .colab-df-buttons div {\n",
              "      margin-bottom: 4px;\n",
              "    }\n",
              "\n",
              "    [theme=dark] .colab-df-convert {\n",
              "      background-color: #3B4455;\n",
              "      fill: #D2E3FC;\n",
              "    }\n",
              "\n",
              "    [theme=dark] .colab-df-convert:hover {\n",
              "      background-color: #434B5C;\n",
              "      box-shadow: 0px 1px 3px 1px rgba(0, 0, 0, 0.15);\n",
              "      filter: drop-shadow(0px 1px 2px rgba(0, 0, 0, 0.3));\n",
              "      fill: #FFFFFF;\n",
              "    }\n",
              "  </style>\n",
              "\n",
              "    <script>\n",
              "      const buttonEl =\n",
              "        document.querySelector('#df-a392a0b6-5552-4683-9c15-e44e7a6ee324 button.colab-df-convert');\n",
              "      buttonEl.style.display =\n",
              "        google.colab.kernel.accessAllowed ? 'block' : 'none';\n",
              "\n",
              "      async function convertToInteractive(key) {\n",
              "        const element = document.querySelector('#df-a392a0b6-5552-4683-9c15-e44e7a6ee324');\n",
              "        const dataTable =\n",
              "          await google.colab.kernel.invokeFunction('convertToInteractive',\n",
              "                                                    [key], {});\n",
              "        if (!dataTable) return;\n",
              "\n",
              "        const docLinkHtml = 'Like what you see? Visit the ' +\n",
              "          '<a target=\"_blank\" href=https://colab.research.google.com/notebooks/data_table.ipynb>data table notebook</a>'\n",
              "          + ' to learn more about interactive tables.';\n",
              "        element.innerHTML = '';\n",
              "        dataTable['output_type'] = 'display_data';\n",
              "        await google.colab.output.renderOutput(dataTable, element);\n",
              "        const docLink = document.createElement('div');\n",
              "        docLink.innerHTML = docLinkHtml;\n",
              "        element.appendChild(docLink);\n",
              "      }\n",
              "    </script>\n",
              "  </div>\n",
              "\n",
              "\n",
              "<div id=\"df-f664ff10-0b43-4455-9308-7b31e4cccc79\">\n",
              "  <button class=\"colab-df-quickchart\" onclick=\"quickchart('df-f664ff10-0b43-4455-9308-7b31e4cccc79')\"\n",
              "            title=\"Suggest charts\"\n",
              "            style=\"display:none;\">\n",
              "\n",
              "<svg xmlns=\"http://www.w3.org/2000/svg\" height=\"24px\"viewBox=\"0 0 24 24\"\n",
              "     width=\"24px\">\n",
              "    <g>\n",
              "        <path d=\"M19 3H5c-1.1 0-2 .9-2 2v14c0 1.1.9 2 2 2h14c1.1 0 2-.9 2-2V5c0-1.1-.9-2-2-2zM9 17H7v-7h2v7zm4 0h-2V7h2v10zm4 0h-2v-4h2v4z\"/>\n",
              "    </g>\n",
              "</svg>\n",
              "  </button>\n",
              "\n",
              "<style>\n",
              "  .colab-df-quickchart {\n",
              "      --bg-color: #E8F0FE;\n",
              "      --fill-color: #1967D2;\n",
              "      --hover-bg-color: #E2EBFA;\n",
              "      --hover-fill-color: #174EA6;\n",
              "      --disabled-fill-color: #AAA;\n",
              "      --disabled-bg-color: #DDD;\n",
              "  }\n",
              "\n",
              "  [theme=dark] .colab-df-quickchart {\n",
              "      --bg-color: #3B4455;\n",
              "      --fill-color: #D2E3FC;\n",
              "      --hover-bg-color: #434B5C;\n",
              "      --hover-fill-color: #FFFFFF;\n",
              "      --disabled-bg-color: #3B4455;\n",
              "      --disabled-fill-color: #666;\n",
              "  }\n",
              "\n",
              "  .colab-df-quickchart {\n",
              "    background-color: var(--bg-color);\n",
              "    border: none;\n",
              "    border-radius: 50%;\n",
              "    cursor: pointer;\n",
              "    display: none;\n",
              "    fill: var(--fill-color);\n",
              "    height: 32px;\n",
              "    padding: 0;\n",
              "    width: 32px;\n",
              "  }\n",
              "\n",
              "  .colab-df-quickchart:hover {\n",
              "    background-color: var(--hover-bg-color);\n",
              "    box-shadow: 0 1px 2px rgba(60, 64, 67, 0.3), 0 1px 3px 1px rgba(60, 64, 67, 0.15);\n",
              "    fill: var(--button-hover-fill-color);\n",
              "  }\n",
              "\n",
              "  .colab-df-quickchart-complete:disabled,\n",
              "  .colab-df-quickchart-complete:disabled:hover {\n",
              "    background-color: var(--disabled-bg-color);\n",
              "    fill: var(--disabled-fill-color);\n",
              "    box-shadow: none;\n",
              "  }\n",
              "\n",
              "  .colab-df-spinner {\n",
              "    border: 2px solid var(--fill-color);\n",
              "    border-color: transparent;\n",
              "    border-bottom-color: var(--fill-color);\n",
              "    animation:\n",
              "      spin 1s steps(1) infinite;\n",
              "  }\n",
              "\n",
              "  @keyframes spin {\n",
              "    0% {\n",
              "      border-color: transparent;\n",
              "      border-bottom-color: var(--fill-color);\n",
              "      border-left-color: var(--fill-color);\n",
              "    }\n",
              "    20% {\n",
              "      border-color: transparent;\n",
              "      border-left-color: var(--fill-color);\n",
              "      border-top-color: var(--fill-color);\n",
              "    }\n",
              "    30% {\n",
              "      border-color: transparent;\n",
              "      border-left-color: var(--fill-color);\n",
              "      border-top-color: var(--fill-color);\n",
              "      border-right-color: var(--fill-color);\n",
              "    }\n",
              "    40% {\n",
              "      border-color: transparent;\n",
              "      border-right-color: var(--fill-color);\n",
              "      border-top-color: var(--fill-color);\n",
              "    }\n",
              "    60% {\n",
              "      border-color: transparent;\n",
              "      border-right-color: var(--fill-color);\n",
              "    }\n",
              "    80% {\n",
              "      border-color: transparent;\n",
              "      border-right-color: var(--fill-color);\n",
              "      border-bottom-color: var(--fill-color);\n",
              "    }\n",
              "    90% {\n",
              "      border-color: transparent;\n",
              "      border-bottom-color: var(--fill-color);\n",
              "    }\n",
              "  }\n",
              "</style>\n",
              "\n",
              "  <script>\n",
              "    async function quickchart(key) {\n",
              "      const quickchartButtonEl =\n",
              "        document.querySelector('#' + key + ' button');\n",
              "      quickchartButtonEl.disabled = true;  // To prevent multiple clicks.\n",
              "      quickchartButtonEl.classList.add('colab-df-spinner');\n",
              "      try {\n",
              "        const charts = await google.colab.kernel.invokeFunction(\n",
              "            'suggestCharts', [key], {});\n",
              "      } catch (error) {\n",
              "        console.error('Error during call to suggestCharts:', error);\n",
              "      }\n",
              "      quickchartButtonEl.classList.remove('colab-df-spinner');\n",
              "      quickchartButtonEl.classList.add('colab-df-quickchart-complete');\n",
              "    }\n",
              "    (() => {\n",
              "      let quickchartButtonEl =\n",
              "        document.querySelector('#df-f664ff10-0b43-4455-9308-7b31e4cccc79 button');\n",
              "      quickchartButtonEl.style.display =\n",
              "        google.colab.kernel.accessAllowed ? 'block' : 'none';\n",
              "    })();\n",
              "  </script>\n",
              "</div>\n",
              "\n",
              "  <div id=\"id_5d363a14-fb77-41fb-a87d-3e827bf4af2e\">\n",
              "    <style>\n",
              "      .colab-df-generate {\n",
              "        background-color: #E8F0FE;\n",
              "        border: none;\n",
              "        border-radius: 50%;\n",
              "        cursor: pointer;\n",
              "        display: none;\n",
              "        fill: #1967D2;\n",
              "        height: 32px;\n",
              "        padding: 0 0 0 0;\n",
              "        width: 32px;\n",
              "      }\n",
              "\n",
              "      .colab-df-generate:hover {\n",
              "        background-color: #E2EBFA;\n",
              "        box-shadow: 0px 1px 2px rgba(60, 64, 67, 0.3), 0px 1px 3px 1px rgba(60, 64, 67, 0.15);\n",
              "        fill: #174EA6;\n",
              "      }\n",
              "\n",
              "      [theme=dark] .colab-df-generate {\n",
              "        background-color: #3B4455;\n",
              "        fill: #D2E3FC;\n",
              "      }\n",
              "\n",
              "      [theme=dark] .colab-df-generate:hover {\n",
              "        background-color: #434B5C;\n",
              "        box-shadow: 0px 1px 3px 1px rgba(0, 0, 0, 0.15);\n",
              "        filter: drop-shadow(0px 1px 2px rgba(0, 0, 0, 0.3));\n",
              "        fill: #FFFFFF;\n",
              "      }\n",
              "    </style>\n",
              "    <button class=\"colab-df-generate\" onclick=\"generateWithVariable('summary_df')\"\n",
              "            title=\"Generate code using this dataframe.\"\n",
              "            style=\"display:none;\">\n",
              "\n",
              "  <svg xmlns=\"http://www.w3.org/2000/svg\" height=\"24px\"viewBox=\"0 0 24 24\"\n",
              "       width=\"24px\">\n",
              "    <path d=\"M7,19H8.4L18.45,9,17,7.55,7,17.6ZM5,21V16.75L18.45,3.32a2,2,0,0,1,2.83,0l1.4,1.43a1.91,1.91,0,0,1,.58,1.4,1.91,1.91,0,0,1-.58,1.4L9.25,21ZM18.45,9,17,7.55Zm-12,3A5.31,5.31,0,0,0,4.9,8.1,5.31,5.31,0,0,0,1,6.5,5.31,5.31,0,0,0,4.9,4.9,5.31,5.31,0,0,0,6.5,1,5.31,5.31,0,0,0,8.1,4.9,5.31,5.31,0,0,0,12,6.5,5.46,5.46,0,0,0,6.5,12Z\"/>\n",
              "  </svg>\n",
              "    </button>\n",
              "    <script>\n",
              "      (() => {\n",
              "      const buttonEl =\n",
              "        document.querySelector('#id_5d363a14-fb77-41fb-a87d-3e827bf4af2e button.colab-df-generate');\n",
              "      buttonEl.style.display =\n",
              "        google.colab.kernel.accessAllowed ? 'block' : 'none';\n",
              "\n",
              "      buttonEl.onclick = () => {\n",
              "        google.colab.notebook.generateWithVariable('summary_df');\n",
              "      }\n",
              "      })();\n",
              "    </script>\n",
              "  </div>\n",
              "\n",
              "    </div>\n",
              "  </div>\n"
            ],
            "application/vnd.google.colaboratory.intrinsic+json": {
              "type": "dataframe",
              "variable_name": "summary_df",
              "summary": "{\n  \"name\": \"summary_df\",\n  \"rows\": 3,\n  \"fields\": [\n    {\n      \"column\": \"video_filename\",\n      \"properties\": {\n        \"dtype\": \"string\",\n        \"num_unique_values\": 3,\n        \"samples\": [\n          \"WW-curveball.mp4\",\n          \"test-fs.mp4\",\n          \"test-sinker.mp4\"\n        ],\n        \"semantic_type\": \"\",\n        \"description\": \"\"\n      }\n    },\n    {\n      \"column\": \"frame_count\",\n      \"properties\": {\n        \"dtype\": \"number\",\n        \"std\": 58,\n        \"min\": 376,\n        \"max\": 492,\n        \"num_unique_values\": 3,\n        \"samples\": [\n          492,\n          436,\n          376\n        ],\n        \"semantic_type\": \"\",\n        \"description\": \"\"\n      }\n    },\n    {\n      \"column\": \"frames_with_glove\",\n      \"properties\": {\n        \"dtype\": \"number\",\n        \"std\": 33,\n        \"min\": 258,\n        \"max\": 317,\n        \"num_unique_values\": 3,\n        \"samples\": [\n          314,\n          317,\n          258\n        ],\n        \"semantic_type\": \"\",\n        \"description\": \"\"\n      }\n    },\n    {\n      \"column\": \"frames_with_baseball\",\n      \"properties\": {\n        \"dtype\": \"number\",\n        \"std\": 7,\n        \"min\": 53,\n        \"max\": 68,\n        \"num_unique_values\": 3,\n        \"samples\": [\n          68,\n          57,\n          53\n        ],\n        \"semantic_type\": \"\",\n        \"description\": \"\"\n      }\n    },\n    {\n      \"column\": \"frames_with_homeplate\",\n      \"properties\": {\n        \"dtype\": \"number\",\n        \"std\": 176,\n        \"min\": 81,\n        \"max\": 425,\n        \"num_unique_values\": 3,\n        \"samples\": [\n          425,\n          81,\n          319\n        ],\n        \"semantic_type\": \"\",\n        \"description\": \"\"\n      }\n    },\n    {\n      \"column\": \"total_distance_inches\",\n      \"properties\": {\n        \"dtype\": \"number\",\n        \"std\": 107.81727328143783,\n        \"min\": 187.18478481367012,\n        \"max\": 391.9889734122781,\n        \"num_unique_values\": 3,\n        \"samples\": [\n          187.18478481367012,\n          231.1477954199343,\n          391.9889734122781\n        ],\n        \"semantic_type\": \"\",\n        \"description\": \"\"\n      }\n    },\n    {\n      \"column\": \"max_glove_movement_inches\",\n      \"properties\": {\n        \"dtype\": \"number\",\n        \"std\": 45.13368359133624,\n        \"min\": 16.899088249768667,\n        \"max\": 104.19580581927082,\n        \"num_unique_values\": 3,\n        \"samples\": [\n          16.899088249768667,\n          40.65748701038961,\n          104.19580581927082\n        ],\n        \"semantic_type\": \"\",\n        \"description\": \"\"\n      }\n    },\n    {\n      \"column\": \"avg_glove_movement_inches\",\n      \"properties\": {\n        \"dtype\": \"number\",\n        \"std\": 0.5012655656591183,\n        \"min\": 0.5980344562737065,\n        \"max\": 1.5252489237831834,\n        \"num_unique_values\": 3,\n        \"samples\": [\n          0.5980344562737065,\n          0.7314803652529567,\n          1.5252489237831834\n        ],\n        \"semantic_type\": \"\",\n        \"description\": \"\"\n      }\n    },\n    {\n      \"column\": \"glove_x_range_inches\",\n      \"properties\": {\n        \"dtype\": \"number\",\n        \"std\": 43.84816307474004,\n        \"min\": 26.714285714285715,\n        \"max\": 109.56707317073172,\n        \"num_unique_values\": 3,\n        \"samples\": [\n          26.714285714285715,\n          43.25,\n          109.56707317073172\n        ],\n        \"semantic_type\": \"\",\n        \"description\": \"\"\n      }\n    },\n    {\n      \"column\": \"glove_y_range_inches\",\n      \"properties\": {\n        \"dtype\": \"number\",\n        \"std\": 5.154373905890597,\n        \"min\": 27.321428571428573,\n        \"max\": 37.625,\n        \"num_unique_values\": 3,\n        \"samples\": [\n          27.321428571428573,\n          37.625,\n          32.75609756097561\n        ],\n        \"semantic_type\": \"\",\n        \"description\": \"\"\n      }\n    },\n    {\n      \"column\": \"avg_glove_x_position\",\n      \"properties\": {\n        \"dtype\": \"number\",\n        \"std\": 6.614063948721637,\n        \"min\": -1.613135753450558,\n        \"max\": 9.98935331230284,\n        \"num_unique_values\": 3,\n        \"samples\": [\n          9.69030937215651,\n          9.98935331230284,\n          -1.613135753450558\n        ],\n        \"semantic_type\": \"\",\n        \"description\": \"\"\n      }\n    },\n    {\n      \"column\": \"avg_glove_y_position\",\n      \"properties\": {\n        \"dtype\": \"number\",\n        \"std\": 3.3000728965954482,\n        \"min\": 20.356301182893542,\n        \"max\": 26.189851578748343,\n        \"num_unique_values\": 3,\n        \"samples\": [\n          20.356301182893542,\n          20.599369085173503,\n          26.189851578748343\n        ],\n        \"semantic_type\": \"\",\n        \"description\": \"\"\n      }\n    }\n  ]\n}"
            }
          },
          "metadata": {}
        },
        {
          "output_type": "display_data",
          "data": {
            "text/plain": [
              "<Figure size 1200x600 with 1 Axes>"
            ],
            "image/png": "[encoded data removed]"
          },
          "metadata": {}
        }
      ],
      "source": [
        "# Create a directory for batch processing\n",
        "batch_dir = 'batch_videos'\n",
        "os.makedirs(batch_dir, exist_ok=True)\n",
        "\n",
        "# Upload multiple video files\n",
        "print(\"\\nPlease upload videos for batch analysis (you can select multiple files):\")\n",
        "uploaded = files.upload()\n",
        "for filename in uploaded.keys():\n",
        "    with open(os.path.join(batch_dir, filename), 'wb') as f:\n",
        "        f.write(uploaded[filename])\n",
        "    print(f\"Saved {filename} to {batch_dir}\")\n",
        "\n",
        "# Show how many videos were uploaded\n",
        "num_videos = len(glob.glob(os.path.join(batch_dir, \"*.mp4\")))\n",
        "print(f\"\\nFound {num_videos} videos in the batch directory\")\n",
        "\n",
        "# Process videos in batch mode\n",
        "batch_result = baseball_tools.track_gloves(\n",
        "    mode=\"batch\",                    # Process multiple videos\n",
        "    input_folder=batch_dir,          # Folder containing videos\n",
        "    delete_after_processing=False,   # Keep the original videos\n",
        "    skip_confirmation=True,          # Skip deletion confirmation\n",
        "    confidence_threshold=0.25,       # Minimum confidence for detections\n",
        "    enable_filtering=True,           # Filter out physically impossible movements\n",
        "    show_plot=True,                  # Include 2D tracking plot in output videos\n",
        "    generate_heatmap=True,           # Generate heatmaps for each video and combined\n",
        "    create_video=True,               # Create annotated output videos\n",
        "    max_workers=1                    # Number of parallel workers (1 for sequential processing)\n",
        ")\n",
        "\n",
        "print(f\"Processed {batch_result.get('processed_videos', 0)} videos\")\n",
        "print(f\"Combined tracking data saved to: {batch_result.get('combined_csv', 'N/A')}\")\n",
        "print(f\"Summary file saved to: {batch_result.get('summary_file', 'N/A')}\")\n",
        "print(f\"Combined heatmap saved to: {batch_result.get('combined_heatmap', 'N/A')}\")\n",
        "\n",
        "# Display the combined heatmap if available\n",
        "if 'combined_heatmap' in batch_result and batch_result['combined_heatmap']:\n",
        "    try:\n",
        "        combined_heatmap = cv2.imread(batch_result['combined_heatmap'])\n",
        "        if combined_heatmap is not None:\n",
        "            combined_heatmap_rgb = cv2.cvtColor(combined_heatmap, cv2.COLOR_BGR2RGB)\n",
        "            plt.figure(figsize=(10, 8))\n",
        "            plt.imshow(combined_heatmap_rgb)\n",
        "            plt.axis('off')\n",
        "            plt.title(\"Combined Glove Movement Heatmap\")\n",
        "            plt.show()\n",
        "    except Exception as e:\n",
        "        print(f\"Note: Could not display combined heatmap: {e}\")\n",
        "\n",
        "# Analyze the batch summary data if available\n",
        "if 'summary_file' in batch_result and batch_result['summary_file']:\n",
        "    try:\n",
        "        summary_df = pd.read_csv(batch_result['summary_file'])\n",
        "\n",
        "        print(\"\\nBatch Analysis Summary:\")\n",
        "        display(summary_df)\n",
        "\n",
        "        # Create a bar chart comparing total distance across videos\n",
        "        plt.figure(figsize=(12, 6))\n",
        "        plt.bar(summary_df['video_filename'], summary_df['total_distance_inches'])\n",
        "        plt.xlabel('Video')\n",
        "        plt.ylabel('Total Glove Movement (inches)')\n",
        "        plt.title('Comparison of Glove Movement Across Videos')\n",
        "        plt.xticks(rotation=45, ha='right')\n",
        "        plt.tight_layout()\n",
        "        plt.show()\n",
        "\n",
        "    except Exception as e:\n",
        "        print(f\"Unable to analyze summary data: {e}\")"
      ]
    },
    {
      "cell_type": "markdown",
      "metadata": {
        "id": "CW99JlEQ1oAw"
      },
      "source": [
        "### Understanding batch processing:\n",
        "\n",
        "Batch processing provides several advantages:\n",
        "\n",
        "1. **Comparison**: Process multiple videos with the same parameters for consistent comparison.\n",
        "\n",
        "2. **Combined Analysis**: Generates aggregate statistics and combined visualizations.\n",
        "\n",
        "3. **Summary Data**: Creates a summary file with key metrics for each video:\n",
        "   - Total glove movement distance\n",
        "   - Range of motion\n",
        "   - Average position\n",
        "   - Maximum movement between frames\n",
        "\n",
        "This is particularly useful for comparing different catchers, different pitch types, or the same catcher in different situations."
      ]
    },
    {
      "cell_type": "markdown",
      "metadata": {
        "id": "eMS8O99F1oAx"
      },
      "source": [
        "## 7. Advanced Usage: Video Scraping from Baseball Savant\n",
        "\n",
        "BaseballCV can automatically download videos from Baseball Savant and process them. This is useful for analyzing MLB game footage:"
      ]
    },
    {
      "cell_type": "code",
      "execution_count": null,
      "metadata": {
        "colab": {
          "base_uri": "https://localhost:8080/"
        },
        "id": "Z62erLZa1oAx",
        "outputId": "dd11e7a3-d07d-4b54-bb79-eef8edad9b79"
      },
      "outputs": [
        {
          "output_type": "stream",
          "name": "stdout",
          "text": [
            "\n",
            "Do you want to run the scraper to download and analyze MLB videos? (y/n): y\n",
            "2025-04-11 22:09:52,693 - LoadTools - INFO - Model found at models/od/YOLO/glove_tracking/model_weights/glove_tracking.pt\n"
          ]
        },
        {
          "output_type": "stream",
          "name": "stderr",
          "text": [
            "INFO:LoadTools:Model found at models/od/YOLO/glove_tracking/model_weights/glove_tracking.pt\n"
          ]
        },
        {
          "output_type": "stream",
          "name": "stdout",
          "text": [
            "2025-04-11 22:09:53,241 - BaseballTools - INFO - Model loaded with classes: {0: 'glove', 1: 'homeplate', 2: 'baseball', 3: 'rubber'}\n"
          ]
        },
        {
          "output_type": "stream",
          "name": "stderr",
          "text": [
            "INFO:BaseballTools:Model loaded with classes: {0: 'glove', 1: 'homeplate', 2: 'baseball', 3: 'rubber'}\n"
          ]
        },
        {
          "output_type": "stream",
          "name": "stdout",
          "text": [
            "2025-04-11 22:09:53,242 - BaseballTools - INFO - Class IDs - Glove: 0, Home Plate: 1, Baseball: 2\n"
          ]
        },
        {
          "output_type": "stream",
          "name": "stderr",
          "text": [
            "INFO:BaseballTools:Class IDs - Glove: 0, Home Plate: 1, Baseball: 2\n"
          ]
        },
        {
          "output_type": "stream",
          "name": "stdout",
          "text": [
            "2025-04-11 22:10:17,169 - BaseballTools - INFO - Scraping videos from Baseball Savant...\n"
          ]
        },
        {
          "output_type": "stream",
          "name": "stderr",
          "text": [
            "INFO:BaseballTools:Scraping videos from Baseball Savant...\n",
            "Downloading Videos:   0%|          | 0/3 [00:00<?, ?it/s]"
          ]
        },
        {
          "output_type": "stream",
          "name": "stdout",
          "text": [
            "2025-04-11 22:10:18,720 - BaseballSavVideoScraper - INFO - Successfully downloaded video a9e284c2-90f5-4cf5-8fc0-4569e298f8c6\n"
          ]
        },
        {
          "output_type": "stream",
          "name": "stderr",
          "text": [
            "INFO:BaseballSavVideoScraper:Successfully downloaded video a9e284c2-90f5-4cf5-8fc0-4569e298f8c6\n"
          ]
        },
        {
          "output_type": "stream",
          "name": "stdout",
          "text": [
            "2025-04-11 22:10:19,194 - BaseballSavVideoScraper - INFO - Successfully downloaded video 89a91cab-2940-4887-9f05-016e5f15d638\n"
          ]
        },
        {
          "output_type": "stream",
          "name": "stderr",
          "text": [
            "INFO:BaseballSavVideoScraper:Successfully downloaded video 89a91cab-2940-4887-9f05-016e5f15d638\n",
            "Downloading Videos:  33%|███▎      | 1/3 [00:02<00:04,  2.02s/it]"
          ]
        },
        {
          "output_type": "stream",
          "name": "stdout",
          "text": [
            "2025-04-11 22:10:19,237 - BaseballSavVideoScraper - INFO - Successfully downloaded video 6b471737-1f18-412e-8ce2-6ef639d6a7f5\n"
          ]
        },
        {
          "output_type": "stream",
          "name": "stderr",
          "text": [
            "INFO:BaseballSavVideoScraper:Successfully downloaded video 6b471737-1f18-412e-8ce2-6ef639d6a7f5\n",
            "Downloading Videos: 100%|██████████| 3/3 [00:02<00:00,  1.45it/s]"
          ]
        },
        {
          "output_type": "stream",
          "name": "stdout",
          "text": [
            "2025-04-11 22:10:19,243 - BaseballTools - INFO - Successfully scraped 3 videos\n"
          ]
        },
        {
          "output_type": "stream",
          "name": "stderr",
          "text": [
            "\n",
            "INFO:BaseballTools:Successfully scraped 3 videos\n"
          ]
        },
        {
          "output_type": "stream",
          "name": "stdout",
          "text": [
            "2025-04-11 22:10:19,245 - LoadTools - INFO - Model found at models/od/YOLO/glove_tracking/model_weights/glove_tracking.pt\n"
          ]
        },
        {
          "output_type": "stream",
          "name": "stderr",
          "text": [
            "INFO:LoadTools:Model found at models/od/YOLO/glove_tracking/model_weights/glove_tracking.pt\n"
          ]
        },
        {
          "output_type": "stream",
          "name": "stdout",
          "text": [
            "2025-04-11 22:10:19,420 - BaseballTools - INFO - Model loaded with classes: {0: 'glove', 1: 'homeplate', 2: 'baseball', 3: 'rubber'}\n"
          ]
        },
        {
          "output_type": "stream",
          "name": "stderr",
          "text": [
            "INFO:BaseballTools:Model loaded with classes: {0: 'glove', 1: 'homeplate', 2: 'baseball', 3: 'rubber'}\n"
          ]
        },
        {
          "output_type": "stream",
          "name": "stdout",
          "text": [
            "2025-04-11 22:10:19,421 - BaseballTools - INFO - Class IDs - Glove: 0, Home Plate: 1, Baseball: 2\n"
          ]
        },
        {
          "output_type": "stream",
          "name": "stderr",
          "text": [
            "INFO:BaseballTools:Class IDs - Glove: 0, Home Plate: 1, Baseball: 2\n"
          ]
        },
        {
          "output_type": "stream",
          "name": "stdout",
          "text": [
            "2025-04-11 22:10:19,422 - BaseballTools - INFO - Found 3 videos to process in /tmp/savant_videos_zmjj5z6s\n"
          ]
        },
        {
          "output_type": "stream",
          "name": "stderr",
          "text": [
            "INFO:BaseballTools:Found 3 videos to process in /tmp/savant_videos_zmjj5z6s\n"
          ]
        },
        {
          "output_type": "stream",
          "name": "stdout",
          "text": [
            "2025-04-11 22:10:19,424 - BaseballTools - INFO - Processing videos in parallel with 2 workers\n"
          ]
        },
        {
          "output_type": "stream",
          "name": "stderr",
          "text": [
            "INFO:BaseballTools:Processing videos in parallel with 2 workers\n"
          ]
        },
        {
          "output_type": "stream",
          "name": "stdout",
          "text": [
            "Ultralytics 8.3.107 🚀 Python-3.11.12 torch-2.6.0+cu124 CUDA:0 (NVIDIA L4, 22693MiB)\n"
          ]
        },
        {
          "output_type": "stream",
          "name": "stderr",
          "text": [
            "No artists with labels found to put in legend.  Note that artists whose label start with an underscore are ignored when legend() is called with no argument.\n"
          ]
        },
        {
          "output_type": "stream",
          "name": "stdout",
          "text": [
            "YOLO11x summary (fused): 190 layers, 56,831,644 parameters, 0 gradients, 194.4 GFLOPs\n",
            "2025-04-11 22:10:50,738 - BaseballTools - INFO - Home plate reference set: 3.47 pixels per inch\n"
          ]
        },
        {
          "output_type": "stream",
          "name": "stderr",
          "text": [
            "INFO:BaseballTools:Home plate reference set: 3.47 pixels per inch\n"
          ]
        },
        {
          "output_type": "stream",
          "name": "stdout",
          "text": [
            "2025-04-11 22:10:50,747 - BaseballTools - WARNING - No valid glove detection sequences found\n"
          ]
        },
        {
          "output_type": "stream",
          "name": "stderr",
          "text": [
            "WARNING:BaseballTools:No valid glove detection sequences found\n"
          ]
        },
        {
          "output_type": "stream",
          "name": "stdout",
          "text": [
            "2025-04-11 22:10:50,897 - BaseballTools - WARNING - No valid glove detection sequences found\n"
          ]
        },
        {
          "output_type": "stream",
          "name": "stderr",
          "text": [
            "WARNING:BaseballTools:No valid glove detection sequences found\n"
          ]
        },
        {
          "output_type": "stream",
          "name": "stdout",
          "text": [
            "2025-04-11 22:12:27,551 - BaseballTools - INFO - Tracking data saved to glove_tracking_results/tracked_745109_6b471737-1f18-412e-8ce2-6ef639d6a7f5_tracking.csv with 366 frames\n"
          ]
        },
        {
          "output_type": "stream",
          "name": "stderr",
          "text": [
            "INFO:BaseballTools:Tracking data saved to glove_tracking_results/tracked_745109_6b471737-1f18-412e-8ce2-6ef639d6a7f5_tracking.csv with 366 frames\n"
          ]
        },
        {
          "output_type": "stream",
          "name": "stdout",
          "text": [
            "2025-04-11 22:12:27,554 - BaseballTools - INFO - Processed coordinates: 262 frames, Interpolated: 13 frames\n"
          ]
        },
        {
          "output_type": "stream",
          "name": "stderr",
          "text": [
            "INFO:BaseballTools:Processed coordinates: 262 frames, Interpolated: 13 frames\n"
          ]
        },
        {
          "output_type": "stream",
          "name": "stdout",
          "text": [
            "2025-04-11 22:12:27,557 - BaseballTools - INFO - CSV file saved successfully at glove_tracking_results/tracked_745109_6b471737-1f18-412e-8ce2-6ef639d6a7f5_tracking.csv\n"
          ]
        },
        {
          "output_type": "stream",
          "name": "stderr",
          "text": [
            "INFO:BaseballTools:CSV file saved successfully at glove_tracking_results/tracked_745109_6b471737-1f18-412e-8ce2-6ef639d6a7f5_tracking.csv\n"
          ]
        },
        {
          "output_type": "stream",
          "name": "stdout",
          "text": [
            "2025-04-11 22:12:27,560 - BaseballTools - INFO - Tracking completed. Output video saved to glove_tracking_results/tracked_745109_6b471737-1f18-412e-8ce2-6ef639d6a7f5.mp4\n"
          ]
        },
        {
          "output_type": "stream",
          "name": "stderr",
          "text": [
            "INFO:BaseballTools:Tracking completed. Output video saved to glove_tracking_results/tracked_745109_6b471737-1f18-412e-8ce2-6ef639d6a7f5.mp4\n"
          ]
        },
        {
          "output_type": "stream",
          "name": "stdout",
          "text": [
            "2025-04-11 22:12:27,562 - BaseballTools - INFO - Tracking data saved to glove_tracking_results/tracked_745109_6b471737-1f18-412e-8ce2-6ef639d6a7f5_tracking.csv\n"
          ]
        },
        {
          "output_type": "stream",
          "name": "stderr",
          "text": [
            "INFO:BaseballTools:Tracking data saved to glove_tracking_results/tracked_745109_6b471737-1f18-412e-8ce2-6ef639d6a7f5_tracking.csv\n",
            "Series.fillna with 'method' is deprecated and will raise in a future version. Use obj.ffill() or obj.bfill() instead.\n",
            "Series.fillna with 'method' is deprecated and will raise in a future version. Use obj.ffill() or obj.bfill() instead.\n"
          ]
        },
        {
          "output_type": "stream",
          "name": "stdout",
          "text": [
            "2025-04-11 22:12:28,183 - BaseballTools - INFO - Glove heatmap saved to glove_tracking_results/glove_heatmap_745109_6b471737-1f18-412e-8ce2-6ef639d6a7f5.png\n"
          ]
        },
        {
          "output_type": "stream",
          "name": "stderr",
          "text": [
            "INFO:BaseballTools:Glove heatmap saved to glove_tracking_results/glove_heatmap_745109_6b471737-1f18-412e-8ce2-6ef639d6a7f5.png\n"
          ]
        },
        {
          "output_type": "stream",
          "name": "stdout",
          "text": [
            "2025-04-11 22:12:28,188 - BaseballTools - INFO - Glove heatmap saved to glove_tracking_results/glove_heatmap_745109_6b471737-1f18-412e-8ce2-6ef639d6a7f5.png\n"
          ]
        },
        {
          "output_type": "stream",
          "name": "stderr",
          "text": [
            "INFO:BaseballTools:Glove heatmap saved to glove_tracking_results/glove_heatmap_745109_6b471737-1f18-412e-8ce2-6ef639d6a7f5.png\n"
          ]
        },
        {
          "output_type": "stream",
          "name": "stdout",
          "text": [
            "2025-04-11 22:12:28,216 - BaseballTools - INFO - Deleted video: 745109_6b471737-1f18-412e-8ce2-6ef639d6a7f5.mp4\n"
          ]
        },
        {
          "output_type": "stream",
          "name": "stderr",
          "text": [
            "INFO:BaseballTools:Deleted video: 745109_6b471737-1f18-412e-8ce2-6ef639d6a7f5.mp4\n"
          ]
        },
        {
          "output_type": "stream",
          "name": "stdout",
          "text": [
            "2025-04-11 22:12:28,342 - BaseballTools - INFO - Home plate reference set: 3.94 pixels per inch\n"
          ]
        },
        {
          "output_type": "stream",
          "name": "stderr",
          "text": [
            "INFO:BaseballTools:Home plate reference set: 3.94 pixels per inch\n"
          ]
        },
        {
          "output_type": "stream",
          "name": "stdout",
          "text": [
            "2025-04-11 22:12:28,351 - BaseballTools - WARNING - No valid glove detection sequences found\n"
          ]
        },
        {
          "output_type": "stream",
          "name": "stderr",
          "text": [
            "WARNING:BaseballTools:No valid glove detection sequences found\n"
          ]
        },
        {
          "output_type": "stream",
          "name": "stdout",
          "text": [
            "2025-04-11 22:12:28,521 - BaseballTools - WARNING - No valid glove detection sequences found\n"
          ]
        },
        {
          "output_type": "stream",
          "name": "stderr",
          "text": [
            "WARNING:BaseballTools:No valid glove detection sequences found\n"
          ]
        },
        {
          "output_type": "stream",
          "name": "stdout",
          "text": [
            "2025-04-11 22:12:28,674 - BaseballTools - WARNING - No valid glove detection sequences found\n"
          ]
        },
        {
          "output_type": "stream",
          "name": "stderr",
          "text": [
            "WARNING:BaseballTools:No valid glove detection sequences found\n"
          ]
        },
        {
          "output_type": "stream",
          "name": "stdout",
          "text": [
            "2025-04-11 22:12:28,830 - BaseballTools - WARNING - No valid glove detection sequences found\n"
          ]
        },
        {
          "output_type": "stream",
          "name": "stderr",
          "text": [
            "WARNING:BaseballTools:No valid glove detection sequences found\n"
          ]
        },
        {
          "output_type": "stream",
          "name": "stdout",
          "text": [
            "2025-04-11 22:12:28,982 - BaseballTools - WARNING - No valid glove detection sequences found\n"
          ]
        },
        {
          "output_type": "stream",
          "name": "stderr",
          "text": [
            "WARNING:BaseballTools:No valid glove detection sequences found\n"
          ]
        },
        {
          "output_type": "stream",
          "name": "stdout",
          "text": [
            "2025-04-11 22:12:31,872 - BaseballTools - INFO - Tracking data saved to glove_tracking_results/tracked_745844_89a91cab-2940-4887-9f05-016e5f15d638_tracking.csv with 380 frames\n"
          ]
        },
        {
          "output_type": "stream",
          "name": "stderr",
          "text": [
            "INFO:BaseballTools:Tracking data saved to glove_tracking_results/tracked_745844_89a91cab-2940-4887-9f05-016e5f15d638_tracking.csv with 380 frames\n"
          ]
        },
        {
          "output_type": "stream",
          "name": "stdout",
          "text": [
            "2025-04-11 22:12:31,878 - BaseballTools - INFO - Processed coordinates: 21 frames, Interpolated: 10 frames\n"
          ]
        },
        {
          "output_type": "stream",
          "name": "stderr",
          "text": [
            "INFO:BaseballTools:Processed coordinates: 21 frames, Interpolated: 10 frames\n"
          ]
        },
        {
          "output_type": "stream",
          "name": "stdout",
          "text": [
            "2025-04-11 22:12:31,881 - BaseballTools - INFO - CSV file saved successfully at glove_tracking_results/tracked_745844_89a91cab-2940-4887-9f05-016e5f15d638_tracking.csv\n"
          ]
        },
        {
          "output_type": "stream",
          "name": "stderr",
          "text": [
            "INFO:BaseballTools:CSV file saved successfully at glove_tracking_results/tracked_745844_89a91cab-2940-4887-9f05-016e5f15d638_tracking.csv\n"
          ]
        },
        {
          "output_type": "stream",
          "name": "stdout",
          "text": [
            "2025-04-11 22:12:31,884 - BaseballTools - INFO - Tracking completed. Output video saved to glove_tracking_results/tracked_745844_89a91cab-2940-4887-9f05-016e5f15d638.mp4\n"
          ]
        },
        {
          "output_type": "stream",
          "name": "stderr",
          "text": [
            "INFO:BaseballTools:Tracking completed. Output video saved to glove_tracking_results/tracked_745844_89a91cab-2940-4887-9f05-016e5f15d638.mp4\n"
          ]
        },
        {
          "output_type": "stream",
          "name": "stdout",
          "text": [
            "2025-04-11 22:12:31,887 - BaseballTools - INFO - Tracking data saved to glove_tracking_results/tracked_745844_89a91cab-2940-4887-9f05-016e5f15d638_tracking.csv\n"
          ]
        },
        {
          "output_type": "stream",
          "name": "stderr",
          "text": [
            "INFO:BaseballTools:Tracking data saved to glove_tracking_results/tracked_745844_89a91cab-2940-4887-9f05-016e5f15d638_tracking.csv\n",
            "Series.fillna with 'method' is deprecated and will raise in a future version. Use obj.ffill() or obj.bfill() instead.\n",
            "Series.fillna with 'method' is deprecated and will raise in a future version. Use obj.ffill() or obj.bfill() instead.\n"
          ]
        },
        {
          "output_type": "stream",
          "name": "stdout",
          "text": [
            "2025-04-11 22:12:32,507 - BaseballTools - INFO - Glove heatmap saved to glove_tracking_results/glove_heatmap_745844_89a91cab-2940-4887-9f05-016e5f15d638.png\n"
          ]
        },
        {
          "output_type": "stream",
          "name": "stderr",
          "text": [
            "INFO:BaseballTools:Glove heatmap saved to glove_tracking_results/glove_heatmap_745844_89a91cab-2940-4887-9f05-016e5f15d638.png\n"
          ]
        },
        {
          "output_type": "stream",
          "name": "stdout",
          "text": [
            "2025-04-11 22:12:32,511 - BaseballTools - INFO - Glove heatmap saved to glove_tracking_results/glove_heatmap_745844_89a91cab-2940-4887-9f05-016e5f15d638.png\n"
          ]
        },
        {
          "output_type": "stream",
          "name": "stderr",
          "text": [
            "INFO:BaseballTools:Glove heatmap saved to glove_tracking_results/glove_heatmap_745844_89a91cab-2940-4887-9f05-016e5f15d638.png\n"
          ]
        },
        {
          "output_type": "stream",
          "name": "stdout",
          "text": [
            "2025-04-11 22:12:32,535 - BaseballTools - INFO - Deleted video: 745844_89a91cab-2940-4887-9f05-016e5f15d638.mp4\n"
          ]
        },
        {
          "output_type": "stream",
          "name": "stderr",
          "text": [
            "INFO:BaseballTools:Deleted video: 745844_89a91cab-2940-4887-9f05-016e5f15d638.mp4\n"
          ]
        }
      ],
      "source": [
        "# Ask if the user wants to run the scraper\n",
        "run_scrape = input(\"\\nDo you want to run the scraper to download and analyze MLB videos? (y/n): \")\n",
        "if run_scrape.lower() == 'y':\n",
        "    # Process videos in scrape mode\n",
        "    scrape_result = baseball_tools.track_gloves(\n",
        "        mode=\"scrape\",                  # Download and process MLB videos\n",
        "        start_date=\"2024-04-01\",        # Start date for video search\n",
        "        end_date=\"2024-04-02\",          # End date for video search\n",
        "        team_abbr=None,                 # Optional: filter by team abbreviation (e.g., 'NYY')\n",
        "        player=None,                    # Optional: filter by player ID\n",
        "        pitch_type=None,                # Optional: filter by pitch type (e.g., 'FF' for four-seam fastball)\n",
        "        max_videos=3,                   # Maximum number of videos to download\n",
        "        max_videos_per_game=1,          # Maximum videos per game\n",
        "        delete_after_processing=True,   # Delete downloaded videos after processing\n",
        "        skip_confirmation=True,         # Skip deletion confirmation\n",
        "        confidence_threshold=0.25,      # Minimum confidence for detections\n",
        "        enable_filtering=True,          # Filter out physically impossible movements\n",
        "        show_plot=True,                 # Include 2D tracking plot in output videos\n",
        "        generate_heatmap=True,          # Generate heatmaps\n",
        "        create_video=True,              # Create annotated output videos\n",
        "        max_workers=2                   # Number of parallel workers\n",
        "    )\n",
        "\n",
        "    print(f\"Processed {scrape_result.get('processed_videos', 0)} videos\")\n",
        "    print(f\"Combined tracking data saved to: {scrape_result.get('combined_csv', 'N/A')}\")\n",
        "    print(f\"Summary file saved to: {scrape_result.get('summary_file', 'N/A')}\")\n",
        "    print(f\"Combined heatmap saved to: {scrape_result.get('combined_heatmap', 'N/A')}\")\n",
        "\n",
        "    # Display scrape-specific info\n",
        "    if 'scrape_info' in scrape_result:\n",
        "        print(\"\\nScrape Information:\")\n",
        "        for key, value in scrape_result['scrape_info'].items():\n",
        "            print(f\"  {key}: {value}\")\n",
        "\n",
        "    # Analyze the scraped data if available\n",
        "    if 'combined_csv' in scrape_result and os.path.exists(scrape_result['combined_csv']):\n",
        "        try:\n",
        "            combined_df = pd.read_csv(scrape_result['combined_csv'])\n",
        "\n",
        "            # Extract Statcast data columns (they start with 'statcast_')\n",
        "            statcast_columns = [col for col in combined_df.columns if col.startswith('statcast_')]\n",
        "\n",
        "            if statcast_columns:\n",
        "                print(\"\\nStatcast data available in the tracking results:\")\n",
        "                display(combined_df[statcast_columns].head())\n",
        "\n",
        "                # If pitch type data is available, analyze glove position by pitch type\n",
        "                if 'statcast_pitch_type' in combined_df.columns:\n",
        "                    pitch_groups = combined_df.groupby('statcast_pitch_type')\n",
        "\n",
        "                    print(\"\\nAverage glove position by pitch type:\")\n",
        "                    avg_positions = pitch_groups.agg({\n",
        "                        'glove_real_x': 'mean',\n",
        "                        'glove_real_y': 'mean'\n",
        "                    })\n",
        "                    display(avg_positions)\n",
        "\n",
        "                    # Visualize average glove position by pitch type\n",
        "                    plt.figure(figsize=(8, 8))\n",
        "                    for pitch_type, group in pitch_groups:\n",
        "                        if not pd.isna(pitch_type) and len(group) > 5:  # Only plot if we have enough data\n",
        "                            plt.scatter(group['glove_real_x'].mean(),\n",
        "                                      group['glove_real_y'].mean(),\n",
        "                                      s=200,\n",
        "                                      label=pitch_type)\n",
        "\n",
        "                    # Draw home plate\n",
        "                    home_plate_shape = np.array([[-8.5, 0], [8.5, 0], [0, 8.5], [-8.5, 0]])\n",
        "                    plt.fill(home_plate_shape[:, 0], home_plate_shape[:, 1], color='gray', alpha=0.5)\n",
        "\n",
        "                    plt.xlim(-30, 30)\n",
        "                    plt.ylim(-5, 40)\n",
        "                    plt.xlabel('X Position (inches from home plate)')\n",
        "                    plt.ylabel('Y Position (inches from home plate)')\n",
        "                    plt.title('Average Glove Position by Pitch Type')\n",
        "                    plt.grid(True)\n",
        "                    plt.legend()\n",
        "                    plt.show()\n",
        "\n",
        "        except Exception as e:\n",
        "            print(f\"Unable to analyze combined data: {e}\")"
      ]
    },
    {
      "cell_type": "markdown",
      "metadata": {
        "id": "tnVDtDgH1oAz"
      },
      "source": [
        "### Benefits of video scraping:\n",
        "\n",
        "1. **MLB Data Integration**: The scraper automatically integrates Statcast pitch data with glove tracking, allowing for analysis by pitch type, velocity, etc.\n",
        "\n",
        "2. **Broad Analysis**: Easily analyze multiple games, teams, or players without manually downloading videos.\n",
        "\n",
        "3. **Research**: Facilitates research on MLB catcher techniques and patterns."
      ]
    },
    {
      "cell_type": "markdown",
      "metadata": {
        "id": "1BDk5UCL1oA4"
      },
      "source": [
        "In this notebook, we've explored the capabilities of BaseballCV's GloveTracker for analyzing catcher glove movement and positioning. This technology enables detailed analysis of catcher technique, which can provide valuable insights for player development, scouting, and game strategy.\n",
        "\n",
        "By processing videos with the GloveTracker, you can quantify aspects of catching that were previously only available through subjective observation. The resulting data and visualizations help coaches and players understand patterns and make data-driven improvements to technique and strategy."
      ]
    }
  ],
  "metadata": {
    "accelerator": "GPU",
    "colab": {
      "gpuType": "L4",
      "machine_shape": "hm",
      "provenance": []
    },
    "kernelspec": {
      "display_name": "Python 3",
      "language": "python",
      "name": "python3"
    },
    "language_info": {
      "codemirror_mode": {
        "name": "ipython",
        "version": 3
      },
      "file_extension": ".py",
      "mimetype": "text/x-python",
      "name": "python",
      "nbconvert_exporter": "python",
      "pygments_lexer": "ipython3",
      "version": "3.8.5"
    }
  },
  "nbformat": 4,
  "nbformat_minor": 0
}