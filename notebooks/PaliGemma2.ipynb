{
  "nbformat": 4,
  "nbformat_minor": 0,
  "metadata": {
    "colab": {
      "provenance": [],
      "machine_shape": "hm",
      "gpuType": "A100"
    },
    "kernelspec": {
      "name": "python3",
      "display_name": "Python 3"
    },
    "language_info": {
      "name": "python"
    },
    "accelerator": "GPU"
  },
  "cells": [
    {
      "cell_type": "markdown",
      "source": [
        "#**PaliGemma2 Demo Notebook**\n",
        "\n",
        "\n",
        "---\n",
        "This notebook demonstrates how to use the PaliGemma2 class for computer vision tasks, specifically using the ball dataset.\n",
        "## Pre-work\n",
        "Let's make sure that we have access to GPU."
      ],
      "metadata": {
        "id": "jshmH6orDyvw"
      }
    },
    {
      "cell_type": "code",
      "execution_count": null,
      "metadata": {
        "id": "SsjN79ksDyED"
      },
      "outputs": [],
      "source": [
        "!nvidia-smi"
      ]
    },
    {
      "cell_type": "markdown",
      "source": [
        "## Mount Google Drive"
      ],
      "metadata": {
        "id": "1_jWXsncE7ts"
      }
    },
    {
      "cell_type": "code",
      "source": [
        "from google.colab import drive\n",
        "drive.mount('/content/drive')"
      ],
      "metadata": {
        "id": "Qd9_0DiSFCt4"
      },
      "execution_count": null,
      "outputs": []
    },
    {
      "cell_type": "markdown",
      "source": [
        "##Create a work directory and cd into it."
      ],
      "metadata": {
        "id": "KTmzjEKcFLtM"
      }
    },
    {
      "cell_type": "code",
      "source": [
        "import os\n",
        "working_dir = \"paligemma2\"\n",
        "working_path = os.path.join('/content/drive/MyDrive', working_dir)\n",
        "os.makedirs(working_path, exist_ok=True)\n",
        "\n",
        "# Change directory to the working directory\n",
        "%cd {working_path}"
      ],
      "metadata": {
        "id": "cBm2xWPgFG7D"
      },
      "execution_count": null,
      "outputs": []
    },
    {
      "cell_type": "markdown",
      "source": [
        "## Clone BaseballCV Repo"
      ],
      "metadata": {
        "id": "NXYlk92zFkz8"
      }
    },
    {
      "cell_type": "code",
      "source": [
        "!git clone -b 68-add-paligemma2-class-and-notebook https://github.com/dylandru/BaseballCV.git"
      ],
      "metadata": {
        "id": "ysnK9VVGFm4t"
      },
      "execution_count": null,
      "outputs": []
    },
    {
      "cell_type": "markdown",
      "source": [
        "#Set as Current Directory and install requirements for BaseballCV"
      ],
      "metadata": {
        "id": "skYI5m5SFo4s"
      }
    },
    {
      "cell_type": "code",
      "source": [
        "%cd BaseballCV\n",
        "!pip install -r requirements.txt"
      ],
      "metadata": {
        "id": "Wo3GLq9NFzm7"
      },
      "execution_count": null,
      "outputs": []
    },
    {
      "cell_type": "markdown",
      "source": [
        "##Due to needing to restart the session after the previous step, we need to redo this:"
      ],
      "metadata": {
        "id": "UbYHPy8mF8_p"
      }
    },
    {
      "cell_type": "code",
      "source": [
        "import os\n",
        "working_dir = \"paligemma2\"\n",
        "working_path = os.path.join('/content/drive/MyDrive', working_dir)\n",
        "os.makedirs(working_path, exist_ok=True)\n",
        "\n",
        "# Change directory to the working directory\n",
        "%cd {working_path}\n",
        "%cd BaseballCV"
      ],
      "metadata": {
        "id": "eu6q0wzqGIq3"
      },
      "execution_count": null,
      "outputs": []
    },
    {
      "cell_type": "markdown",
      "source": [
        "#Initialize PaliGemma2 Model\n",
        "\n",
        "\n",
        "---\n",
        "##Now let's initialize our PaliGemma2 model:\n",
        "\n",
        "*(You will need a HuggingFace token, and need to added to the Secrets section - the \"key\" section on the left -  by the name \"HF_TOKEN\". You also need to ask permision to use the paligemma model at: https://huggingface.co/google/paligemma2-3b-pt-224)*\n"
      ],
      "metadata": {
        "id": "L8yCur7qGO9q"
      }
    },
    {
      "cell_type": "code",
      "source": [
        "from scripts.model_classes.paligemma2 import PaliGemma2\n",
        "from datetime import datetime\n",
        "from google.colab import userdata\n",
        "from huggingface_hub import login, hf_hub_download\n",
        "\n",
        "HF_TOKEN = userdata.get('HF_TOKEN') or os.environ.get('HF_TOKEN')\n",
        "\n",
        "# Log in to Hugging Face Hub\n",
        "if HF_TOKEN:\n",
        "  login(token=HF_TOKEN)\n",
        "else:\n",
        "  print(\"Warning: HF_TOKEN not found. You may need to request access to the model manually.\")\n",
        "\n",
        "\n",
        "# Initialize the model\n",
        "batch_size=4\n",
        "model = PaliGemma2(batch_size=batch_size)\n"
      ],
      "metadata": {
        "id": "sCpsdediGmBi"
      },
      "execution_count": null,
      "outputs": []
    },
    {
      "cell_type": "markdown",
      "source": [
        "##Let's load the ball dataset:"
      ],
      "metadata": {
        "id": "VUMglF2vGr96"
      }
    },
    {
      "cell_type": "code",
      "source": [
        "from scripts.load_tools import LoadTools\n",
        "\n",
        "# Initialize LoadTools\n",
        "load_tools = LoadTools()\n",
        "\n",
        "# Load the ball dataset\n",
        "dataset_path = load_tools.load_dataset('baseball')\n",
        "\n",
        "# Define classes for the ball dataset\n",
        "classes = {\n",
        "    2: \"baseball\"\n",
        "}"
      ],
      "metadata": {
        "id": "ROY0fRHcG6pr"
      },
      "execution_count": null,
      "outputs": []
    },
    {
      "cell_type": "markdown",
      "source": [
        "# Fine-tuning\n",
        "\n",
        "\n",
        "---\n",
        "\n",
        "\n",
        "## Let's fine-tune the model on the ball dataset:"
      ],
      "metadata": {
        "id": "8a0Il2-bQIoV"
      }
    },
    {
      "cell_type": "code",
      "source": [
        "# Fine-tune the model\n",
        "training_results = model.finetune(\n",
        "    dataset=dataset_path,\n",
        "    classes=classes,\n",
        "    train_test_split=(80, 10, 10),\n",
        "    epochs=1,  # 1 epochs for brevity\n",
        "    lr=1e-06,\n",
        "    save_dir=\"model_checkpoints\",\n",
        "    num_workers=4,\n",
        "    lora_r=8,\n",
        "    lora_scaling=12,\n",
        "    lora_dropout=0.05\n",
        ")\n",
        "\n",
        "print(\"Training Results:\")\n",
        "print(f\"Best Metric: {training_results['best_metric']}\")\n",
        "print(f\"Final Training Loss: {training_results['final_train_loss']}\")\n",
        "print(f\"Final Validation Loss: {training_results['final_val_loss']}\")\n",
        "print(f\"Model saved at: {training_results['model_path']}\")"
      ],
      "metadata": {
        "id": "gsD2nwMSQOiW"
      },
      "execution_count": null,
      "outputs": []
    },
    {
      "cell_type": "markdown",
      "source": [
        "# Evaluation\n",
        "\n",
        "\n",
        "---\n",
        "\n",
        "\n",
        "## Let's evaluate the model's performance:"
      ],
      "metadata": {
        "id": "6m7i6L3MQbt1"
      }
    },
    {
      "cell_type": "code",
      "source": [
        "# Evaluate the model\n",
        "evaluation_results = model.evaluate(\n",
        "    base_path=dataset_path,\n",
        "    classes=classes,\n",
        "    num_workers=4\n",
        ")\n",
        "\n",
        "print(\"\\nEvaluation Results:\")\n",
        "print(f\"mAP: {evaluation_results.map50}\")\n",
        "print(f\"mAP@50:95: {evaluation_results.map}\")"
      ],
      "metadata": {
        "id": "ORU6XRnDQfPd"
      },
      "execution_count": null,
      "outputs": []
    },
    {
      "cell_type": "markdown",
      "source": [
        "# Visualizing Results with TensorBoard\n",
        "\n",
        "\n",
        "---\n",
        "\n",
        "\n",
        "## You can visualize the training metrics using TensorBoard:"
      ],
      "metadata": {
        "id": "i2n1xK7jcUTY"
      }
    },
    {
      "cell_type": "code",
      "source": [
        "# Load TensorBoard extension\n",
        "%load_ext tensorboard\n",
        "\n",
        "# Launch TensorBoard\n",
        "%tensorboard --logdir {training_results['tensorboard_dir']}"
      ],
      "metadata": {
        "id": "HFWVMBFXceW0"
      },
      "execution_count": null,
      "outputs": []
    }
  ]
}